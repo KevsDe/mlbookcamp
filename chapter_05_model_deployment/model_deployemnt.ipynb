{
 "cells": [
  {
   "cell_type": "code",
   "execution_count": 1,
   "id": "4463b5ad-1cd0-430e-aed6-24fafa0d85fd",
   "metadata": {},
   "outputs": [],
   "source": [
    "import pandas as pd\n",
    "import numpy as np\n",
    "import seaborn as sns\n",
    "from matplotlib import pyplot as plt\n",
    "%matplotlib inline\n",
    "from sklearn.model_selection import train_test_split\n",
    "from sklearn.feature_extraction import DictVectorizer\n",
    "from sklearn.linear_model import LogisticRegression\n",
    "from sklearn.metrics import roc_auc_score\n",
    "from sklearn.model_selection import KFold"
   ]
  },
  {
   "cell_type": "markdown",
   "id": "d3e5d354-4b22-4643-93f8-dec8f0df7d83",
   "metadata": {},
   "source": [
    "## Objective\n",
    "We want to retain customers by identifying those who are about to cancel their contract with the company and send them promotional messages,<br>\n",
    "offering discounts and other benefits, hoping that after receiving the benefits, they will stay with the company. On the other hand we don't want to <br>give promotions to all of our customers."
   ]
  },
  {
   "cell_type": "code",
   "execution_count": 2,
   "id": "c9ea5e3d-2bac-4ddf-94f9-ffa793c8cab9",
   "metadata": {},
   "outputs": [],
   "source": [
    "df = pd.read_csv('input/data.csv')\n",
    "df.TotalCharges = pd.to_numeric(df.TotalCharges, errors='coerce')\n",
    "df.TotalCharges = df.TotalCharges.fillna(0)\n",
    "df.Churn = (df.Churn == 'Yes').astype('uint8')\n",
    "df.SeniorCitizen = df.SeniorCitizen.astype('uint8')\n",
    "df.tenure = df.tenure.astype('uint16') \n",
    "df.MonthlyCharges = df.MonthlyCharges.astype('float32')\n",
    "df.columns = df.columns.str.lower().str.replace(' ', '_')\n",
    "string_columns = list(df.dtypes[df.dtypes.values == 'object'].index)\n",
    "for col in string_columns:\n",
    "    df[col] = df[col].str.lower().str.replace(' ', '_')\n",
    "    "
   ]
  },
  {
   "cell_type": "code",
   "execution_count": 3,
   "id": "3fcbb764-1134-4723-80ee-6e0eb02530f5",
   "metadata": {},
   "outputs": [],
   "source": [
    "df_train_full, df_test = train_test_split(df, test_size=0.2, random_state=11)\n",
    "df_train, df_val = train_test_split(df_train_full, test_size=0.25, random_state=11)\n",
    "df_train = df_train.reset_index(drop=True)\n",
    "df_val = df_val.reset_index(drop=True)\n",
    "df_test = df_test.reset_index(drop=True)\n",
    "df_train_full = df_train_full.reset_index(drop=True)\n",
    "y_train_full =  df_train_full.churn.values\n",
    "y_train = df_train['churn'].values\n",
    "y_val = df_val['churn'].values\n",
    "y_test = df_test.churn.values\n",
    "del df_train['churn']\n",
    "del df_val['churn']\n",
    "del df_test['churn']"
   ]
  },
  {
   "cell_type": "code",
   "execution_count": 4,
   "id": "b6761040-11b3-4b2e-9788-30fcf1405de1",
   "metadata": {},
   "outputs": [],
   "source": [
    "numerical = [ 'tenure', 'monthlycharges', 'totalcharges']\n",
    "categorical = ['gender',\n",
    "             'seniorcitizen',\n",
    "             'partner',\n",
    "             'dependents',\n",
    "             'phoneservice',\n",
    "             'multiplelines',\n",
    "             'internetservice',\n",
    "             'onlinesecurity',\n",
    "             'onlinebackup',\n",
    "             'deviceprotection',\n",
    "             'techsupport',\n",
    "             'streamingtv',\n",
    "             'streamingmovies',\n",
    "             'contract',\n",
    "             'paperlessbilling',\n",
    "             'paymentmethod']\n"
   ]
  },
  {
   "cell_type": "code",
   "execution_count": 5,
   "id": "e2c097ab-8a3a-4eaf-ba3b-234051787e31",
   "metadata": {},
   "outputs": [],
   "source": [
    "def train(df, y, C):\n",
    "    cat = df[categorical + numerical].to_dict(orient='records')\n",
    "    \n",
    "    dv = DictVectorizer(sparse=False)\n",
    "    dv.fit(cat)\n",
    "    \n",
    "    X = dv.transform(cat)\n",
    "    \n",
    "    model = LogisticRegression(solver='liblinear', C=C)\n",
    "    model.fit(X, y)\n",
    "    \n",
    "    return dv, model\n",
    "\n",
    "\n",
    "def predict(df, dv, model):\n",
    "    cat = df[categorical + numerical].to_dict(orient='records')\n",
    "    \n",
    "    X = dv.transform(cat)\n",
    "    y_pred = model.predict_proba(X)[:,1]\n",
    "    \n",
    "    return y_pred\n"
   ]
  },
  {
   "cell_type": "code",
   "execution_count": 6,
   "id": "911bdacd-97d2-4770-b942-7f6712a41e05",
   "metadata": {},
   "outputs": [
    {
     "name": "stdout",
     "output_type": "stream",
     "text": [
      "C= 0.001, AUC mean = 0.823, AUC std = 0.016\n",
      "C= 0.01, AUC mean = 0.840, AUC std = 0.012\n",
      "C= 0.1, AUC mean = 0.844, AUC std = 0.012\n",
      "C= 0.5, AUC mean = 0.844, AUC std = 0.012\n",
      "C= 1, AUC mean = 0.844, AUC std = 0.012\n",
      "C= 10, AUC mean = 0.844, AUC std = 0.012\n"
     ]
    }
   ],
   "source": [
    "nfolds = 5 \n",
    "kfold = KFold(n_splits=nfolds, shuffle=True, random_state=1)\n",
    "for C in [0.001, 0.01, 0.1, 0.5, 1, 10]:\n",
    "    aucs = []\n",
    "    for train_idx, val_idx in kfold.split(df_train_full):\n",
    "        df_train = df_train_full.iloc[train_idx]\n",
    "        df_val = df_train_full.iloc[val_idx]\n",
    "\n",
    "        y_train = df_train.churn.values\n",
    "        y_val = df_val.churn.values\n",
    "\n",
    "        dv, model = train(df_train, y_train, C=C)\n",
    "        y_pred = predict(df_val, dv, model)\n",
    "\n",
    "        auc = roc_auc_score(y_val, y_pred)\n",
    "        aucs.append(auc)\n",
    "    print(f'C= {C}, AUC mean = {np.mean(aucs):.3f}, AUC std = {np.std(aucs):.3f}')"
   ]
  },
  {
   "cell_type": "code",
   "execution_count": 7,
   "id": "30ffbe6c-9423-4d39-84d2-6e5aa0532be5",
   "metadata": {},
   "outputs": [
    {
     "name": "stdout",
     "output_type": "stream",
     "text": [
      "AUC = 0.852\n"
     ]
    }
   ],
   "source": [
    "dv, model = train(df_train_full, y_train_full, C=0.1)\n",
    "y_pred = predict(df_test, dv, model)\n",
    "auc = roc_auc_score(y_test, y_pred)\n",
    "print(f'AUC = {auc:.3f}') "
   ]
  },
  {
   "cell_type": "markdown",
   "id": "81816805-71d0-4135-92a7-350179796945",
   "metadata": {},
   "source": [
    "## Using the model"
   ]
  },
  {
   "cell_type": "markdown",
   "id": "bfb04176-2c8b-4f1b-b121-b2c3664e6a9c",
   "metadata": {},
   "source": [
    "* Function for predicting the probability of churn for a single customer"
   ]
  },
  {
   "cell_type": "code",
   "execution_count": 8,
   "id": "b719fcb8-4d35-45d0-ac70-4ca55c7dfcb4",
   "metadata": {},
   "outputs": [],
   "source": [
    "def predict_single(customer, dv, model):\n",
    "    X = dv.transform(customer)\n",
    "    y_pred = model.predict_proba(X)[:, 1]\n",
    "    return y_pred[0]"
   ]
  },
  {
   "cell_type": "code",
   "execution_count": 9,
   "id": "1cd48170-993c-409b-9fa5-0e9224cd9f13",
   "metadata": {},
   "outputs": [],
   "source": [
    "customer = df_test.iloc[0].to_dict()"
   ]
  },
  {
   "cell_type": "code",
   "execution_count": 10,
   "id": "b0c99d8a-11fc-497b-918a-dbf24495ad9f",
   "metadata": {},
   "outputs": [
    {
     "data": {
      "text/plain": [
       "{'customerid': '3398-fshon',\n",
       " 'gender': 'female',\n",
       " 'seniorcitizen': 1,\n",
       " 'partner': 'no',\n",
       " 'dependents': 'no',\n",
       " 'tenure': 12,\n",
       " 'phoneservice': 'yes',\n",
       " 'multiplelines': 'yes',\n",
       " 'internetservice': 'fiber_optic',\n",
       " 'onlinesecurity': 'no',\n",
       " 'onlinebackup': 'yes',\n",
       " 'deviceprotection': 'no',\n",
       " 'techsupport': 'no',\n",
       " 'streamingtv': 'yes',\n",
       " 'streamingmovies': 'no',\n",
       " 'contract': 'month-to-month',\n",
       " 'paperlessbilling': 'yes',\n",
       " 'paymentmethod': 'electronic_check',\n",
       " 'monthlycharges': 91.30000305175781,\n",
       " 'totalcharges': 1094.5}"
      ]
     },
     "execution_count": 10,
     "metadata": {},
     "output_type": "execute_result"
    }
   ],
   "source": [
    "customer"
   ]
  },
  {
   "cell_type": "code",
   "execution_count": 11,
   "id": "2f33eb46-60e9-467b-a13a-097e6b1559c1",
   "metadata": {},
   "outputs": [
    {
     "data": {
      "text/plain": [
       "0.7240885111288676"
      ]
     },
     "execution_count": 11,
     "metadata": {},
     "output_type": "execute_result"
    }
   ],
   "source": [
    "predict_single(customer, dv, model)"
   ]
  },
  {
   "cell_type": "markdown",
   "id": "d430a9c7-8bb5-4062-b249-d5c278acebde",
   "metadata": {},
   "source": [
    "## Using pickle to save and load the model"
   ]
  },
  {
   "cell_type": "code",
   "execution_count": 12,
   "id": "1c5a9772-8bfc-4761-9b29-970e3e85e085",
   "metadata": {},
   "outputs": [],
   "source": [
    "import pickle"
   ]
  },
  {
   "cell_type": "markdown",
   "id": "5a93a431-6a29-4bf7-932e-eead5621acff",
   "metadata": {},
   "source": [
    "* Saving the model"
   ]
  },
  {
   "cell_type": "code",
   "execution_count": 13,
   "id": "2ae0ad5f-a199-4ec0-8aef-db8a62bcc1a0",
   "metadata": {},
   "outputs": [],
   "source": [
    "with open ('churn-model.bin', 'wb') as f_out:\n",
    "    pickle.dump((dv,model), f_out)"
   ]
  },
  {
   "cell_type": "markdown",
   "id": "688e5c61-e763-4564-9114-c0719a457852",
   "metadata": {},
   "source": [
    "* Loading the model"
   ]
  },
  {
   "cell_type": "code",
   "execution_count": 14,
   "id": "00a0f995-3390-463d-a61c-2c1569a213d5",
   "metadata": {},
   "outputs": [],
   "source": [
    "with open('churn-model.bin', 'rb') as f_in:\n",
    "    dv, model = pickle.load(f_in)"
   ]
  },
  {
   "cell_type": "markdown",
   "id": "22d09c55-d2aa-4f7f-818f-fb9baed2b3d7",
   "metadata": {},
   "source": [
    "## Testing the web service"
   ]
  },
  {
   "cell_type": "code",
   "execution_count": 15,
   "id": "1893d644-6320-4bde-b684-74c278d57025",
   "metadata": {},
   "outputs": [],
   "source": [
    "import requests"
   ]
  },
  {
   "cell_type": "code",
   "execution_count": 16,
   "id": "b5090712-4f33-4694-9544-dcdf1dc5efb3",
   "metadata": {},
   "outputs": [],
   "source": [
    "url = 'http://localhost:9696/predict'"
   ]
  },
  {
   "cell_type": "code",
   "execution_count": 17,
   "id": "155bc1af-c9d7-4d47-88b8-18721c149422",
   "metadata": {},
   "outputs": [],
   "source": [
    "response = requests.post(url, json=customer)"
   ]
  },
  {
   "cell_type": "code",
   "execution_count": 18,
   "id": "8def9696-e9cc-46e5-94a6-17c7266d4079",
   "metadata": {},
   "outputs": [],
   "source": [
    "result = response.json()"
   ]
  },
  {
   "cell_type": "code",
   "execution_count": 19,
   "id": "c55705ac-1a7f-4d7a-bd90-6832d5e5d0d9",
   "metadata": {},
   "outputs": [
    {
     "data": {
      "text/plain": [
       "{'churn': True, 'churn_probability': 0.7240881673284846}"
      ]
     },
     "execution_count": 19,
     "metadata": {},
     "output_type": "execute_result"
    }
   ],
   "source": [
    "result"
   ]
  }
 ],
 "metadata": {
  "kernelspec": {
   "display_name": "Python 3 (ipykernel)",
   "language": "python",
   "name": "python3"
  },
  "language_info": {
   "codemirror_mode": {
    "name": "ipython",
    "version": 3
   },
   "file_extension": ".py",
   "mimetype": "text/x-python",
   "name": "python",
   "nbconvert_exporter": "python",
   "pygments_lexer": "ipython3",
   "version": "3.8.10"
  }
 },
 "nbformat": 4,
 "nbformat_minor": 5
}
