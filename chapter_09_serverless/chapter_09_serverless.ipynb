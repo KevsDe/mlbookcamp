{
 "cells": [
  {
   "cell_type": "code",
   "execution_count": 59,
   "id": "186742de-a40c-48ff-b712-e20698b3dd9c",
   "metadata": {
    "execution": {
     "iopub.execute_input": "2022-11-23T20:58:38.063988Z",
     "iopub.status.busy": "2022-11-23T20:58:38.063599Z",
     "iopub.status.idle": "2022-11-23T20:58:38.067228Z",
     "shell.execute_reply": "2022-11-23T20:58:38.066606Z",
     "shell.execute_reply.started": "2022-11-23T20:58:38.063966Z"
    },
    "tags": []
   },
   "outputs": [],
   "source": [
    "import numpy as np\n",
    "import tensorflow as tf\n",
    "from tensorflow import keras"
   ]
  },
  {
   "cell_type": "code",
   "execution_count": 5,
   "id": "1eb9921e-1734-4f34-a14e-3975165f000e",
   "metadata": {
    "execution": {
     "iopub.execute_input": "2022-11-23T20:35:51.670786Z",
     "iopub.status.busy": "2022-11-23T20:35:51.670410Z",
     "iopub.status.idle": "2022-11-23T20:35:52.514991Z",
     "shell.execute_reply": "2022-11-23T20:35:52.514183Z",
     "shell.execute_reply.started": "2022-11-23T20:35:51.670765Z"
    }
   },
   "outputs": [
    {
     "name": "stdout",
     "output_type": "stream",
     "text": [
      "Python 3.9.13\n"
     ]
    }
   ],
   "source": [
    "!python -V"
   ]
  },
  {
   "cell_type": "code",
   "execution_count": 7,
   "id": "8502a420-b26b-4f1c-8ab3-a6ea26982d45",
   "metadata": {
    "execution": {
     "iopub.execute_input": "2022-11-23T20:36:14.340460Z",
     "iopub.status.busy": "2022-11-23T20:36:14.340088Z",
     "iopub.status.idle": "2022-11-23T20:36:14.345857Z",
     "shell.execute_reply": "2022-11-23T20:36:14.345153Z",
     "shell.execute_reply.started": "2022-11-23T20:36:14.340439Z"
    },
    "tags": []
   },
   "outputs": [
    {
     "data": {
      "text/plain": [
       "'2.9.1'"
      ]
     },
     "execution_count": 7,
     "metadata": {},
     "output_type": "execute_result"
    }
   ],
   "source": [
    "tf.__version__"
   ]
  },
  {
   "cell_type": "code",
   "execution_count": 12,
   "id": "1d0a522f-5da3-4208-b933-e0873d64ad0f",
   "metadata": {
    "execution": {
     "iopub.execute_input": "2022-11-23T20:38:16.265333Z",
     "iopub.status.busy": "2022-11-23T20:38:16.264627Z",
     "iopub.status.idle": "2022-11-23T20:38:17.204085Z",
     "shell.execute_reply": "2022-11-23T20:38:17.203272Z",
     "shell.execute_reply.started": "2022-11-23T20:38:16.265303Z"
    },
    "tags": []
   },
   "outputs": [
    {
     "name": "stdout",
     "output_type": "stream",
     "text": [
      "--2022-11-23 20:38:16--  http://bit.ly/mlbookcamp-pants\n",
      "Resolving bit.ly (bit.ly)... 67.199.248.11, 67.199.248.10\n",
      "Connecting to bit.ly (bit.ly)|67.199.248.11|:80... connected.\n",
      "HTTP request sent, awaiting response... 301 Moved Permanently\n",
      "Location: https://raw.githubusercontent.com/alexeygrigorev/clothing-dataset-small/master/test/pants/4aabd82c-82e1-4181-a84d-d0c6e550d26d.jpg [following]\n",
      "--2022-11-23 20:38:17--  https://raw.githubusercontent.com/alexeygrigorev/clothing-dataset-small/master/test/pants/4aabd82c-82e1-4181-a84d-d0c6e550d26d.jpg\n",
      "Resolving raw.githubusercontent.com (raw.githubusercontent.com)... 185.199.111.133, 185.199.109.133, 185.199.108.133, ...\n",
      "Connecting to raw.githubusercontent.com (raw.githubusercontent.com)|185.199.111.133|:443... connected.\n",
      "HTTP request sent, awaiting response... 200 OK\n",
      "Length: 23048 (23K) [image/jpeg]\n",
      "Saving to: ‘pants.jpg’\n",
      "\n",
      "pants.jpg           100%[===================>]  22.51K  --.-KB/s    in 0.002s  \n",
      "\n",
      "2022-11-23 20:38:17 (9.78 MB/s) - ‘pants.jpg’ saved [23048/23048]\n",
      "\n"
     ]
    }
   ],
   "source": [
    "!wget http://bit.ly/mlbookcamp-pants -O pants.jpg"
   ]
  },
  {
   "cell_type": "code",
   "execution_count": 62,
   "id": "56647aa4-4989-4557-bbf1-a2ac00979411",
   "metadata": {
    "execution": {
     "iopub.execute_input": "2022-11-23T20:59:10.271805Z",
     "iopub.status.busy": "2022-11-23T20:59:10.271409Z",
     "iopub.status.idle": "2022-11-23T20:59:10.275938Z",
     "shell.execute_reply": "2022-11-23T20:59:10.275022Z",
     "shell.execute_reply.started": "2022-11-23T20:59:10.271780Z"
    },
    "tags": []
   },
   "outputs": [],
   "source": [
    "from tensorflow.keras.preprocessing.image import load_img\n",
    "from tensorflow.keras.applications.xception import preprocess_input"
   ]
  },
  {
   "cell_type": "code",
   "execution_count": 63,
   "id": "5e18da2d-7028-4ccb-9fa5-a62de9a0f7fe",
   "metadata": {
    "execution": {
     "iopub.execute_input": "2022-11-23T20:59:10.584672Z",
     "iopub.status.busy": "2022-11-23T20:59:10.584284Z",
     "iopub.status.idle": "2022-11-23T20:59:11.955792Z",
     "shell.execute_reply": "2022-11-23T20:59:11.955154Z",
     "shell.execute_reply.started": "2022-11-23T20:59:10.584649Z"
    }
   },
   "outputs": [],
   "source": [
    "model = keras.models.load_model('xception_v4_15_0.871.h5')"
   ]
  },
  {
   "cell_type": "code",
   "execution_count": 61,
   "id": "d9367f28-a14c-4c42-b2c4-313e35694e2d",
   "metadata": {
    "execution": {
     "iopub.execute_input": "2022-11-23T20:58:51.346718Z",
     "iopub.status.busy": "2022-11-23T20:58:51.346331Z",
     "iopub.status.idle": "2022-11-23T20:58:51.356143Z",
     "shell.execute_reply": "2022-11-23T20:58:51.355520Z",
     "shell.execute_reply.started": "2022-11-23T20:58:51.346694Z"
    },
    "tags": []
   },
   "outputs": [],
   "source": [
    "img = load_img('pants.jpg', target_size=(299,299))\n",
    "\n",
    "x = np.array(img)\n",
    "X = np.array([x])\n",
    "\n",
    "X = preprocess_input(X)"
   ]
  },
  {
   "cell_type": "code",
   "execution_count": 28,
   "id": "a093ca4b-8a61-4d8e-a238-bdbc5f9eef74",
   "metadata": {
    "execution": {
     "iopub.execute_input": "2022-11-23T20:41:33.619050Z",
     "iopub.status.busy": "2022-11-23T20:41:33.618674Z",
     "iopub.status.idle": "2022-11-23T20:41:33.623278Z",
     "shell.execute_reply": "2022-11-23T20:41:33.622671Z",
     "shell.execute_reply.started": "2022-11-23T20:41:33.619027Z"
    },
    "tags": []
   },
   "outputs": [
    {
     "data": {
      "text/plain": [
       "(1, 299, 299, 3)"
      ]
     },
     "execution_count": 28,
     "metadata": {},
     "output_type": "execute_result"
    }
   ],
   "source": [
    "X.shape"
   ]
  },
  {
   "cell_type": "code",
   "execution_count": 31,
   "id": "27cdde3d-2a4a-48c2-b4cb-f001280b9f22",
   "metadata": {
    "execution": {
     "iopub.execute_input": "2022-11-23T20:41:59.203411Z",
     "iopub.status.busy": "2022-11-23T20:41:59.203031Z",
     "iopub.status.idle": "2022-11-23T20:41:59.254056Z",
     "shell.execute_reply": "2022-11-23T20:41:59.253485Z",
     "shell.execute_reply.started": "2022-11-23T20:41:59.203390Z"
    },
    "tags": []
   },
   "outputs": [
    {
     "name": "stdout",
     "output_type": "stream",
     "text": [
      "1/1 [==============================] - 0s 21ms/step\n"
     ]
    }
   ],
   "source": [
    "preds = model.predict(X)"
   ]
  },
  {
   "cell_type": "code",
   "execution_count": 32,
   "id": "7e788777-f8a8-4fcf-8eb9-4a22b929141b",
   "metadata": {
    "execution": {
     "iopub.execute_input": "2022-11-23T20:42:21.198442Z",
     "iopub.status.busy": "2022-11-23T20:42:21.198075Z",
     "iopub.status.idle": "2022-11-23T20:42:21.202129Z",
     "shell.execute_reply": "2022-11-23T20:42:21.201345Z",
     "shell.execute_reply.started": "2022-11-23T20:42:21.198417Z"
    }
   },
   "outputs": [],
   "source": [
    "classes = ['dress','hat','longsleeve','outwear','pants','shirt','shoes','shorts','skirt','t-shirt']"
   ]
  },
  {
   "cell_type": "code",
   "execution_count": 33,
   "id": "4ab9eee1-6d03-42bd-aab9-3a159dc4ba6f",
   "metadata": {
    "execution": {
     "iopub.execute_input": "2022-11-23T20:42:23.866420Z",
     "iopub.status.busy": "2022-11-23T20:42:23.866055Z",
     "iopub.status.idle": "2022-11-23T20:42:23.871933Z",
     "shell.execute_reply": "2022-11-23T20:42:23.871174Z",
     "shell.execute_reply.started": "2022-11-23T20:42:23.866392Z"
    }
   },
   "outputs": [
    {
     "data": {
      "text/plain": [
       "{'dress': -2.6031165,\n",
       " 'hat': -7.704868,\n",
       " 'longsleeve': -0.21532209,\n",
       " 'outwear': -0.2442853,\n",
       " 'pants': 10.73538,\n",
       " 'shirt': -1.4546652,\n",
       " 'shoes': -4.4502616,\n",
       " 'shorts': 3.4037158,\n",
       " 'skirt': -3.2864554,\n",
       " 't-shirt': -6.1116776}"
      ]
     },
     "execution_count": 33,
     "metadata": {},
     "output_type": "execute_result"
    }
   ],
   "source": [
    "dict(zip(classes, preds[0]))"
   ]
  },
  {
   "cell_type": "markdown",
   "id": "e8d14e4d-e343-471e-a754-f3e8809a0a61",
   "metadata": {},
   "source": [
    "## Convert Keras to TF-Lite"
   ]
  },
  {
   "cell_type": "code",
   "execution_count": 38,
   "id": "f13d73d3-1e59-421c-968e-bbf58af91bf4",
   "metadata": {
    "execution": {
     "iopub.execute_input": "2022-11-23T20:49:29.905753Z",
     "iopub.status.busy": "2022-11-23T20:49:29.905372Z",
     "iopub.status.idle": "2022-11-23T20:49:56.998317Z",
     "shell.execute_reply": "2022-11-23T20:49:56.997602Z",
     "shell.execute_reply.started": "2022-11-23T20:49:29.905727Z"
    },
    "tags": []
   },
   "outputs": [
    {
     "name": "stderr",
     "output_type": "stream",
     "text": [
      "WARNING:absl:Found untraced functions such as _jit_compiled_convolution_op, _jit_compiled_convolution_op, _jit_compiled_convolution_op, _jit_compiled_convolution_op, _jit_compiled_convolution_op while saving (showing 5 of 40). These functions will not be directly callable after loading.\n"
     ]
    },
    {
     "name": "stdout",
     "output_type": "stream",
     "text": [
      "INFO:tensorflow:Assets written to: /tmp/tmpo243l2qb/assets\n"
     ]
    },
    {
     "name": "stderr",
     "output_type": "stream",
     "text": [
      "INFO:tensorflow:Assets written to: /tmp/tmpo243l2qb/assets\n",
      "2022-11-23 20:49:53.499392: W tensorflow/compiler/mlir/lite/python/tf_tfl_flatbuffer_helpers.cc:362] Ignored output_format.\n",
      "2022-11-23 20:49:53.499440: W tensorflow/compiler/mlir/lite/python/tf_tfl_flatbuffer_helpers.cc:365] Ignored drop_control_dependency.\n",
      "2022-11-23 20:49:53.499615: I tensorflow/cc/saved_model/reader.cc:43] Reading SavedModel from: /tmp/tmpo243l2qb\n",
      "2022-11-23 20:49:53.533031: I tensorflow/cc/saved_model/reader.cc:81] Reading meta graph with tags { serve }\n",
      "2022-11-23 20:49:53.533075: I tensorflow/cc/saved_model/reader.cc:122] Reading SavedModel debug info (if present) from: /tmp/tmpo243l2qb\n",
      "2022-11-23 20:49:53.660266: I tensorflow/cc/saved_model/loader.cc:228] Restoring SavedModel bundle.\n",
      "2022-11-23 20:49:54.233278: I tensorflow/cc/saved_model/loader.cc:212] Running initialization op on SavedModel bundle at path: /tmp/tmpo243l2qb\n",
      "2022-11-23 20:49:54.437553: I tensorflow/cc/saved_model/loader.cc:301] SavedModel load for tags { serve }; Status: success: OK. Took 937938 microseconds.\n"
     ]
    }
   ],
   "source": [
    "converter = tf.lite.TFLiteConverter.from_keras_model(model)\n",
    "tflite_model = converter.convert()\n",
    "\n",
    "with open('clothing_model.tflite', 'wb') as f:\n",
    "  f.write(tflite_model)"
   ]
  },
  {
   "cell_type": "code",
   "execution_count": 39,
   "id": "bb90f6bc-b1c2-4ca6-814f-5d0e4c33ca25",
   "metadata": {
    "execution": {
     "iopub.execute_input": "2022-11-23T20:51:07.851369Z",
     "iopub.status.busy": "2022-11-23T20:51:07.850998Z",
     "iopub.status.idle": "2022-11-23T20:51:07.854615Z",
     "shell.execute_reply": "2022-11-23T20:51:07.853970Z",
     "shell.execute_reply.started": "2022-11-23T20:51:07.851344Z"
    }
   },
   "outputs": [],
   "source": [
    "import tensorflow.lite as tflite"
   ]
  },
  {
   "cell_type": "code",
   "execution_count": 57,
   "id": "1f82b337-b73b-43b0-8351-6cbb6dadbe70",
   "metadata": {
    "execution": {
     "iopub.execute_input": "2022-11-23T20:56:45.098267Z",
     "iopub.status.busy": "2022-11-23T20:56:45.097893Z",
     "iopub.status.idle": "2022-11-23T20:56:45.172714Z",
     "shell.execute_reply": "2022-11-23T20:56:45.171938Z",
     "shell.execute_reply.started": "2022-11-23T20:56:45.098243Z"
    },
    "tags": []
   },
   "outputs": [],
   "source": [
    "interpreter = tflite.Interpreter(model_path='clothing_model.tflite')\n",
    "interpreter.allocate_tensors()\n",
    "\n",
    "input_index = interpreter.get_input_details()[0]['index']\n",
    "output_index = interpreter.get_output_details()[0]['index']"
   ]
  },
  {
   "cell_type": "code",
   "execution_count": 58,
   "id": "462fb599-2b30-4c03-a5f9-0bced9334635",
   "metadata": {
    "execution": {
     "iopub.execute_input": "2022-11-23T20:57:00.459754Z",
     "iopub.status.busy": "2022-11-23T20:57:00.459377Z",
     "iopub.status.idle": "2022-11-23T20:57:00.736279Z",
     "shell.execute_reply": "2022-11-23T20:57:00.735557Z",
     "shell.execute_reply.started": "2022-11-23T20:57:00.459732Z"
    },
    "tags": []
   },
   "outputs": [],
   "source": [
    "interpreter.set_tensor(input_index, X)\n",
    "interpreter.invoke()\n",
    "\n",
    "preds = interpreter.get_tensor(output_index)"
   ]
  },
  {
   "cell_type": "code",
   "execution_count": 56,
   "id": "11da894b-c7ef-4db0-a0c7-43c993003f16",
   "metadata": {
    "execution": {
     "iopub.execute_input": "2022-11-23T20:56:08.454664Z",
     "iopub.status.busy": "2022-11-23T20:56:08.454279Z",
     "iopub.status.idle": "2022-11-23T20:56:08.459878Z",
     "shell.execute_reply": "2022-11-23T20:56:08.459115Z",
     "shell.execute_reply.started": "2022-11-23T20:56:08.454642Z"
    }
   },
   "outputs": [
    {
     "data": {
      "text/plain": [
       "{'dress': -2.6031208,\n",
       " 'hat': -7.704869,\n",
       " 'longsleeve': -0.21532193,\n",
       " 'outwear': -0.2442839,\n",
       " 'pants': 10.735379,\n",
       " 'shirt': -1.4546633,\n",
       " 'shoes': -4.450262,\n",
       " 'shorts': 3.4037201,\n",
       " 'skirt': -3.2864566,\n",
       " 't-shirt': -6.11168}"
      ]
     },
     "execution_count": 56,
     "metadata": {},
     "output_type": "execute_result"
    }
   ],
   "source": [
    "dict(zip(classes, preds[0]))"
   ]
  },
  {
   "cell_type": "markdown",
   "id": "3c941f90-1377-4e92-b1bc-b54b8c093929",
   "metadata": {},
   "source": [
    "## Removing TF dependency"
   ]
  },
  {
   "cell_type": "code",
   "execution_count": 82,
   "id": "d25a5e4d-1a96-4c15-801e-c09838d473fa",
   "metadata": {
    "execution": {
     "iopub.execute_input": "2022-11-23T21:07:57.043909Z",
     "iopub.status.busy": "2022-11-23T21:07:57.043497Z",
     "iopub.status.idle": "2022-11-23T21:07:57.047555Z",
     "shell.execute_reply": "2022-11-23T21:07:57.046739Z",
     "shell.execute_reply.started": "2022-11-23T21:07:57.043885Z"
    },
    "tags": []
   },
   "outputs": [],
   "source": [
    "from PIL import Image"
   ]
  },
  {
   "cell_type": "code",
   "execution_count": 83,
   "id": "275ca8f9-7c81-44e3-a760-6091259f8749",
   "metadata": {
    "execution": {
     "iopub.execute_input": "2022-11-23T21:07:57.231914Z",
     "iopub.status.busy": "2022-11-23T21:07:57.231553Z",
     "iopub.status.idle": "2022-11-23T21:07:57.236115Z",
     "shell.execute_reply": "2022-11-23T21:07:57.235301Z",
     "shell.execute_reply.started": "2022-11-23T21:07:57.231892Z"
    },
    "tags": []
   },
   "outputs": [],
   "source": [
    "with Image.open('pants.jpg') as f:\n",
    "    img = img.resize((299,299), Image.Resampling.NEAREST)"
   ]
  },
  {
   "cell_type": "code",
   "execution_count": 84,
   "id": "e9c11b17-e05c-4c6a-a0d6-a6e1969181ba",
   "metadata": {
    "execution": {
     "iopub.execute_input": "2022-11-23T21:07:57.407385Z",
     "iopub.status.busy": "2022-11-23T21:07:57.407021Z",
     "iopub.status.idle": "2022-11-23T21:07:57.411057Z",
     "shell.execute_reply": "2022-11-23T21:07:57.410285Z",
     "shell.execute_reply.started": "2022-11-23T21:07:57.407363Z"
    },
    "tags": []
   },
   "outputs": [],
   "source": [
    "def preprocess_input(x):\n",
    "    x /= 127.5\n",
    "    x -= 1.\n",
    "    return x"
   ]
  },
  {
   "cell_type": "code",
   "execution_count": 85,
   "id": "7d10807d-fa58-496a-9d77-5812629f6f06",
   "metadata": {
    "execution": {
     "iopub.execute_input": "2022-11-23T21:07:57.556691Z",
     "iopub.status.busy": "2022-11-23T21:07:57.556345Z",
     "iopub.status.idle": "2022-11-23T21:07:57.564596Z",
     "shell.execute_reply": "2022-11-23T21:07:57.564032Z",
     "shell.execute_reply.started": "2022-11-23T21:07:57.556670Z"
    },
    "tags": []
   },
   "outputs": [],
   "source": [
    "img = load_img('pants.jpg', target_size=(299,299))\n",
    "\n",
    "x = np.array(img, dtype='float32')\n",
    "X = np.array([x])\n",
    "\n",
    "X = preprocess_input(X)"
   ]
  },
  {
   "cell_type": "code",
   "execution_count": 86,
   "id": "2f965db9-baef-44f3-b3e0-3e3547773c20",
   "metadata": {
    "execution": {
     "iopub.execute_input": "2022-11-23T21:07:57.735329Z",
     "iopub.status.busy": "2022-11-23T21:07:57.734535Z",
     "iopub.status.idle": "2022-11-23T21:07:58.000683Z",
     "shell.execute_reply": "2022-11-23T21:07:57.999943Z",
     "shell.execute_reply.started": "2022-11-23T21:07:57.735274Z"
    },
    "tags": []
   },
   "outputs": [],
   "source": [
    "interpreter.set_tensor(input_index, X)\n",
    "interpreter.invoke()\n",
    "\n",
    "preds = interpreter.get_tensor(output_index)"
   ]
  },
  {
   "cell_type": "code",
   "execution_count": 87,
   "id": "6e0b1b74-e4e0-4193-a8ac-b619c6606672",
   "metadata": {
    "execution": {
     "iopub.execute_input": "2022-11-23T21:07:58.002439Z",
     "iopub.status.busy": "2022-11-23T21:07:58.002109Z",
     "iopub.status.idle": "2022-11-23T21:07:58.006419Z",
     "shell.execute_reply": "2022-11-23T21:07:58.005686Z",
     "shell.execute_reply.started": "2022-11-23T21:07:58.002419Z"
    },
    "tags": []
   },
   "outputs": [],
   "source": [
    "classes = ['dress','hat','longsleeve','outwear','pants','shirt','shoes','shorts','skirt','t-shirt']"
   ]
  },
  {
   "cell_type": "code",
   "execution_count": 89,
   "id": "feba782b-2a99-4fb3-adf0-c282fa93ddd4",
   "metadata": {
    "execution": {
     "iopub.execute_input": "2022-11-23T21:08:02.227184Z",
     "iopub.status.busy": "2022-11-23T21:08:02.226792Z",
     "iopub.status.idle": "2022-11-23T21:08:02.232282Z",
     "shell.execute_reply": "2022-11-23T21:08:02.231630Z",
     "shell.execute_reply.started": "2022-11-23T21:08:02.227161Z"
    },
    "tags": []
   },
   "outputs": [
    {
     "data": {
      "text/plain": [
       "{'dress': -2.6031208,\n",
       " 'hat': -7.704869,\n",
       " 'longsleeve': -0.21532193,\n",
       " 'outwear': -0.2442839,\n",
       " 'pants': 10.735379,\n",
       " 'shirt': -1.4546633,\n",
       " 'shoes': -4.450262,\n",
       " 'shorts': 3.4037201,\n",
       " 'skirt': -3.2864566,\n",
       " 't-shirt': -6.11168}"
      ]
     },
     "execution_count": 89,
     "metadata": {},
     "output_type": "execute_result"
    }
   ],
   "source": [
    "dict(zip(classes, preds[0]))"
   ]
  },
  {
   "cell_type": "markdown",
   "id": "09ac4a7f-7135-47d7-8194-0dabc9cdfddb",
   "metadata": {},
   "source": [
    "## Simple way of doing it"
   ]
  },
  {
   "cell_type": "code",
   "execution_count": 2,
   "id": "7a038b18-1ec2-4e90-a56b-b812259362f4",
   "metadata": {
    "execution": {
     "iopub.execute_input": "2022-11-25T21:02:56.261199Z",
     "iopub.status.busy": "2022-11-25T21:02:56.260810Z",
     "iopub.status.idle": "2022-11-25T21:02:58.692720Z",
     "shell.execute_reply": "2022-11-25T21:02:58.691943Z",
     "shell.execute_reply.started": "2022-11-25T21:02:56.261171Z"
    },
    "tags": []
   },
   "outputs": [
    {
     "name": "stdout",
     "output_type": "stream",
     "text": [
      "Collecting keras-image-helper\n",
      "  Using cached keras_image_helper-0.0.1-py3-none-any.whl (4.6 kB)\n",
      "Requirement already satisfied: pillow in /opt/saturncloud/envs/saturn/lib/python3.9/site-packages (from keras-image-helper) (9.2.0)\n",
      "Requirement already satisfied: numpy in /opt/saturncloud/envs/saturn/lib/python3.9/site-packages (from keras-image-helper) (1.21.6)\n",
      "Installing collected packages: keras-image-helper\n",
      "Successfully installed keras-image-helper-0.0.1\n"
     ]
    }
   ],
   "source": [
    "!pip install keras-image-helper"
   ]
  },
  {
   "cell_type": "code",
   "execution_count": 1,
   "id": "6d028375-08fc-4a0e-9d87-fe450ee11007",
   "metadata": {
    "execution": {
     "iopub.execute_input": "2022-11-25T21:02:39.083763Z",
     "iopub.status.busy": "2022-11-25T21:02:39.083340Z",
     "iopub.status.idle": "2022-11-25T21:02:41.553523Z",
     "shell.execute_reply": "2022-11-25T21:02:41.552785Z",
     "shell.execute_reply.started": "2022-11-25T21:02:39.083695Z"
    },
    "tags": []
   },
   "outputs": [
    {
     "name": "stdout",
     "output_type": "stream",
     "text": [
      "Collecting tflite-runtime\n",
      "  Using cached tflite_runtime-2.10.0-cp39-cp39-manylinux2014_x86_64.whl (2.5 MB)\n",
      "Requirement already satisfied: numpy>=1.19.2 in /opt/saturncloud/envs/saturn/lib/python3.9/site-packages (from tflite-runtime) (1.21.6)\n",
      "Installing collected packages: tflite-runtime\n",
      "Successfully installed tflite-runtime-2.10.0\n"
     ]
    }
   ],
   "source": [
    "!pip install tflite-runtime"
   ]
  },
  {
   "cell_type": "code",
   "execution_count": 1,
   "id": "c878054c-dd3b-45c3-a579-6c6d43521b18",
   "metadata": {
    "execution": {
     "iopub.execute_input": "2022-11-23T21:33:23.511467Z",
     "iopub.status.busy": "2022-11-23T21:33:23.511200Z",
     "iopub.status.idle": "2022-11-23T21:33:23.598997Z",
     "shell.execute_reply": "2022-11-23T21:33:23.598354Z",
     "shell.execute_reply.started": "2022-11-23T21:33:23.511415Z"
    },
    "tags": []
   },
   "outputs": [],
   "source": [
    "#import tensorflow.lite as tflite\n",
    "import tflite_runtime.interpreter as tflite\n",
    "from keras_image_helper import create_preprocessor"
   ]
  },
  {
   "cell_type": "code",
   "execution_count": 3,
   "id": "938532f8-4d53-4905-8c07-172eea482f6f",
   "metadata": {
    "execution": {
     "iopub.execute_input": "2022-11-23T21:33:26.771948Z",
     "iopub.status.busy": "2022-11-23T21:33:26.771582Z",
     "iopub.status.idle": "2022-11-23T21:33:26.885431Z",
     "shell.execute_reply": "2022-11-23T21:33:26.884668Z",
     "shell.execute_reply.started": "2022-11-23T21:33:26.771925Z"
    },
    "tags": []
   },
   "outputs": [],
   "source": [
    "interpreter = tflite.Interpreter(model_path='clothing_model.tflite')\n",
    "interpreter.allocate_tensors()\n",
    "\n",
    "input_index = interpreter.get_input_details()[0]['index']\n",
    "output_index = interpreter.get_output_details()[0]['index']"
   ]
  },
  {
   "cell_type": "code",
   "execution_count": 4,
   "id": "fa52aa38-1e11-4b14-bf41-62cf5f033c02",
   "metadata": {
    "execution": {
     "iopub.execute_input": "2022-11-23T21:33:27.494999Z",
     "iopub.status.busy": "2022-11-23T21:33:27.494631Z",
     "iopub.status.idle": "2022-11-23T21:33:27.498660Z",
     "shell.execute_reply": "2022-11-23T21:33:27.497897Z",
     "shell.execute_reply.started": "2022-11-23T21:33:27.494976Z"
    },
    "tags": []
   },
   "outputs": [],
   "source": [
    "preprocessor = create_preprocessor('xception', target_size=(299,299))"
   ]
  },
  {
   "cell_type": "code",
   "execution_count": 5,
   "id": "8ec1403f-5804-4966-b1a8-302c5c466ea6",
   "metadata": {
    "execution": {
     "iopub.execute_input": "2022-11-23T21:33:27.728619Z",
     "iopub.status.busy": "2022-11-23T21:33:27.728242Z",
     "iopub.status.idle": "2022-11-23T21:33:27.944896Z",
     "shell.execute_reply": "2022-11-23T21:33:27.943992Z",
     "shell.execute_reply.started": "2022-11-23T21:33:27.728595Z"
    },
    "tags": []
   },
   "outputs": [],
   "source": [
    "url = 'http://bit.ly/mlbookcamp-pants'\n",
    "X=preprocessor.from_url(url)"
   ]
  },
  {
   "cell_type": "code",
   "execution_count": 6,
   "id": "6088a335-a396-46fa-963e-ef3bcefd55ea",
   "metadata": {
    "execution": {
     "iopub.execute_input": "2022-11-23T21:33:27.948479Z",
     "iopub.status.busy": "2022-11-23T21:33:27.946241Z",
     "iopub.status.idle": "2022-11-23T21:33:28.251028Z",
     "shell.execute_reply": "2022-11-23T21:33:28.250407Z",
     "shell.execute_reply.started": "2022-11-23T21:33:27.948443Z"
    },
    "tags": []
   },
   "outputs": [],
   "source": [
    "interpreter.set_tensor(input_index, X)\n",
    "interpreter.invoke()\n",
    "\n",
    "preds = interpreter.get_tensor(output_index)"
   ]
  },
  {
   "cell_type": "code",
   "execution_count": 7,
   "id": "d3d3d4f5-fe43-444c-84db-3b870f80dd3a",
   "metadata": {
    "execution": {
     "iopub.execute_input": "2022-11-23T21:33:28.252510Z",
     "iopub.status.busy": "2022-11-23T21:33:28.252219Z",
     "iopub.status.idle": "2022-11-23T21:33:28.256138Z",
     "shell.execute_reply": "2022-11-23T21:33:28.255392Z",
     "shell.execute_reply.started": "2022-11-23T21:33:28.252487Z"
    },
    "tags": []
   },
   "outputs": [],
   "source": [
    "classes = ['dress','hat','longsleeve','outwear','pants','shirt','shoes','shorts','skirt','t-shirt']"
   ]
  },
  {
   "cell_type": "code",
   "execution_count": 8,
   "id": "56a40cf6-2e7e-4cb7-a1eb-95db79996130",
   "metadata": {
    "execution": {
     "iopub.execute_input": "2022-11-23T21:33:28.297745Z",
     "iopub.status.busy": "2022-11-23T21:33:28.297482Z",
     "iopub.status.idle": "2022-11-23T21:33:28.306697Z",
     "shell.execute_reply": "2022-11-23T21:33:28.305999Z",
     "shell.execute_reply.started": "2022-11-23T21:33:28.297726Z"
    },
    "tags": []
   },
   "outputs": [
    {
     "data": {
      "text/plain": [
       "{'dress': -2.6031208,\n",
       " 'hat': -7.704869,\n",
       " 'longsleeve': -0.21532193,\n",
       " 'outwear': -0.2442839,\n",
       " 'pants': 10.735379,\n",
       " 'shirt': -1.4546633,\n",
       " 'shoes': -4.450262,\n",
       " 'shorts': 3.4037201,\n",
       " 'skirt': -3.2864566,\n",
       " 't-shirt': -6.11168}"
      ]
     },
     "execution_count": 8,
     "metadata": {},
     "output_type": "execute_result"
    }
   ],
   "source": [
    "dict(zip(classes, preds[0]))"
   ]
  }
 ],
 "metadata": {
  "kernelspec": {
   "display_name": "saturn (Python 3)",
   "language": "python",
   "name": "python3"
  },
  "language_info": {
   "codemirror_mode": {
    "name": "ipython",
    "version": 3
   },
   "file_extension": ".py",
   "mimetype": "text/x-python",
   "name": "python",
   "nbconvert_exporter": "python",
   "pygments_lexer": "ipython3",
   "version": "3.9.13"
  }
 },
 "nbformat": 4,
 "nbformat_minor": 5
}
