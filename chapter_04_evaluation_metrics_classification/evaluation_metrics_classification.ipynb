{
 "cells": [
  {
   "cell_type": "code",
   "execution_count": 1,
   "id": "4463b5ad-1cd0-430e-aed6-24fafa0d85fd",
   "metadata": {},
   "outputs": [],
   "source": [
    "import pandas as pd\n",
    "import numpy as np\n",
    "import seaborn as sns\n",
    "from matplotlib import pyplot as plt\n",
    "%matplotlib inline\n",
    "from sklearn.model_selection import train_test_split\n",
    "from sklearn.feature_extraction import DictVectorizer\n",
    "from sklearn.linear_model import LogisticRegression"
   ]
  },
  {
   "cell_type": "markdown",
   "id": "d3e5d354-4b22-4643-93f8-dec8f0df7d83",
   "metadata": {},
   "source": [
    "## Objective\n",
    "We want to retain customers by identifying those who are about to cancel their contract with the company and send them promotional messages,<br>\n",
    "offering discounts and other benefits, hoping that after receiving the benefits, they will stay with the company. On the other hand we don't want to <br>give promotions to all of our customers."
   ]
  },
  {
   "cell_type": "code",
   "execution_count": 2,
   "id": "c9ea5e3d-2bac-4ddf-94f9-ffa793c8cab9",
   "metadata": {},
   "outputs": [],
   "source": [
    "df = pd.read_csv('input/data.csv')\n",
    "df.TotalCharges = pd.to_numeric(df.TotalCharges, errors='coerce')\n",
    "df.TotalCharges = df.TotalCharges.fillna(0)\n",
    "df.Churn = (df.Churn == 'Yes').astype('uint8')\n",
    "df.SeniorCitizen = df.SeniorCitizen.astype('uint8')\n",
    "df.tenure = df.tenure.astype('uint16') \n",
    "df.MonthlyCharges = df.MonthlyCharges.astype('float32')\n",
    "df.columns = df.columns.str.lower().str.replace(' ', '_')\n",
    "string_columns = list(df.dtypes[df.dtypes.values == 'object'].index)\n",
    "for col in string_columns:\n",
    "    df[col] = df[col].str.lower().str.replace(' ', '_')\n",
    "    "
   ]
  },
  {
   "cell_type": "code",
   "execution_count": 3,
   "id": "3fcbb764-1134-4723-80ee-6e0eb02530f5",
   "metadata": {},
   "outputs": [],
   "source": [
    "df_train_full, df_test = train_test_split(df, test_size=0.2, random_state=11)\n",
    "df_train, df_val = train_test_split(df_train_full, test_size=0.25, random_state=11)\n",
    "df_train = df_train.reset_index(drop=True)\n",
    "df_val = df_val.reset_index(drop=True)\n",
    "df_test = df_test.reset_index(drop=True)\n",
    "df_train_full = df_train_full.reset_index(drop=True)\n",
    "y_train = df_train['churn'].values\n",
    "y_val = df_val['churn'].values\n",
    "y_test = df_test.churn.values\n",
    "del df_train['churn']\n",
    "del df_val['churn']\n",
    "del df_test['churn']"
   ]
  },
  {
   "cell_type": "code",
   "execution_count": 4,
   "id": "b6761040-11b3-4b2e-9788-30fcf1405de1",
   "metadata": {},
   "outputs": [],
   "source": [
    "numerical = [ 'tenure', 'monthlycharges', 'totalcharges']\n",
    "categorical = ['gender',\n",
    "             'seniorcitizen',\n",
    "             'partner',\n",
    "             'dependents',\n",
    "             'phoneservice',\n",
    "             'multiplelines',\n",
    "             'internetservice',\n",
    "             'onlinesecurity',\n",
    "             'onlinebackup',\n",
    "             'deviceprotection',\n",
    "             'techsupport',\n",
    "             'streamingtv',\n",
    "             'streamingmovies',\n",
    "             'contract',\n",
    "             'paperlessbilling',\n",
    "             'paymentmethod']\n"
   ]
  },
  {
   "cell_type": "code",
   "execution_count": 5,
   "id": "e2fbfa5d-ee84-45d7-bb72-9082a93d673f",
   "metadata": {},
   "outputs": [],
   "source": [
    "train_dict = df_train[categorical + numerical].to_dict(orient='records')\n",
    "dv = DictVectorizer(sparse=False)\n",
    "X_train = dv.fit_transform(train_dict)"
   ]
  },
  {
   "cell_type": "code",
   "execution_count": 6,
   "id": "faf59122-ca19-42c8-942a-20ed93e7576d",
   "metadata": {},
   "outputs": [
    {
     "data": {
      "text/html": [
       "<style>#sk-container-id-1 {color: black;background-color: white;}#sk-container-id-1 pre{padding: 0;}#sk-container-id-1 div.sk-toggleable {background-color: white;}#sk-container-id-1 label.sk-toggleable__label {cursor: pointer;display: block;width: 100%;margin-bottom: 0;padding: 0.3em;box-sizing: border-box;text-align: center;}#sk-container-id-1 label.sk-toggleable__label-arrow:before {content: \"▸\";float: left;margin-right: 0.25em;color: #696969;}#sk-container-id-1 label.sk-toggleable__label-arrow:hover:before {color: black;}#sk-container-id-1 div.sk-estimator:hover label.sk-toggleable__label-arrow:before {color: black;}#sk-container-id-1 div.sk-toggleable__content {max-height: 0;max-width: 0;overflow: hidden;text-align: left;background-color: #f0f8ff;}#sk-container-id-1 div.sk-toggleable__content pre {margin: 0.2em;color: black;border-radius: 0.25em;background-color: #f0f8ff;}#sk-container-id-1 input.sk-toggleable__control:checked~div.sk-toggleable__content {max-height: 200px;max-width: 100%;overflow: auto;}#sk-container-id-1 input.sk-toggleable__control:checked~label.sk-toggleable__label-arrow:before {content: \"▾\";}#sk-container-id-1 div.sk-estimator input.sk-toggleable__control:checked~label.sk-toggleable__label {background-color: #d4ebff;}#sk-container-id-1 div.sk-label input.sk-toggleable__control:checked~label.sk-toggleable__label {background-color: #d4ebff;}#sk-container-id-1 input.sk-hidden--visually {border: 0;clip: rect(1px 1px 1px 1px);clip: rect(1px, 1px, 1px, 1px);height: 1px;margin: -1px;overflow: hidden;padding: 0;position: absolute;width: 1px;}#sk-container-id-1 div.sk-estimator {font-family: monospace;background-color: #f0f8ff;border: 1px dotted black;border-radius: 0.25em;box-sizing: border-box;margin-bottom: 0.5em;}#sk-container-id-1 div.sk-estimator:hover {background-color: #d4ebff;}#sk-container-id-1 div.sk-parallel-item::after {content: \"\";width: 100%;border-bottom: 1px solid gray;flex-grow: 1;}#sk-container-id-1 div.sk-label:hover label.sk-toggleable__label {background-color: #d4ebff;}#sk-container-id-1 div.sk-serial::before {content: \"\";position: absolute;border-left: 1px solid gray;box-sizing: border-box;top: 0;bottom: 0;left: 50%;z-index: 0;}#sk-container-id-1 div.sk-serial {display: flex;flex-direction: column;align-items: center;background-color: white;padding-right: 0.2em;padding-left: 0.2em;position: relative;}#sk-container-id-1 div.sk-item {position: relative;z-index: 1;}#sk-container-id-1 div.sk-parallel {display: flex;align-items: stretch;justify-content: center;background-color: white;position: relative;}#sk-container-id-1 div.sk-item::before, #sk-container-id-1 div.sk-parallel-item::before {content: \"\";position: absolute;border-left: 1px solid gray;box-sizing: border-box;top: 0;bottom: 0;left: 50%;z-index: -1;}#sk-container-id-1 div.sk-parallel-item {display: flex;flex-direction: column;z-index: 1;position: relative;background-color: white;}#sk-container-id-1 div.sk-parallel-item:first-child::after {align-self: flex-end;width: 50%;}#sk-container-id-1 div.sk-parallel-item:last-child::after {align-self: flex-start;width: 50%;}#sk-container-id-1 div.sk-parallel-item:only-child::after {width: 0;}#sk-container-id-1 div.sk-dashed-wrapped {border: 1px dashed gray;margin: 0 0.4em 0.5em 0.4em;box-sizing: border-box;padding-bottom: 0.4em;background-color: white;}#sk-container-id-1 div.sk-label label {font-family: monospace;font-weight: bold;display: inline-block;line-height: 1.2em;}#sk-container-id-1 div.sk-label-container {text-align: center;}#sk-container-id-1 div.sk-container {/* jupyter's `normalize.less` sets `[hidden] { display: none; }` but bootstrap.min.css set `[hidden] { display: none !important; }` so we also need the `!important` here to be able to override the default hidden behavior on the sphinx rendered scikit-learn.org. See: https://github.com/scikit-learn/scikit-learn/issues/21755 */display: inline-block !important;position: relative;}#sk-container-id-1 div.sk-text-repr-fallback {display: none;}</style><div id=\"sk-container-id-1\" class=\"sk-top-container\"><div class=\"sk-text-repr-fallback\"><pre>LogisticRegression(solver=&#x27;liblinear&#x27;)</pre><b>In a Jupyter environment, please rerun this cell to show the HTML representation or trust the notebook. <br />On GitHub, the HTML representation is unable to render, please try loading this page with nbviewer.org.</b></div><div class=\"sk-container\" hidden><div class=\"sk-item\"><div class=\"sk-estimator sk-toggleable\"><input class=\"sk-toggleable__control sk-hidden--visually\" id=\"sk-estimator-id-1\" type=\"checkbox\" checked><label for=\"sk-estimator-id-1\" class=\"sk-toggleable__label sk-toggleable__label-arrow\">LogisticRegression</label><div class=\"sk-toggleable__content\"><pre>LogisticRegression(solver=&#x27;liblinear&#x27;)</pre></div></div></div></div></div>"
      ],
      "text/plain": [
       "LogisticRegression(solver='liblinear')"
      ]
     },
     "execution_count": 6,
     "metadata": {},
     "output_type": "execute_result"
    }
   ],
   "source": [
    "model = LogisticRegression(solver='liblinear')\n",
    "model.fit(X_train, y_train)"
   ]
  },
  {
   "cell_type": "code",
   "execution_count": 7,
   "id": "1b44ed07-fc8e-4d33-ac34-8fc9b9148468",
   "metadata": {},
   "outputs": [],
   "source": [
    "val_dict = df_val[categorical + numerical].to_dict(orient='records')\n",
    "X_val = dv.transform(val_dict)\n",
    "y_pred = model.predict_proba(X_val)[:,1]\n",
    "churn_decision = (y_pred >= 0.5)"
   ]
  },
  {
   "cell_type": "code",
   "execution_count": 8,
   "id": "37264107-9133-4e70-a7a7-5beb4b66061a",
   "metadata": {},
   "outputs": [
    {
     "name": "stdout",
     "output_type": "stream",
     "text": [
      "The accuracy of our model is 80.91 %\n"
     ]
    }
   ],
   "source": [
    "accuracy = (y_val == churn_decision).mean()\n",
    "print(f'The accuracy of our model is {accuracy * 100:.2f} %')"
   ]
  },
  {
   "cell_type": "markdown",
   "id": "738ca6d8-3bc5-4a4f-828f-bf5180b6e2a4",
   "metadata": {},
   "source": [
    "## Evaluation metrics\n",
    "* Metric: a function that looks at the predictions the model makes and compares them with the actual values.<br>Then based on the comparison, it calculates how good the model is."
   ]
  },
  {
   "cell_type": "code",
   "execution_count": 9,
   "id": "f757bd41-9e9d-4406-b3c4-11259b351b0c",
   "metadata": {},
   "outputs": [],
   "source": [
    "from sklearn.metrics import accuracy_score"
   ]
  },
  {
   "cell_type": "markdown",
   "id": "4543a062-87b5-423f-8dac-f0542751612c",
   "metadata": {},
   "source": [
    "## Accuracy and dummy model\n",
    "* The accuracy of a model is the fraction of predictions that turned out to be correct\n",
    "* Evaluate the model on different thresholds\n",
    "* Check the accuracy of dummy baselines"
   ]
  },
  {
   "cell_type": "code",
   "execution_count": 10,
   "id": "e4746698-b447-42d4-ba6c-3f9a6877644f",
   "metadata": {},
   "outputs": [],
   "source": [
    "y_pred = model.predict_proba(X_val)\n",
    "y_pred = y_pred[:,1]"
   ]
  },
  {
   "cell_type": "code",
   "execution_count": 11,
   "id": "ab55585e-5712-441d-9b67-ac92993a2ff9",
   "metadata": {},
   "outputs": [],
   "source": [
    "thresholds = np.linspace(0,1,11)\n",
    "accuracies = []"
   ]
  },
  {
   "cell_type": "code",
   "execution_count": 12,
   "id": "f82b8584-bb5f-4446-93ed-2c2445830f2a",
   "metadata": {},
   "outputs": [
    {
     "name": "stdout",
     "output_type": "stream",
     "text": [
      "The accuracy of thereshold 0.0 is 26.47 %\n",
      "The accuracy of thereshold 0.1 is 60.33 %\n",
      "The accuracy of thereshold 0.2 is 71.89 %\n",
      "The accuracy of thereshold 0.3 is 77.36 %\n",
      "The accuracy of thereshold 0.4 is 79.77 %\n",
      "The accuracy of thereshold 0.5 is 80.91 %\n",
      "The accuracy of thereshold 0.6 is 79.77 %\n",
      "The accuracy of thereshold 0.7 is 77.08 %\n",
      "The accuracy of thereshold 0.8 is 74.10 %\n",
      "The accuracy of thereshold 0.9 is 73.53 %\n",
      "The accuracy of thereshold 1.0 is 73.53 %\n"
     ]
    }
   ],
   "source": [
    "for t in thresholds:\n",
    "    churn = y_pred >= t\n",
    "    acc = accuracy_score(y_val, churn)\n",
    "    accuracies.append(acc)\n",
    "    print(f'The accuracy of thereshold {t:.1f} is {acc * 100:.2f} %')\n",
    "    "
   ]
  },
  {
   "cell_type": "markdown",
   "id": "0b931edf-f40c-4796-88b7-72a32196c0dc",
   "metadata": {},
   "source": [
    "Using the threshold of 0.5 gives us the best accuracy"
   ]
  },
  {
   "cell_type": "code",
   "execution_count": 13,
   "id": "c625f955-7cfd-4d0a-95fb-9aea8b6a505f",
   "metadata": {},
   "outputs": [
    {
     "data": {
      "image/png": "[encoded data removed]",
      "text/plain": [
       "<Figure size 640x480 with 1 Axes>"
      ]
     },
     "metadata": {},
     "output_type": "display_data"
    }
   ],
   "source": [
    "sns.lineplot(x=thresholds, y=accuracies)\n",
    "plt.title('Threshold vs Accuracy')\n",
    "plt.show()"
   ]
  },
  {
   "cell_type": "code",
   "execution_count": 14,
   "id": "d1014c95-ccf0-4135-8f4b-efa3cf30e1f6",
   "metadata": {},
   "outputs": [],
   "source": [
    "from collections import Counter"
   ]
  },
  {
   "cell_type": "code",
   "execution_count": 15,
   "id": "2c5ab191-b487-4bf2-ba21-f1d8e94d97c0",
   "metadata": {},
   "outputs": [
    {
     "data": {
      "text/plain": [
       "Counter({False: 1409})"
      ]
     },
     "execution_count": 15,
     "metadata": {},
     "output_type": "execute_result"
    }
   ],
   "source": [
    "# This line predicts all customers are no churning \n",
    "Counter(y_pred >= 1.0) "
   ]
  },
  {
   "cell_type": "markdown",
   "id": "cd9e9bd2-d88b-4830-8f8a-3ae6c9db992d",
   "metadata": {},
   "source": [
    "Dummy baseline"
   ]
  },
  {
   "cell_type": "code",
   "execution_count": 16,
   "id": "a795db75-3630-4ae2-aeea-b22e4b587198",
   "metadata": {},
   "outputs": [],
   "source": [
    "size_val = len(y_val)"
   ]
  },
  {
   "cell_type": "code",
   "execution_count": 17,
   "id": "2accaa80-8f2d-4ec3-96ea-974efdfe3b52",
   "metadata": {},
   "outputs": [],
   "source": [
    "baseline = np.repeat(False, size_val)"
   ]
  },
  {
   "cell_type": "markdown",
   "id": "9f5f335d-8815-4e04-94c5-ecde964e14dc",
   "metadata": {},
   "source": [
    "Checking the accuracy of the baseline predictions"
   ]
  },
  {
   "cell_type": "code",
   "execution_count": 18,
   "id": "a04cb74b-4e15-4cec-9d14-737e5997d846",
   "metadata": {},
   "outputs": [
    {
     "name": "stdout",
     "output_type": "stream",
     "text": [
      "The accuracy of the baseline is: 73.53 %\n"
     ]
    }
   ],
   "source": [
    "print(f'The accuracy of the baseline is: {accuracy_score(y_val, baseline)*100:.2f} %')"
   ]
  },
  {
   "cell_type": "markdown",
   "id": "3b49d19b-b6f6-4947-af7c-ac25693a8794",
   "metadata": {},
   "source": [
    "We have class imbalance, much more customers no churning"
   ]
  },
  {
   "cell_type": "code",
   "execution_count": 19,
   "id": "41ae30a9-174f-4d4d-82b6-f3fccbca5be9",
   "metadata": {},
   "outputs": [
    {
     "data": {
      "text/plain": [
       "Counter({0: 1036, 1: 373})"
      ]
     },
     "execution_count": 19,
     "metadata": {},
     "output_type": "execute_result"
    }
   ],
   "source": [
    "Counter(y_val)"
   ]
  },
  {
   "cell_type": "markdown",
   "id": "df5553f7-7a3e-49aa-8686-d16b12bbecc9",
   "metadata": {},
   "source": [
    "According to accuracy our model is slightly better than a dummy model that treats all the customers as non-churning. <br> Thus, we need other metrics of measuring the quality of the model"
   ]
  },
  {
   "cell_type": "markdown",
   "id": "273c78c5-0d97-496a-9619-6a758bff377b",
   "metadata": {},
   "source": [
    "## Confusion table\n",
    "* Confussion table: A table that concisely represents every possible outcome for our model's predictions\n",
    "* Different types of erors and correct decisions"
   ]
  },
  {
   "cell_type": "markdown",
   "id": "f8666b0c-6a9b-4a0f-a768-c477f680b6ef",
   "metadata": {},
   "source": [
    "Calculating the confusion table with numpy"
   ]
  },
  {
   "cell_type": "code",
   "execution_count": 20,
   "id": "11a92299-f952-4247-a3c2-896d55d0f4b6",
   "metadata": {},
   "outputs": [],
   "source": [
    "t = 0.5\n",
    "predict_churn = (y_pred >= t)\n",
    "predict_no_churn = (y_pred < t)"
   ]
  },
  {
   "cell_type": "code",
   "execution_count": 21,
   "id": "cf40863a-edb6-4722-84dd-3c219ac112da",
   "metadata": {},
   "outputs": [],
   "source": [
    "actual_churn = (y_val == 1)\n",
    "actual_no_churn = (y_val == 0)"
   ]
  },
  {
   "cell_type": "code",
   "execution_count": 22,
   "id": "1dc8ba22-bbf4-4ce7-9228-eb9aefc1eaf2",
   "metadata": {},
   "outputs": [],
   "source": [
    "true_positive = (predict_churn & actual_churn).sum()\n",
    "false_positive = (predict_churn & actual_no_churn).sum()"
   ]
  },
  {
   "cell_type": "code",
   "execution_count": 23,
   "id": "1b4db7f8-66f9-4bf7-9cc3-c64fbeaa6d02",
   "metadata": {},
   "outputs": [],
   "source": [
    "true_negative = (predict_no_churn & actual_no_churn).sum()\n",
    "false_negative = (predict_no_churn & actual_churn).sum()"
   ]
  },
  {
   "cell_type": "code",
   "execution_count": 24,
   "id": "ded55aee-f6b6-421c-bc3b-3c6d8a6d9390",
   "metadata": {},
   "outputs": [],
   "source": [
    "confusion_matrix = np.array(\n",
    "    [[true_negative, false_positive],\n",
    "    [false_negative, true_positive]])"
   ]
  },
  {
   "cell_type": "code",
   "execution_count": 25,
   "id": "1e673e69-6796-46dd-814e-f1234998964b",
   "metadata": {},
   "outputs": [
    {
     "data": {
      "text/plain": [
       "array([[941,  95],\n",
       "       [174, 199]])"
      ]
     },
     "execution_count": 25,
     "metadata": {},
     "output_type": "execute_result"
    }
   ],
   "source": [
    "confusion_matrix"
   ]
  },
  {
   "cell_type": "markdown",
   "id": "f375d2c1-50e0-4df1-9f46-a70ee7b66d48",
   "metadata": {},
   "source": [
    "Turning the absolute numbers into fractions (normalizing)"
   ]
  },
  {
   "cell_type": "code",
   "execution_count": 26,
   "id": "738c8b68-0ab5-40b8-99a8-5c50e2620885",
   "metadata": {},
   "outputs": [
    {
     "data": {
      "text/plain": [
       "array([[0.67, 0.07],\n",
       "       [0.12, 0.14]])"
      ]
     },
     "execution_count": 26,
     "metadata": {},
     "output_type": "execute_result"
    }
   ],
   "source": [
    "(confusion_matrix / confusion_matrix.sum()).round(2)"
   ]
  },
  {
   "cell_type": "markdown",
   "id": "29ec3435-45f0-4369-8810-4400496c3336",
   "metadata": {},
   "source": [
    "#### Summary\n",
    "* The performance of the model is not great it make quite a few errors when trying to identify users that will churn"
   ]
  },
  {
   "cell_type": "markdown",
   "id": "0e6902f2-f02b-4530-ba24-fe682ee95a40",
   "metadata": {},
   "source": [
    "##  Precision and recall\n",
    "* Precision: Is the fraction of correctly predicted positive examples\n",
    "* Recall: Is the fraction  of correctly classified positive examples among all positive examples"
   ]
  },
  {
   "cell_type": "code",
   "execution_count": 27,
   "id": "6ad6e92f-4c51-4081-99a8-695083e859d8",
   "metadata": {},
   "outputs": [],
   "source": [
    "precision = true_positive / (true_positive + false_positive)"
   ]
  },
  {
   "cell_type": "code",
   "execution_count": 28,
   "id": "83f0c4a6-a81a-4d09-b660-5dafbc557624",
   "metadata": {},
   "outputs": [
    {
     "name": "stdout",
     "output_type": "stream",
     "text": [
      "Precision of the model: 67.69%\n"
     ]
    }
   ],
   "source": [
    "print(f'Precision of the model: {precision*100:.2f}%')"
   ]
  },
  {
   "cell_type": "code",
   "execution_count": 29,
   "id": "a1f4063e-3289-4669-9878-9d3ece2f4e9b",
   "metadata": {},
   "outputs": [],
   "source": [
    "recall = true_positive / (true_positive + false_negative)"
   ]
  },
  {
   "cell_type": "code",
   "execution_count": 30,
   "id": "1bfe4c9a-5083-4a44-a676-db9c5b3728d6",
   "metadata": {},
   "outputs": [
    {
     "name": "stdout",
     "output_type": "stream",
     "text": [
      "Recall of the model: 53.35%\n"
     ]
    }
   ],
   "source": [
    "print(f'Recall of the model: {recall*100:.2f}%')"
   ]
  },
  {
   "cell_type": "markdown",
   "id": "82d0d18f-a000-4d74-97dd-c13e2d8fd68f",
   "metadata": {
    "tags": []
   },
   "source": [
    "## ROC Curve\n",
    "* It shows how well a model can seprate two classes, \"churn\" and \"nor churn\"\n",
    "* We need two metrics for ROC curves: TPR (True Positive Rate) and FPR (False Positive Rate)\n",
    "* False positive rate: The fraction of false positivies among all negative examples\n",
    "* True positive rate: The fraction of true positives among all positive examples"
   ]
  },
  {
   "cell_type": "markdown",
   "id": "7ce57e92-96e8-470f-b39e-4d04779cb68b",
   "metadata": {},
   "source": [
    "#### TPR and FPR"
   ]
  },
  {
   "cell_type": "code",
   "execution_count": 31,
   "id": "b8bcce81-8698-45bb-be90-e137a765d83f",
   "metadata": {},
   "outputs": [],
   "source": [
    "fpr = false_positive / (false_positive + true_negative)\n",
    "tpr = true_positive / (true_positive + false_negative)"
   ]
  },
  {
   "cell_type": "code",
   "execution_count": 32,
   "id": "3aa51468-5d84-49bc-be41-555a83eda4e5",
   "metadata": {},
   "outputs": [
    {
     "name": "stdout",
     "output_type": "stream",
     "text": [
      "FPR: 9.17% \n",
      "TPR 53.35%\n"
     ]
    }
   ],
   "source": [
    "print(f'FPR: {fpr*100:.2f}% \\nTPR {tpr*100:.2f}%')"
   ]
  },
  {
   "cell_type": "markdown",
   "id": "3ac8dcdc-415b-4261-b8e8-172289d86c1e",
   "metadata": {},
   "source": [
    "We still consider FPR and TPR metrics at only one threshold value, in our case, 0.5. To be able to use them for ROC curves, <br> we need to calculate these metrics for many different threshold values"
   ]
  },
  {
   "cell_type": "markdown",
   "id": "81839a50-6deb-406d-985e-d5ad690eb103",
   "metadata": {},
   "source": [
    "* Evaluating a model at multiple threshold"
   ]
  },
  {
   "cell_type": "code",
   "execution_count": 33,
   "id": "fe93f55a-8877-4978-a0cc-eb0c13be4c83",
   "metadata": {},
   "outputs": [],
   "source": [
    "scores = []"
   ]
  },
  {
   "cell_type": "code",
   "execution_count": 34,
   "id": "4539c0c4-b9c1-40f2-b222-bc4b81df3d89",
   "metadata": {},
   "outputs": [],
   "source": [
    "thresholds = np.linspace(0, 1, 101)"
   ]
  },
  {
   "cell_type": "code",
   "execution_count": 35,
   "id": "b5a1c46d-5a94-448c-a989-7af89c2bd3d9",
   "metadata": {},
   "outputs": [],
   "source": [
    "for t in thresholds:\n",
    "    tp = ((y_pred >= t) & (y_val == 1)).sum()\n",
    "    fp = ((y_pred >= t) & (y_val == 0)).sum()\n",
    "    fn = ((y_pred <= t) & (y_val == 1)).sum()\n",
    "    tn = ((y_pred <= t) & (y_val == 0)).sum()\n",
    "    scores.append((t, tp, fp, fn, tn))"
   ]
  },
  {
   "cell_type": "code",
   "execution_count": 36,
   "id": "527f2a45-64ea-489a-a7e9-c51832ed4cfa",
   "metadata": {},
   "outputs": [],
   "source": [
    "df_scores = pd.DataFrame(scores, columns=['threshold', 'tp', 'fp', 'fn', 'tn'])"
   ]
  },
  {
   "cell_type": "code",
   "execution_count": 37,
   "id": "1bf74903-4d7a-495a-8131-d0c6c86c6e8c",
   "metadata": {},
   "outputs": [
    {
     "data": {
      "text/html": [
       "<div>\n",
       "<style scoped>\n",
       "    .dataframe tbody tr th:only-of-type {\n",
       "        vertical-align: middle;\n",
       "    }\n",
       "\n",
       "    .dataframe tbody tr th {\n",
       "        vertical-align: top;\n",
       "    }\n",
       "\n",
       "    .dataframe thead th {\n",
       "        text-align: right;\n",
       "    }\n",
       "</style>\n",
       "<table border=\"1\" class=\"dataframe\">\n",
       "  <thead>\n",
       "    <tr style=\"text-align: right;\">\n",
       "      <th></th>\n",
       "      <th>threshold</th>\n",
       "      <th>tp</th>\n",
       "      <th>fp</th>\n",
       "      <th>fn</th>\n",
       "      <th>tn</th>\n",
       "    </tr>\n",
       "  </thead>\n",
       "  <tbody>\n",
       "    <tr>\n",
       "      <th>0</th>\n",
       "      <td>0.0</td>\n",
       "      <td>373</td>\n",
       "      <td>1036</td>\n",
       "      <td>0</td>\n",
       "      <td>0</td>\n",
       "    </tr>\n",
       "    <tr>\n",
       "      <th>10</th>\n",
       "      <td>0.1</td>\n",
       "      <td>354</td>\n",
       "      <td>540</td>\n",
       "      <td>19</td>\n",
       "      <td>496</td>\n",
       "    </tr>\n",
       "    <tr>\n",
       "      <th>20</th>\n",
       "      <td>0.2</td>\n",
       "      <td>315</td>\n",
       "      <td>338</td>\n",
       "      <td>58</td>\n",
       "      <td>698</td>\n",
       "    </tr>\n",
       "    <tr>\n",
       "      <th>30</th>\n",
       "      <td>0.3</td>\n",
       "      <td>276</td>\n",
       "      <td>222</td>\n",
       "      <td>97</td>\n",
       "      <td>814</td>\n",
       "    </tr>\n",
       "    <tr>\n",
       "      <th>40</th>\n",
       "      <td>0.4</td>\n",
       "      <td>242</td>\n",
       "      <td>154</td>\n",
       "      <td>131</td>\n",
       "      <td>882</td>\n",
       "    </tr>\n",
       "    <tr>\n",
       "      <th>50</th>\n",
       "      <td>0.5</td>\n",
       "      <td>199</td>\n",
       "      <td>95</td>\n",
       "      <td>174</td>\n",
       "      <td>941</td>\n",
       "    </tr>\n",
       "    <tr>\n",
       "      <th>60</th>\n",
       "      <td>0.6</td>\n",
       "      <td>139</td>\n",
       "      <td>51</td>\n",
       "      <td>234</td>\n",
       "      <td>985</td>\n",
       "    </tr>\n",
       "    <tr>\n",
       "      <th>70</th>\n",
       "      <td>0.7</td>\n",
       "      <td>68</td>\n",
       "      <td>18</td>\n",
       "      <td>305</td>\n",
       "      <td>1018</td>\n",
       "    </tr>\n",
       "    <tr>\n",
       "      <th>80</th>\n",
       "      <td>0.8</td>\n",
       "      <td>10</td>\n",
       "      <td>2</td>\n",
       "      <td>363</td>\n",
       "      <td>1034</td>\n",
       "    </tr>\n",
       "    <tr>\n",
       "      <th>90</th>\n",
       "      <td>0.9</td>\n",
       "      <td>0</td>\n",
       "      <td>0</td>\n",
       "      <td>373</td>\n",
       "      <td>1036</td>\n",
       "    </tr>\n",
       "    <tr>\n",
       "      <th>100</th>\n",
       "      <td>1.0</td>\n",
       "      <td>0</td>\n",
       "      <td>0</td>\n",
       "      <td>373</td>\n",
       "      <td>1036</td>\n",
       "    </tr>\n",
       "  </tbody>\n",
       "</table>\n",
       "</div>"
      ],
      "text/plain": [
       "     threshold   tp    fp   fn    tn\n",
       "0          0.0  373  1036    0     0\n",
       "10         0.1  354   540   19   496\n",
       "20         0.2  315   338   58   698\n",
       "30         0.3  276   222   97   814\n",
       "40         0.4  242   154  131   882\n",
       "50         0.5  199    95  174   941\n",
       "60         0.6  139    51  234   985\n",
       "70         0.7   68    18  305  1018\n",
       "80         0.8   10     2  363  1034\n",
       "90         0.9    0     0  373  1036\n",
       "100        1.0    0     0  373  1036"
      ]
     },
     "execution_count": 37,
     "metadata": {},
     "output_type": "execute_result"
    }
   ],
   "source": [
    "df_scores[::10]"
   ]
  },
  {
   "cell_type": "code",
   "execution_count": 38,
   "id": "02a8fa1d-2339-4590-8fd0-a95b204cd4ac",
   "metadata": {},
   "outputs": [],
   "source": [
    "df_scores['tpr'] = df_scores['tp'] / (df_scores['tp'] + df_scores['fn'])\n",
    "df_scores['fpr'] = df_scores['fp'] / (df_scores['fp'] + df_scores['tn'])"
   ]
  },
  {
   "cell_type": "code",
   "execution_count": 39,
   "id": "05ebdd12-b85e-454b-9dab-5944182c4865",
   "metadata": {},
   "outputs": [
    {
     "data": {
      "text/html": [
       "<div>\n",
       "<style scoped>\n",
       "    .dataframe tbody tr th:only-of-type {\n",
       "        vertical-align: middle;\n",
       "    }\n",
       "\n",
       "    .dataframe tbody tr th {\n",
       "        vertical-align: top;\n",
       "    }\n",
       "\n",
       "    .dataframe thead th {\n",
       "        text-align: right;\n",
       "    }\n",
       "</style>\n",
       "<table border=\"1\" class=\"dataframe\">\n",
       "  <thead>\n",
       "    <tr style=\"text-align: right;\">\n",
       "      <th></th>\n",
       "      <th>threshold</th>\n",
       "      <th>tp</th>\n",
       "      <th>fp</th>\n",
       "      <th>fn</th>\n",
       "      <th>tn</th>\n",
       "      <th>tpr</th>\n",
       "      <th>fpr</th>\n",
       "    </tr>\n",
       "  </thead>\n",
       "  <tbody>\n",
       "    <tr>\n",
       "      <th>0</th>\n",
       "      <td>0.0</td>\n",
       "      <td>373</td>\n",
       "      <td>1036</td>\n",
       "      <td>0</td>\n",
       "      <td>0</td>\n",
       "      <td>1.000000</td>\n",
       "      <td>1.000000</td>\n",
       "    </tr>\n",
       "    <tr>\n",
       "      <th>10</th>\n",
       "      <td>0.1</td>\n",
       "      <td>354</td>\n",
       "      <td>540</td>\n",
       "      <td>19</td>\n",
       "      <td>496</td>\n",
       "      <td>0.949062</td>\n",
       "      <td>0.521236</td>\n",
       "    </tr>\n",
       "    <tr>\n",
       "      <th>20</th>\n",
       "      <td>0.2</td>\n",
       "      <td>315</td>\n",
       "      <td>338</td>\n",
       "      <td>58</td>\n",
       "      <td>698</td>\n",
       "      <td>0.844504</td>\n",
       "      <td>0.326255</td>\n",
       "    </tr>\n",
       "    <tr>\n",
       "      <th>30</th>\n",
       "      <td>0.3</td>\n",
       "      <td>276</td>\n",
       "      <td>222</td>\n",
       "      <td>97</td>\n",
       "      <td>814</td>\n",
       "      <td>0.739946</td>\n",
       "      <td>0.214286</td>\n",
       "    </tr>\n",
       "    <tr>\n",
       "      <th>40</th>\n",
       "      <td>0.4</td>\n",
       "      <td>242</td>\n",
       "      <td>154</td>\n",
       "      <td>131</td>\n",
       "      <td>882</td>\n",
       "      <td>0.648794</td>\n",
       "      <td>0.148649</td>\n",
       "    </tr>\n",
       "    <tr>\n",
       "      <th>50</th>\n",
       "      <td>0.5</td>\n",
       "      <td>199</td>\n",
       "      <td>95</td>\n",
       "      <td>174</td>\n",
       "      <td>941</td>\n",
       "      <td>0.533512</td>\n",
       "      <td>0.091699</td>\n",
       "    </tr>\n",
       "    <tr>\n",
       "      <th>60</th>\n",
       "      <td>0.6</td>\n",
       "      <td>139</td>\n",
       "      <td>51</td>\n",
       "      <td>234</td>\n",
       "      <td>985</td>\n",
       "      <td>0.372654</td>\n",
       "      <td>0.049228</td>\n",
       "    </tr>\n",
       "    <tr>\n",
       "      <th>70</th>\n",
       "      <td>0.7</td>\n",
       "      <td>68</td>\n",
       "      <td>18</td>\n",
       "      <td>305</td>\n",
       "      <td>1018</td>\n",
       "      <td>0.182306</td>\n",
       "      <td>0.017375</td>\n",
       "    </tr>\n",
       "    <tr>\n",
       "      <th>80</th>\n",
       "      <td>0.8</td>\n",
       "      <td>10</td>\n",
       "      <td>2</td>\n",
       "      <td>363</td>\n",
       "      <td>1034</td>\n",
       "      <td>0.026810</td>\n",
       "      <td>0.001931</td>\n",
       "    </tr>\n",
       "    <tr>\n",
       "      <th>90</th>\n",
       "      <td>0.9</td>\n",
       "      <td>0</td>\n",
       "      <td>0</td>\n",
       "      <td>373</td>\n",
       "      <td>1036</td>\n",
       "      <td>0.000000</td>\n",
       "      <td>0.000000</td>\n",
       "    </tr>\n",
       "    <tr>\n",
       "      <th>100</th>\n",
       "      <td>1.0</td>\n",
       "      <td>0</td>\n",
       "      <td>0</td>\n",
       "      <td>373</td>\n",
       "      <td>1036</td>\n",
       "      <td>0.000000</td>\n",
       "      <td>0.000000</td>\n",
       "    </tr>\n",
       "  </tbody>\n",
       "</table>\n",
       "</div>"
      ],
      "text/plain": [
       "     threshold   tp    fp   fn    tn       tpr       fpr\n",
       "0          0.0  373  1036    0     0  1.000000  1.000000\n",
       "10         0.1  354   540   19   496  0.949062  0.521236\n",
       "20         0.2  315   338   58   698  0.844504  0.326255\n",
       "30         0.3  276   222   97   814  0.739946  0.214286\n",
       "40         0.4  242   154  131   882  0.648794  0.148649\n",
       "50         0.5  199    95  174   941  0.533512  0.091699\n",
       "60         0.6  139    51  234   985  0.372654  0.049228\n",
       "70         0.7   68    18  305  1018  0.182306  0.017375\n",
       "80         0.8   10     2  363  1034  0.026810  0.001931\n",
       "90         0.9    0     0  373  1036  0.000000  0.000000\n",
       "100        1.0    0     0  373  1036  0.000000  0.000000"
      ]
     },
     "execution_count": 39,
     "metadata": {},
     "output_type": "execute_result"
    }
   ],
   "source": [
    "df_scores[::10]"
   ]
  },
  {
   "cell_type": "code",
   "execution_count": 40,
   "id": "e692184f-8ec1-4142-9341-0c48ccb61253",
   "metadata": {},
   "outputs": [
    {
     "data": {
      "image/png": "[encoded data removed]",
      "text/plain": [
       "<Figure size 640x480 with 1 Axes>"
      ]
     },
     "metadata": {},
     "output_type": "display_data"
    }
   ],
   "source": [
    "sns.lineplot(x=df_scores['threshold'], y=df_scores['tpr'])\n",
    "sns.lineplot(x=df_scores['threshold'], y=df_scores['fpr']) \n",
    "plt.title('TPR and FPR')\n",
    "plt.ylabel(None)\n",
    "plt.legend(labels=['TPR', 'FPR'])\n",
    "plt.show()"
   ]
  },
  {
   "cell_type": "markdown",
   "id": "6170881b-6e97-4069-bd89-d54e1f7729ba",
   "metadata": {},
   "source": [
    "#### Random model\n",
    "* A random model outputs a random score between 0 and 1, regardless of the input"
   ]
  },
  {
   "cell_type": "code",
   "execution_count": 41,
   "id": "f4668ef7-a3a6-423a-9b58-0f3c06010b34",
   "metadata": {},
   "outputs": [],
   "source": [
    "np.random.seed(1)"
   ]
  },
  {
   "cell_type": "code",
   "execution_count": 42,
   "id": "056f9586-23af-4d48-bdda-2671da7b3cb1",
   "metadata": {},
   "outputs": [],
   "source": [
    "y_rand = np.random.uniform(0, 1, size = len(y_val))"
   ]
  },
  {
   "cell_type": "markdown",
   "id": "9812a933-17b3-4a65-a83f-32488ad54735",
   "metadata": {},
   "source": [
    "* Now we can simply pretend that y_rand contains the predictions of our \"model\""
   ]
  },
  {
   "cell_type": "code",
   "execution_count": 43,
   "id": "0e0c7367-dc3d-426e-b8a3-53155efad2c5",
   "metadata": {},
   "outputs": [],
   "source": [
    "def tpr_fpr_dataframe(y_val, y_pred):\n",
    "    scores = []\n",
    "    thresholds = np.linspace(0,1,101)\n",
    "    \n",
    "    for t in thresholds:\n",
    "        tp = ((y_pred >= t) & (y_val == 1)).sum()\n",
    "        fp = ((y_pred >= t) & (y_val == 0)).sum()\n",
    "        fn = ((y_pred <= t) & (y_val == 1)).sum()\n",
    "        tn = ((y_pred <= t) & (y_val == 0)).sum()\n",
    "        scores.append((t, tp, fp, fn, tn))\n",
    "    \n",
    "    df_scores = pd.DataFrame(scores, columns=['threshold', 'tp', 'fp', 'fn', 'tn'])\n",
    "    \n",
    "    df_scores['tpr'] = df_scores['tp'] / (df_scores['tp'] + df_scores['fn'])\n",
    "    df_scores['fpr'] = df_scores['fp'] / (df_scores['fp'] + df_scores['tn'])\n",
    "    \n",
    "    return df_scores"
   ]
  },
  {
   "cell_type": "code",
   "execution_count": 44,
   "id": "0443c536-7dc4-4ed8-bb87-98bf5ce1e6de",
   "metadata": {},
   "outputs": [],
   "source": [
    "df_rand = tpr_fpr_dataframe(y_val, y_rand)"
   ]
  },
  {
   "cell_type": "code",
   "execution_count": 45,
   "id": "0c2f6685-afd4-43c1-afc8-ead1a480022d",
   "metadata": {},
   "outputs": [
    {
     "data": {
      "text/html": [
       "<div>\n",
       "<style scoped>\n",
       "    .dataframe tbody tr th:only-of-type {\n",
       "        vertical-align: middle;\n",
       "    }\n",
       "\n",
       "    .dataframe tbody tr th {\n",
       "        vertical-align: top;\n",
       "    }\n",
       "\n",
       "    .dataframe thead th {\n",
       "        text-align: right;\n",
       "    }\n",
       "</style>\n",
       "<table border=\"1\" class=\"dataframe\">\n",
       "  <thead>\n",
       "    <tr style=\"text-align: right;\">\n",
       "      <th></th>\n",
       "      <th>threshold</th>\n",
       "      <th>tp</th>\n",
       "      <th>fp</th>\n",
       "      <th>fn</th>\n",
       "      <th>tn</th>\n",
       "      <th>tpr</th>\n",
       "      <th>fpr</th>\n",
       "    </tr>\n",
       "  </thead>\n",
       "  <tbody>\n",
       "    <tr>\n",
       "      <th>0</th>\n",
       "      <td>0.0</td>\n",
       "      <td>373</td>\n",
       "      <td>1036</td>\n",
       "      <td>0</td>\n",
       "      <td>0</td>\n",
       "      <td>1.000000</td>\n",
       "      <td>1.000000</td>\n",
       "    </tr>\n",
       "    <tr>\n",
       "      <th>10</th>\n",
       "      <td>0.1</td>\n",
       "      <td>336</td>\n",
       "      <td>934</td>\n",
       "      <td>37</td>\n",
       "      <td>102</td>\n",
       "      <td>0.900804</td>\n",
       "      <td>0.901544</td>\n",
       "    </tr>\n",
       "    <tr>\n",
       "      <th>20</th>\n",
       "      <td>0.2</td>\n",
       "      <td>295</td>\n",
       "      <td>834</td>\n",
       "      <td>78</td>\n",
       "      <td>202</td>\n",
       "      <td>0.790885</td>\n",
       "      <td>0.805019</td>\n",
       "    </tr>\n",
       "    <tr>\n",
       "      <th>30</th>\n",
       "      <td>0.3</td>\n",
       "      <td>261</td>\n",
       "      <td>739</td>\n",
       "      <td>112</td>\n",
       "      <td>297</td>\n",
       "      <td>0.699732</td>\n",
       "      <td>0.713320</td>\n",
       "    </tr>\n",
       "    <tr>\n",
       "      <th>40</th>\n",
       "      <td>0.4</td>\n",
       "      <td>218</td>\n",
       "      <td>643</td>\n",
       "      <td>155</td>\n",
       "      <td>393</td>\n",
       "      <td>0.584450</td>\n",
       "      <td>0.620656</td>\n",
       "    </tr>\n",
       "    <tr>\n",
       "      <th>50</th>\n",
       "      <td>0.5</td>\n",
       "      <td>182</td>\n",
       "      <td>538</td>\n",
       "      <td>191</td>\n",
       "      <td>498</td>\n",
       "      <td>0.487936</td>\n",
       "      <td>0.519305</td>\n",
       "    </tr>\n",
       "    <tr>\n",
       "      <th>60</th>\n",
       "      <td>0.6</td>\n",
       "      <td>146</td>\n",
       "      <td>424</td>\n",
       "      <td>227</td>\n",
       "      <td>612</td>\n",
       "      <td>0.391421</td>\n",
       "      <td>0.409266</td>\n",
       "    </tr>\n",
       "    <tr>\n",
       "      <th>70</th>\n",
       "      <td>0.7</td>\n",
       "      <td>112</td>\n",
       "      <td>311</td>\n",
       "      <td>261</td>\n",
       "      <td>725</td>\n",
       "      <td>0.300268</td>\n",
       "      <td>0.300193</td>\n",
       "    </tr>\n",
       "    <tr>\n",
       "      <th>80</th>\n",
       "      <td>0.8</td>\n",
       "      <td>78</td>\n",
       "      <td>206</td>\n",
       "      <td>295</td>\n",
       "      <td>830</td>\n",
       "      <td>0.209115</td>\n",
       "      <td>0.198842</td>\n",
       "    </tr>\n",
       "    <tr>\n",
       "      <th>90</th>\n",
       "      <td>0.9</td>\n",
       "      <td>39</td>\n",
       "      <td>102</td>\n",
       "      <td>334</td>\n",
       "      <td>934</td>\n",
       "      <td>0.104558</td>\n",
       "      <td>0.098456</td>\n",
       "    </tr>\n",
       "    <tr>\n",
       "      <th>100</th>\n",
       "      <td>1.0</td>\n",
       "      <td>0</td>\n",
       "      <td>0</td>\n",
       "      <td>373</td>\n",
       "      <td>1036</td>\n",
       "      <td>0.000000</td>\n",
       "      <td>0.000000</td>\n",
       "    </tr>\n",
       "  </tbody>\n",
       "</table>\n",
       "</div>"
      ],
      "text/plain": [
       "     threshold   tp    fp   fn    tn       tpr       fpr\n",
       "0          0.0  373  1036    0     0  1.000000  1.000000\n",
       "10         0.1  336   934   37   102  0.900804  0.901544\n",
       "20         0.2  295   834   78   202  0.790885  0.805019\n",
       "30         0.3  261   739  112   297  0.699732  0.713320\n",
       "40         0.4  218   643  155   393  0.584450  0.620656\n",
       "50         0.5  182   538  191   498  0.487936  0.519305\n",
       "60         0.6  146   424  227   612  0.391421  0.409266\n",
       "70         0.7  112   311  261   725  0.300268  0.300193\n",
       "80         0.8   78   206  295   830  0.209115  0.198842\n",
       "90         0.9   39   102  334   934  0.104558  0.098456\n",
       "100        1.0    0     0  373  1036  0.000000  0.000000"
      ]
     },
     "execution_count": 45,
     "metadata": {},
     "output_type": "execute_result"
    }
   ],
   "source": [
    "df_rand[::10]"
   ]
  },
  {
   "cell_type": "code",
   "execution_count": 46,
   "id": "852e74cd-0e96-47c4-aee3-980f4c6f0fcd",
   "metadata": {},
   "outputs": [
    {
     "data": {
      "image/png": "[encoded data removed]",
      "text/plain": [
       "<Figure size 640x480 with 1 Axes>"
      ]
     },
     "metadata": {},
     "output_type": "display_data"
    }
   ],
   "source": [
    "sns.lineplot(x=df_rand['threshold'], y=df_rand['tpr'])\n",
    "sns.lineplot(x=df_rand['threshold'], y=df_rand['fpr']) \n",
    "plt.title('TPR and FPR for the random model')\n",
    "plt.ylabel(None)\n",
    "plt.legend(labels=['TPR', 'FPR'])\n",
    "plt.show()"
   ]
  },
  {
   "cell_type": "markdown",
   "id": "26309ba1-5601-49f3-96fe-23a5ba9ea5da",
   "metadata": {},
   "source": [
    "Both TPR and FPR curves go from 100% to 0%, almost following a straight line"
   ]
  },
  {
   "cell_type": "markdown",
   "id": "9a7a62e4-d66d-43be-aa83-6497ad3fa66f",
   "metadata": {},
   "source": [
    "#### The ideal model\n",
    "* The ideal model always make correct decisions"
   ]
  },
  {
   "cell_type": "code",
   "execution_count": 47,
   "id": "9d97bc58-ce66-4a3c-9d26-860bb07be9cf",
   "metadata": {},
   "outputs": [],
   "source": [
    "num_neg = (y_val == 0).sum()\n",
    "num_pos = (y_val == 1).sum()\n",
    "y_ideal = np.repeat([0,1], [num_neg, num_pos])\n",
    "y_pred_ideal = np.linspace(0, 1, len(y_ideal))\n",
    "df_ideal = tpr_fpr_dataframe(y_ideal, y_pred_ideal)"
   ]
  },
  {
   "cell_type": "code",
   "execution_count": 48,
   "id": "91e89f1a-2223-4b4b-b553-0390a623b706",
   "metadata": {},
   "outputs": [
    {
     "data": {
      "text/html": [
       "<div>\n",
       "<style scoped>\n",
       "    .dataframe tbody tr th:only-of-type {\n",
       "        vertical-align: middle;\n",
       "    }\n",
       "\n",
       "    .dataframe tbody tr th {\n",
       "        vertical-align: top;\n",
       "    }\n",
       "\n",
       "    .dataframe thead th {\n",
       "        text-align: right;\n",
       "    }\n",
       "</style>\n",
       "<table border=\"1\" class=\"dataframe\">\n",
       "  <thead>\n",
       "    <tr style=\"text-align: right;\">\n",
       "      <th></th>\n",
       "      <th>threshold</th>\n",
       "      <th>tp</th>\n",
       "      <th>fp</th>\n",
       "      <th>fn</th>\n",
       "      <th>tn</th>\n",
       "      <th>tpr</th>\n",
       "      <th>fpr</th>\n",
       "    </tr>\n",
       "  </thead>\n",
       "  <tbody>\n",
       "    <tr>\n",
       "      <th>0</th>\n",
       "      <td>0.0</td>\n",
       "      <td>373</td>\n",
       "      <td>1036</td>\n",
       "      <td>0</td>\n",
       "      <td>1</td>\n",
       "      <td>1.000000</td>\n",
       "      <td>0.999036</td>\n",
       "    </tr>\n",
       "    <tr>\n",
       "      <th>10</th>\n",
       "      <td>0.1</td>\n",
       "      <td>373</td>\n",
       "      <td>895</td>\n",
       "      <td>0</td>\n",
       "      <td>141</td>\n",
       "      <td>1.000000</td>\n",
       "      <td>0.863900</td>\n",
       "    </tr>\n",
       "    <tr>\n",
       "      <th>20</th>\n",
       "      <td>0.2</td>\n",
       "      <td>373</td>\n",
       "      <td>754</td>\n",
       "      <td>0</td>\n",
       "      <td>282</td>\n",
       "      <td>1.000000</td>\n",
       "      <td>0.727799</td>\n",
       "    </tr>\n",
       "    <tr>\n",
       "      <th>30</th>\n",
       "      <td>0.3</td>\n",
       "      <td>373</td>\n",
       "      <td>613</td>\n",
       "      <td>0</td>\n",
       "      <td>423</td>\n",
       "      <td>1.000000</td>\n",
       "      <td>0.591699</td>\n",
       "    </tr>\n",
       "    <tr>\n",
       "      <th>40</th>\n",
       "      <td>0.4</td>\n",
       "      <td>373</td>\n",
       "      <td>472</td>\n",
       "      <td>0</td>\n",
       "      <td>564</td>\n",
       "      <td>1.000000</td>\n",
       "      <td>0.455598</td>\n",
       "    </tr>\n",
       "    <tr>\n",
       "      <th>50</th>\n",
       "      <td>0.5</td>\n",
       "      <td>373</td>\n",
       "      <td>332</td>\n",
       "      <td>0</td>\n",
       "      <td>705</td>\n",
       "      <td>1.000000</td>\n",
       "      <td>0.320154</td>\n",
       "    </tr>\n",
       "    <tr>\n",
       "      <th>60</th>\n",
       "      <td>0.6</td>\n",
       "      <td>373</td>\n",
       "      <td>191</td>\n",
       "      <td>0</td>\n",
       "      <td>845</td>\n",
       "      <td>1.000000</td>\n",
       "      <td>0.184363</td>\n",
       "    </tr>\n",
       "    <tr>\n",
       "      <th>70</th>\n",
       "      <td>0.7</td>\n",
       "      <td>373</td>\n",
       "      <td>50</td>\n",
       "      <td>0</td>\n",
       "      <td>986</td>\n",
       "      <td>1.000000</td>\n",
       "      <td>0.048263</td>\n",
       "    </tr>\n",
       "    <tr>\n",
       "      <th>80</th>\n",
       "      <td>0.8</td>\n",
       "      <td>282</td>\n",
       "      <td>0</td>\n",
       "      <td>91</td>\n",
       "      <td>1036</td>\n",
       "      <td>0.756032</td>\n",
       "      <td>0.000000</td>\n",
       "    </tr>\n",
       "    <tr>\n",
       "      <th>90</th>\n",
       "      <td>0.9</td>\n",
       "      <td>141</td>\n",
       "      <td>0</td>\n",
       "      <td>232</td>\n",
       "      <td>1036</td>\n",
       "      <td>0.378016</td>\n",
       "      <td>0.000000</td>\n",
       "    </tr>\n",
       "    <tr>\n",
       "      <th>100</th>\n",
       "      <td>1.0</td>\n",
       "      <td>1</td>\n",
       "      <td>0</td>\n",
       "      <td>373</td>\n",
       "      <td>1036</td>\n",
       "      <td>0.002674</td>\n",
       "      <td>0.000000</td>\n",
       "    </tr>\n",
       "  </tbody>\n",
       "</table>\n",
       "</div>"
      ],
      "text/plain": [
       "     threshold   tp    fp   fn    tn       tpr       fpr\n",
       "0          0.0  373  1036    0     1  1.000000  0.999036\n",
       "10         0.1  373   895    0   141  1.000000  0.863900\n",
       "20         0.2  373   754    0   282  1.000000  0.727799\n",
       "30         0.3  373   613    0   423  1.000000  0.591699\n",
       "40         0.4  373   472    0   564  1.000000  0.455598\n",
       "50         0.5  373   332    0   705  1.000000  0.320154\n",
       "60         0.6  373   191    0   845  1.000000  0.184363\n",
       "70         0.7  373    50    0   986  1.000000  0.048263\n",
       "80         0.8  282     0   91  1036  0.756032  0.000000\n",
       "90         0.9  141     0  232  1036  0.378016  0.000000\n",
       "100        1.0    1     0  373  1036  0.002674  0.000000"
      ]
     },
     "execution_count": 48,
     "metadata": {},
     "output_type": "execute_result"
    }
   ],
   "source": [
    "df_ideal[::10]"
   ]
  },
  {
   "cell_type": "code",
   "execution_count": 49,
   "id": "54045930-53ff-4385-8522-1ae54db0789d",
   "metadata": {},
   "outputs": [
    {
     "data": {
      "image/png": "[encoded data removed]",
      "text/plain": [
       "<Figure size 640x480 with 1 Axes>"
      ]
     },
     "metadata": {},
     "output_type": "display_data"
    }
   ],
   "source": [
    "sns.lineplot(x=df_ideal['threshold'], y=df_ideal['tpr'])\n",
    "sns.lineplot(x=df_ideal['threshold'], y=df_ideal['fpr']) \n",
    "plt.title('TPR and FPR for the ideal model')\n",
    "plt.ylabel(None)\n",
    "plt.legend(labels=['TPR', 'FPR'])\n",
    "plt.show()"
   ]
  },
  {
   "cell_type": "code",
   "execution_count": 50,
   "id": "cf7899fb-87f4-4c3e-bba2-f02b4b0b18bf",
   "metadata": {},
   "outputs": [
    {
     "data": {
      "text/plain": [
       "1.0"
      ]
     },
     "execution_count": 50,
     "metadata": {},
     "output_type": "execute_result"
    }
   ],
   "source": [
    "# Ideal situation\n",
    "((y_pred_ideal >= 0.7352) == y_ideal).mean()"
   ]
  },
  {
   "cell_type": "code",
   "execution_count": 51,
   "id": "c7a8250d-9a05-4a3d-b164-548a24412ac6",
   "metadata": {},
   "outputs": [
    {
     "data": {
      "text/html": [
       "<div>\n",
       "<style scoped>\n",
       "    .dataframe tbody tr th:only-of-type {\n",
       "        vertical-align: middle;\n",
       "    }\n",
       "\n",
       "    .dataframe tbody tr th {\n",
       "        vertical-align: top;\n",
       "    }\n",
       "\n",
       "    .dataframe thead th {\n",
       "        text-align: right;\n",
       "    }\n",
       "</style>\n",
       "<table border=\"1\" class=\"dataframe\">\n",
       "  <thead>\n",
       "    <tr style=\"text-align: right;\">\n",
       "      <th></th>\n",
       "      <th>ideal_situation</th>\n",
       "    </tr>\n",
       "  </thead>\n",
       "  <tbody>\n",
       "    <tr>\n",
       "      <th>threshold</th>\n",
       "      <td>0.740000</td>\n",
       "    </tr>\n",
       "    <tr>\n",
       "      <th>tp</th>\n",
       "      <td>367.000000</td>\n",
       "    </tr>\n",
       "    <tr>\n",
       "      <th>fp</th>\n",
       "      <td>0.000000</td>\n",
       "    </tr>\n",
       "    <tr>\n",
       "      <th>fn</th>\n",
       "      <td>6.000000</td>\n",
       "    </tr>\n",
       "    <tr>\n",
       "      <th>tn</th>\n",
       "      <td>1036.000000</td>\n",
       "    </tr>\n",
       "    <tr>\n",
       "      <th>tpr</th>\n",
       "      <td>0.983914</td>\n",
       "    </tr>\n",
       "    <tr>\n",
       "      <th>fpr</th>\n",
       "      <td>0.000000</td>\n",
       "    </tr>\n",
       "  </tbody>\n",
       "</table>\n",
       "</div>"
      ],
      "text/plain": [
       "           ideal_situation\n",
       "threshold         0.740000\n",
       "tp              367.000000\n",
       "fp                0.000000\n",
       "fn                6.000000\n",
       "tn             1036.000000\n",
       "tpr               0.983914\n",
       "fpr               0.000000"
      ]
     },
     "execution_count": 51,
     "metadata": {},
     "output_type": "execute_result"
    }
   ],
   "source": [
    "df_ideal.iloc[74].to_frame(name='ideal_situation')"
   ]
  },
  {
   "cell_type": "code",
   "execution_count": 52,
   "id": "3b7d3f02-32d1-4e69-b2ea-829dcc3c5485",
   "metadata": {},
   "outputs": [
    {
     "data": {
      "image/png": "[encoded data removed]",
      "text/plain": [
       "<Figure size 640x480 with 1 Axes>"
      ]
     },
     "metadata": {},
     "output_type": "display_data"
    }
   ],
   "source": [
    "sns.lineplot(x=df_scores['threshold'], y=df_scores['tpr'])\n",
    "sns.lineplot(x=df_scores['threshold'], y=df_scores['fpr']) \n",
    "\n",
    "#sns.lineplot(x=df_rand['threshold'], y=df_rand['tpr'])\n",
    "#sns.lineplot(x=df_rand['threshold'], y=df_rand['fpr']) \n",
    "\n",
    "sns.lineplot(x=df_ideal['threshold'], y=df_ideal['tpr'], color='black')\n",
    "sns.lineplot(x=df_ideal['threshold'], y=df_ideal['fpr'], color='black') \n",
    "\n",
    "plt.legend(labels=['TPR', 'FPR', 'TPR Ideal', 'FPR Ideal'])\n",
    "\n",
    "plt.show()"
   ]
  },
  {
   "cell_type": "markdown",
   "id": "421203b4-0036-41f2-ac78-618fa200e9c6",
   "metadata": {},
   "source": [
    "#### Roc Curve"
   ]
  },
  {
   "cell_type": "code",
   "execution_count": 53,
   "id": "5fb85f4d-dfaf-4a44-8dae-ecb540908037",
   "metadata": {},
   "outputs": [
    {
     "data": {
      "image/png": "[encoded data removed]",
      "text/plain": [
       "<Figure size 500x500 with 1 Axes>"
      ]
     },
     "metadata": {},
     "output_type": "display_data"
    }
   ],
   "source": [
    "plt.figure(figsize=(5, 5))\n",
    "plt.plot(df_scores.fpr, df_scores.tpr, label='Model')\n",
    "plt.plot(df_rand.fpr, df_rand.tpr, label='Random')\n",
    "plt.plot(df_ideal.fpr, df_ideal.tpr, label='Ideal')\n",
    "plt.legend()\n",
    "plt.title('ROC Curve')\n",
    "plt.ylabel('True Positive Rate')\n",
    "plt.xlabel('False Positive Rate')\n",
    "plt.show()"
   ]
  },
  {
   "cell_type": "markdown",
   "id": "54ecd260-6c90-4981-9c44-eb9c46bf0311",
   "metadata": {},
   "source": [
    "Our model should always be somewhere between these two curves. We want our model to be as close to the ideal curve as possible and as far <br>as possible from the random curve"
   ]
  },
  {
   "cell_type": "code",
   "execution_count": 54,
   "id": "2aa7c11b-c9ee-4e1a-b61f-a9d22c1dd128",
   "metadata": {},
   "outputs": [
    {
     "data": {
      "image/png": "[encoded data removed]",
      "text/plain": [
       "<Figure size 500x500 with 1 Axes>"
      ]
     },
     "metadata": {},
     "output_type": "display_data"
    }
   ],
   "source": [
    "plt.figure(figsize=(5, 5))\n",
    "plt.plot(df_scores.fpr, df_scores.tpr)\n",
    "plt.plot([0,1], [0,1])\n",
    "plt.title('ROC Curve')\n",
    "plt.show()"
   ]
  },
  {
   "cell_type": "markdown",
   "id": "12ee13fd-1d7d-4fbb-bad6-4ec3ecab4e77",
   "metadata": {},
   "source": [
    "* Plotting the ROC Curve with Scikit-learn"
   ]
  },
  {
   "cell_type": "code",
   "execution_count": 55,
   "id": "d5da1505-e101-4f58-bcf0-50baab4cc446",
   "metadata": {},
   "outputs": [],
   "source": [
    "from sklearn.metrics import roc_curve"
   ]
  },
  {
   "cell_type": "code",
   "execution_count": 56,
   "id": "c83f406a-50cb-4422-b4be-af3c56ccd932",
   "metadata": {},
   "outputs": [],
   "source": [
    "fpr, tpr, thresholds = roc_curve(y_val, y_pred)"
   ]
  },
  {
   "cell_type": "code",
   "execution_count": 57,
   "id": "923d8ae4-cf25-4bcd-8bc5-7766bd07eb27",
   "metadata": {},
   "outputs": [
    {
     "data": {
      "image/png": "[encoded data removed]",
      "text/plain": [
       "<Figure size 500x500 with 1 Axes>"
      ]
     },
     "metadata": {},
     "output_type": "display_data"
    }
   ],
   "source": [
    "plt.figure(figsize=(5,5))\n",
    "plt.plot(fpr, tpr)\n",
    "plt.plot([0,1], [0,1])\n",
    "plt.title('ROC Curve')\n",
    "plt.show()          "
   ]
  },
  {
   "cell_type": "markdown",
   "id": "35b9e247-af3b-4170-b2f3-e48a8bf50edc",
   "metadata": {},
   "source": [
    "## Area under the ROC curve (AUC)"
   ]
  },
  {
   "cell_type": "code",
   "execution_count": 58,
   "id": "b4b6ecf6-f033-42b9-9c54-067335580b1c",
   "metadata": {},
   "outputs": [],
   "source": [
    "from sklearn.metrics import auc"
   ]
  },
  {
   "cell_type": "code",
   "execution_count": 59,
   "id": "e6f5de6d-5b54-43a6-871e-84fac7975c62",
   "metadata": {},
   "outputs": [
    {
     "data": {
      "text/plain": [
       "0.8462611404970654"
      ]
     },
     "execution_count": 59,
     "metadata": {},
     "output_type": "execute_result"
    }
   ],
   "source": [
    "auc(df_scores.fpr, df_scores.tpr)"
   ]
  },
  {
   "cell_type": "code",
   "execution_count": 60,
   "id": "8d923570-b494-4d54-9dcb-867c2d79974f",
   "metadata": {},
   "outputs": [
    {
     "data": {
      "text/plain": [
       "0.8464254660635356"
      ]
     },
     "execution_count": 60,
     "metadata": {},
     "output_type": "execute_result"
    }
   ],
   "source": [
    "#Using scikit-learn roc_curve function\n",
    "auc(fpr, tpr)"
   ]
  },
  {
   "cell_type": "markdown",
   "id": "259f6c56-ac3a-4fb6-b097-d1a95c082253",
   "metadata": {},
   "source": [
    "* If all we need is the AUC, we do not need to compute the ROC curve first, we can use roc_auc_score function"
   ]
  },
  {
   "cell_type": "code",
   "execution_count": 61,
   "id": "5a729894-4502-442b-a537-68045586ecdd",
   "metadata": {},
   "outputs": [],
   "source": [
    "from sklearn.metrics import roc_auc_score"
   ]
  },
  {
   "cell_type": "code",
   "execution_count": 62,
   "id": "011f4656-f1d5-4457-a486-869118a978c5",
   "metadata": {},
   "outputs": [
    {
     "data": {
      "text/plain": [
       "0.8464254660635356"
      ]
     },
     "execution_count": 62,
     "metadata": {},
     "output_type": "execute_result"
    }
   ],
   "source": [
    "roc_auc_score(y_val, y_pred)"
   ]
  },
  {
   "cell_type": "markdown",
   "id": "f0eff2e7-215e-498c-8b75-5d10559dece3",
   "metadata": {},
   "source": [
    "* AUC: Is the probability that the score of a randomly selected churning customer is higher than the score of a randomly selected non-churning one"
   ]
  },
  {
   "cell_type": "code",
   "execution_count": 63,
   "id": "de2e001f-3a01-499f-b503-5a5105093eb5",
   "metadata": {},
   "outputs": [],
   "source": [
    "neg = y_pred[y_val == 0] # Select the score for all non-churning customers\n",
    "pos = y_pred[y_val == 1] # Select the score for all churning customers\n",
    "np.random.seed(1)\n",
    "neg_choice = np.random.randint(low=0, high=len(neg), size=10000)\n",
    "pos_choice = np.random.randint(low=0, high=len(pos), size=10000)"
   ]
  },
  {
   "cell_type": "code",
   "execution_count": 64,
   "id": "bbff637b-9c4c-4590-b3b7-6f89f2d27d3d",
   "metadata": {},
   "outputs": [
    {
     "data": {
      "text/plain": [
       "0.8401"
      ]
     },
     "execution_count": 64,
     "metadata": {},
     "output_type": "execute_result"
    }
   ],
   "source": [
    "(pos[pos_choice] > neg[neg_choice]).mean()"
   ]
  },
  {
   "cell_type": "markdown",
   "id": "537d8714-fbfd-4e23-be57-9325d99b290c",
   "metadata": {},
   "source": [
    "## Cross-Validation"
   ]
  },
  {
   "cell_type": "markdown",
   "id": "b2faaa0d-0c0a-4667-976f-7c55847f249d",
   "metadata": {},
   "source": [
    "* Function for training the model"
   ]
  },
  {
   "cell_type": "code",
   "execution_count": 65,
   "id": "e2c097ab-8a3a-4eaf-ba3b-234051787e31",
   "metadata": {},
   "outputs": [],
   "source": [
    "def train(df, y):\n",
    "    cat = df[categorical + numerical].to_dict(orient='records')\n",
    "    \n",
    "    dv = DictVectorizer(sparse=False)\n",
    "    dv.fit(cat)\n",
    "    \n",
    "    X = dv.transform(cat)\n",
    "    \n",
    "    model = LogisticRegression(solver='liblinear')\n",
    "    model.fit(X, y)\n",
    "    \n",
    "    return dv, model\n"
   ]
  },
  {
   "cell_type": "markdown",
   "id": "87d9546a-4c2e-423c-a9b9-428ffea74911",
   "metadata": {},
   "source": [
    "* Function for Applying the model"
   ]
  },
  {
   "cell_type": "code",
   "execution_count": 66,
   "id": "573fcb2c-19ee-4008-b0f0-d1c776b042ee",
   "metadata": {},
   "outputs": [],
   "source": [
    "def predict(df, dv, model):\n",
    "    cat = df[categorical + numerical].to_dict(orient='records')\n",
    "    \n",
    "    X = dv.transform(cat)\n",
    "    y_pred = model.predict_proba(X)[:,1]\n",
    "    \n",
    "    return y_pred\n"
   ]
  },
  {
   "cell_type": "markdown",
   "id": "89fbd469-fb36-4c02-8ed1-6815e6bd3da5",
   "metadata": {},
   "source": [
    "* K-fold cross-validation "
   ]
  },
  {
   "cell_type": "code",
   "execution_count": 67,
   "id": "ebfe76d5-2a71-4afc-a62d-0bd46da023b2",
   "metadata": {},
   "outputs": [],
   "source": [
    "from sklearn.model_selection import KFold"
   ]
  },
  {
   "cell_type": "code",
   "execution_count": 68,
   "id": "1b787a1b-bffb-4dc1-8b81-8a06942b8ba2",
   "metadata": {},
   "outputs": [],
   "source": [
    "kfold = KFold(n_splits=10, shuffle=True, random_state=1)"
   ]
  },
  {
   "cell_type": "code",
   "execution_count": 69,
   "id": "4b204109-3741-4030-96f2-4cd451274714",
   "metadata": {},
   "outputs": [],
   "source": [
    "aucs = []"
   ]
  },
  {
   "cell_type": "code",
   "execution_count": 70,
   "id": "9a328a16-c5b4-44bb-87ee-9b7f2cb76071",
   "metadata": {},
   "outputs": [],
   "source": [
    "for train_idx, val_idx in kfold.split(df_train_full):\n",
    "    df_train = df_train_full.iloc[train_idx]\n",
    "    df_val = df_train_full.iloc[val_idx]\n",
    "    \n",
    "    y_train = df_train.churn.values\n",
    "    y_val = df_val.churn.values\n",
    "    \n",
    "    dv, model = train(df_train, y_train)\n",
    "    y_pred = predict(df_val, dv, model)\n",
    "    \n",
    "    auc = roc_auc_score(y_val, y_pred)\n",
    "    aucs.append(auc)"
   ]
  },
  {
   "cell_type": "code",
   "execution_count": 71,
   "id": "9d3a5f10-468c-40fa-a160-ae229668462a",
   "metadata": {},
   "outputs": [
    {
     "name": "stdout",
     "output_type": "stream",
     "text": [
      "AUC mean: 0.843 \n",
      "AUC std: ±0.014\n"
     ]
    }
   ],
   "source": [
    "print(f'AUC mean: {np.mean(aucs):.3f} \\nAUC std: ±{np.std(aucs):.3f}')"
   ]
  },
  {
   "cell_type": "markdown",
   "id": "770273d2-a96d-45bd-9983-8f23c7f362e8",
   "metadata": {},
   "source": [
    "* Our data shows that 68% of AUC were 0.844 ± 0.014 (1 standard deviation away from the mean)\n",
    "* The smallest the std is, the more stable the model is "
   ]
  },
  {
   "cell_type": "markdown",
   "id": "f465b0f2-0114-43ec-9921-55541c98294d",
   "metadata": {},
   "source": [
    "#### Tuning the model: Selecting the best parameter C using cross-validation"
   ]
  },
  {
   "cell_type": "markdown",
   "id": "6d2afd30-b1c1-4764-b02c-09cd135bd1ac",
   "metadata": {},
   "source": [
    "* Function for training the model with the parameter C for controlling regularization"
   ]
  },
  {
   "cell_type": "code",
   "execution_count": 72,
   "id": "f57908d8-2ca7-4f7a-98e9-3f5d8f29c41b",
   "metadata": {},
   "outputs": [],
   "source": [
    "def train(df, y, C):\n",
    "    cat = df[categorical + numerical].to_dict(orient='records')\n",
    "    \n",
    "    dv = DictVectorizer(sparse=False)\n",
    "    dv.fit(cat)\n",
    "    \n",
    "    X = dv.transform(cat)\n",
    "    \n",
    "    model = LogisticRegression(solver='liblinear', C=C)\n",
    "    model.fit(X, y)\n",
    "    \n",
    "    return dv, model"
   ]
  },
  {
   "cell_type": "code",
   "execution_count": 73,
   "id": "911bdacd-97d2-4770-b942-7f6712a41e05",
   "metadata": {},
   "outputs": [],
   "source": [
    "nfolds = 5 \n",
    "kfold = KFold(n_splits=nfolds, shuffle=True, random_state=1)"
   ]
  },
  {
   "cell_type": "code",
   "execution_count": 74,
   "id": "75c42cb9-fc19-4dc4-8322-eefc59eb664a",
   "metadata": {},
   "outputs": [
    {
     "name": "stdout",
     "output_type": "stream",
     "text": [
      "C= 0.001, AUC mean = 0.823, AUC std = 0.016\n",
      "C= 0.01, AUC mean = 0.840, AUC std = 0.012\n",
      "C= 0.1, AUC mean = 0.844, AUC std = 0.012\n",
      "C= 0.5, AUC mean = 0.844, AUC std = 0.012\n",
      "C= 1, AUC mean = 0.844, AUC std = 0.012\n",
      "C= 10, AUC mean = 0.844, AUC std = 0.012\n"
     ]
    }
   ],
   "source": [
    "for C in [0.001, 0.01, 0.1, 0.5, 1, 10]:\n",
    "    aucs = []\n",
    "    for train_idx, val_idx in kfold.split(df_train_full):\n",
    "        df_train = df_train_full.iloc[train_idx]\n",
    "        df_val = df_train_full.iloc[val_idx]\n",
    "\n",
    "        y_train = df_train.churn.values\n",
    "        y_val = df_val.churn.values\n",
    "\n",
    "        dv, model = train(df_train, y_train, C=C)\n",
    "        y_pred = predict(df_val, dv, model)\n",
    "\n",
    "        auc = roc_auc_score(y_val, y_pred)\n",
    "        aucs.append(auc)\n",
    "    print(f'C= {C}, AUC mean = {np.mean(aucs):.3f}, AUC std = {np.std(aucs):.3f}')"
   ]
  },
  {
   "cell_type": "markdown",
   "id": "32b206b6-a286-4c34-86ce-fe40a185b959",
   "metadata": {},
   "source": [
    "#### Training the model with the entire train and validation dataset and apply it to the test dataset"
   ]
  },
  {
   "cell_type": "code",
   "execution_count": 75,
   "id": "b643759d-8bf0-4cf9-a78b-d2b8075f26b5",
   "metadata": {},
   "outputs": [],
   "source": [
    "y_train =  df_train_full.churn.values"
   ]
  },
  {
   "cell_type": "code",
   "execution_count": 76,
   "id": "30ffbe6c-9423-4d39-84d2-6e5aa0532be5",
   "metadata": {},
   "outputs": [],
   "source": [
    "dv, model = train(df_train_full, y_train, C=0.1)\n",
    "y_pred = predict(df_test, dv, model)"
   ]
  },
  {
   "cell_type": "code",
   "execution_count": 77,
   "id": "6d9ad4ba-9272-4806-9073-9410124ce7c7",
   "metadata": {},
   "outputs": [],
   "source": [
    "auc = roc_auc_score(y_test, y_pred)"
   ]
  },
  {
   "cell_type": "code",
   "execution_count": 78,
   "id": "f4486a11-2693-426d-a182-501ad7f837ef",
   "metadata": {},
   "outputs": [
    {
     "name": "stdout",
     "output_type": "stream",
     "text": [
      "AUC = 0.852\n"
     ]
    }
   ],
   "source": [
    "print(f'AUC = {auc:.3f}') "
   ]
  }
 ],
 "metadata": {
  "kernelspec": {
   "display_name": "Python 3 (ipykernel)",
   "language": "python",
   "name": "python3"
  },
  "language_info": {
   "codemirror_mode": {
    "name": "ipython",
    "version": 3
   },
   "file_extension": ".py",
   "mimetype": "text/x-python",
   "name": "python",
   "nbconvert_exporter": "python",
   "pygments_lexer": "ipython3",
   "version": "3.8.10"
  }
 },
 "nbformat": 4,
 "nbformat_minor": 5
}
