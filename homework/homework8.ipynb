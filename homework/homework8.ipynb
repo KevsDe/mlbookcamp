{
 "cells": [
  {
   "cell_type": "code",
   "execution_count": 34,
   "id": "0314b35a-d6b6-46b8-9057-93af2368fd2f",
   "metadata": {
    "execution": {
     "iopub.execute_input": "2022-11-21T21:11:51.959963Z",
     "iopub.status.busy": "2022-11-21T21:11:51.959577Z",
     "iopub.status.idle": "2022-11-21T21:11:51.964021Z",
     "shell.execute_reply": "2022-11-21T21:11:51.963313Z",
     "shell.execute_reply.started": "2022-11-21T21:11:51.959935Z"
    },
    "tags": []
   },
   "outputs": [],
   "source": [
    "import numpy as np\n",
    "\n",
    "import tensorflow as tf\n",
    "from tensorflow import keras\n",
    "\n",
    "from tensorflow.keras import layers\n",
    "from tensorflow.keras import models\n",
    "from tensorflow.keras import optimizers\n",
    "\n",
    "from tensorflow.keras.preprocessing.image import load_img\n",
    "from tensorflow.keras.preprocessing.image import ImageDataGenerator"
   ]
  },
  {
   "cell_type": "code",
   "execution_count": 35,
   "id": "2483707d-3cc4-416d-96ab-1cbbbe9a9865",
   "metadata": {
    "execution": {
     "iopub.execute_input": "2022-11-21T21:11:52.312844Z",
     "iopub.status.busy": "2022-11-21T21:11:52.312443Z",
     "iopub.status.idle": "2022-11-21T21:11:52.346833Z",
     "shell.execute_reply": "2022-11-21T21:11:52.346146Z",
     "shell.execute_reply.started": "2022-11-21T21:11:52.312816Z"
    },
    "tags": []
   },
   "outputs": [],
   "source": [
    "model = models.Sequential()\n",
    "\n",
    "model.add(layers.Conv2D(32, (3, 3), activation='relu',input_shape=(150, 150, 3)))\n",
    "model.add(layers.MaxPooling2D((2, 2)))\n",
    "model.add(layers.Flatten())\n",
    "model.add(layers.Dense(64, activation='relu'))\n",
    "model.add(layers.Dense(1, activation='sigmoid'))"
   ]
  },
  {
   "cell_type": "markdown",
   "id": "71f2ba75-2094-49a8-a66e-60283b39ae35",
   "metadata": {},
   "source": [
    "#### Q1"
   ]
  },
  {
   "cell_type": "code",
   "execution_count": 36,
   "id": "8e329dc8-169e-4556-a2a2-6f940e251079",
   "metadata": {
    "execution": {
     "iopub.execute_input": "2022-11-21T21:11:52.951607Z",
     "iopub.status.busy": "2022-11-21T21:11:52.950868Z",
     "iopub.status.idle": "2022-11-21T21:11:52.959321Z",
     "shell.execute_reply": "2022-11-21T21:11:52.958616Z",
     "shell.execute_reply.started": "2022-11-21T21:11:52.951575Z"
    },
    "tags": []
   },
   "outputs": [],
   "source": [
    "model.compile(loss='binary_crossentropy', optimizer=optimizers.SGD(learning_rate=0.002, momentum=0.8), metrics=['accuracy'])"
   ]
  },
  {
   "cell_type": "markdown",
   "id": "38255d8f-1ae2-4c4d-afc7-b4f6995355aa",
   "metadata": {},
   "source": [
    "#### Q2"
   ]
  },
  {
   "cell_type": "code",
   "execution_count": 37,
   "id": "074ac235-20c0-4324-8b8a-d1fd1c193830",
   "metadata": {
    "execution": {
     "iopub.execute_input": "2022-11-21T21:11:53.674389Z",
     "iopub.status.busy": "2022-11-21T21:11:53.673998Z",
     "iopub.status.idle": "2022-11-21T21:11:53.691541Z",
     "shell.execute_reply": "2022-11-21T21:11:53.690734Z",
     "shell.execute_reply.started": "2022-11-21T21:11:53.674363Z"
    },
    "tags": []
   },
   "outputs": [
    {
     "name": "stdout",
     "output_type": "stream",
     "text": [
      "Model: \"sequential_2\"\n",
      "_________________________________________________________________\n",
      " Layer (type)                Output Shape              Param #   \n",
      "=================================================================\n",
      " conv2d_2 (Conv2D)           (None, 148, 148, 32)      896       \n",
      "                                                                 \n",
      " max_pooling2d_2 (MaxPooling  (None, 74, 74, 32)       0         \n",
      " 2D)                                                             \n",
      "                                                                 \n",
      " flatten_2 (Flatten)         (None, 175232)            0         \n",
      "                                                                 \n",
      " dense_4 (Dense)             (None, 64)                11214912  \n",
      "                                                                 \n",
      " dense_5 (Dense)             (None, 1)                 65        \n",
      "                                                                 \n",
      "=================================================================\n",
      "Total params: 11,215,873\n",
      "Trainable params: 11,215,873\n",
      "Non-trainable params: 0\n",
      "_________________________________________________________________\n"
     ]
    }
   ],
   "source": [
    "model.summary()"
   ]
  },
  {
   "cell_type": "code",
   "execution_count": 38,
   "id": "71cafde0-f4f9-495a-9d8b-036648b68fa7",
   "metadata": {
    "execution": {
     "iopub.execute_input": "2022-11-21T21:11:54.039374Z",
     "iopub.status.busy": "2022-11-21T21:11:54.038983Z",
     "iopub.status.idle": "2022-11-21T21:11:54.108583Z",
     "shell.execute_reply": "2022-11-21T21:11:54.107583Z",
     "shell.execute_reply.started": "2022-11-21T21:11:54.039348Z"
    },
    "tags": []
   },
   "outputs": [
    {
     "name": "stdout",
     "output_type": "stream",
     "text": [
      "Found 1594 images belonging to 2 classes.\n",
      "Found 394 images belonging to 2 classes.\n"
     ]
    }
   ],
   "source": [
    "train_gen = ImageDataGenerator(rescale=1./255)\n",
    "train_generator = train_gen.flow_from_directory(\n",
    "    './train/', \n",
    "    target_size=(150, 150),\n",
    "    batch_size=20,\n",
    "    class_mode=\"binary\"\n",
    ")\n",
    "\n",
    "test_gen = ImageDataGenerator(rescale=1./255)\n",
    "test_generator = test_gen.flow_from_directory(\n",
    "    './test/', \n",
    "    target_size=(150, 150), \n",
    "    batch_size=20,\n",
    "    class_mode=\"binary\"\n",
    ")"
   ]
  },
  {
   "cell_type": "code",
   "execution_count": 39,
   "id": "f28b46bc-29dc-43fa-8787-15c1fb06ce39",
   "metadata": {
    "execution": {
     "iopub.execute_input": "2022-11-21T21:11:54.702813Z",
     "iopub.status.busy": "2022-11-21T21:11:54.702430Z",
     "iopub.status.idle": "2022-11-21T21:13:19.811354Z",
     "shell.execute_reply": "2022-11-21T21:13:19.809972Z",
     "shell.execute_reply.started": "2022-11-21T21:11:54.702786Z"
    },
    "tags": []
   },
   "outputs": [
    {
     "name": "stdout",
     "output_type": "stream",
     "text": [
      "Epoch 1/10\n",
      "80/80 [==============================] - 9s 107ms/step - loss: 0.6471 - accuracy: 0.6230 - val_loss: 0.5602 - val_accuracy: 0.7437\n",
      "Epoch 2/10\n",
      "80/80 [==============================] - 9s 106ms/step - loss: 0.5280 - accuracy: 0.7547 - val_loss: 0.4779 - val_accuracy: 0.7741\n",
      "Epoch 3/10\n",
      "80/80 [==============================] - 8s 105ms/step - loss: 0.4395 - accuracy: 0.8093 - val_loss: 0.3953 - val_accuracy: 0.8604\n",
      "Epoch 4/10\n",
      "80/80 [==============================] - 8s 106ms/step - loss: 0.3892 - accuracy: 0.8419 - val_loss: 0.3730 - val_accuracy: 0.8452\n",
      "Epoch 5/10\n",
      "80/80 [==============================] - 8s 106ms/step - loss: 0.3725 - accuracy: 0.8407 - val_loss: 0.3434 - val_accuracy: 0.8731\n",
      "Epoch 6/10\n",
      "80/80 [==============================] - 8s 105ms/step - loss: 0.3104 - accuracy: 0.8783 - val_loss: 0.3247 - val_accuracy: 0.8579\n",
      "Epoch 7/10\n",
      "80/80 [==============================] - 8s 106ms/step - loss: 0.2895 - accuracy: 0.8877 - val_loss: 0.3316 - val_accuracy: 0.8426\n",
      "Epoch 8/10\n",
      "80/80 [==============================] - 8s 105ms/step - loss: 0.2603 - accuracy: 0.8996 - val_loss: 0.3410 - val_accuracy: 0.8528\n",
      "Epoch 9/10\n",
      "80/80 [==============================] - 8s 106ms/step - loss: 0.2288 - accuracy: 0.9153 - val_loss: 0.2819 - val_accuracy: 0.8807\n",
      "Epoch 10/10\n",
      "80/80 [==============================] - 8s 105ms/step - loss: 0.2137 - accuracy: 0.9241 - val_loss: 0.3468 - val_accuracy: 0.8401\n"
     ]
    }
   ],
   "source": [
    "history = model.fit(\n",
    "    train_generator,\n",
    "    epochs=10,\n",
    "    validation_data=test_generator\n",
    ")"
   ]
  },
  {
   "cell_type": "markdown",
   "id": "1847f540-5597-4007-9852-97fca2c077d1",
   "metadata": {
    "execution": {
     "iopub.execute_input": "2022-11-21T21:00:54.941175Z",
     "iopub.status.busy": "2022-11-21T21:00:54.940781Z",
     "iopub.status.idle": "2022-11-21T21:00:54.944551Z",
     "shell.execute_reply": "2022-11-21T21:00:54.943787Z",
     "shell.execute_reply.started": "2022-11-21T21:00:54.941150Z"
    }
   },
   "source": [
    "#### Q3"
   ]
  },
  {
   "cell_type": "code",
   "execution_count": 40,
   "id": "06a8b756-cb17-4988-b27d-6d93e870e2c5",
   "metadata": {
    "execution": {
     "iopub.execute_input": "2022-11-21T21:13:19.813919Z",
     "iopub.status.busy": "2022-11-21T21:13:19.813498Z",
     "iopub.status.idle": "2022-11-21T21:13:19.828099Z",
     "shell.execute_reply": "2022-11-21T21:13:19.827357Z",
     "shell.execute_reply.started": "2022-11-21T21:13:19.813883Z"
    },
    "tags": []
   },
   "outputs": [
    {
     "data": {
      "text/plain": [
       "0.8601003587245941"
      ]
     },
     "execution_count": 40,
     "metadata": {},
     "output_type": "execute_result"
    }
   ],
   "source": [
    "np.median(history.history[\"accuracy\"])"
   ]
  },
  {
   "cell_type": "markdown",
   "id": "b4ac4606-7490-4dde-9de3-9add99e4994f",
   "metadata": {},
   "source": [
    "#### Q4"
   ]
  },
  {
   "cell_type": "code",
   "execution_count": 41,
   "id": "18f12bf9-dda5-4cba-b06d-479be0aa29e8",
   "metadata": {
    "execution": {
     "iopub.execute_input": "2022-11-21T21:13:19.833482Z",
     "iopub.status.busy": "2022-11-21T21:13:19.833217Z",
     "iopub.status.idle": "2022-11-21T21:13:19.838036Z",
     "shell.execute_reply": "2022-11-21T21:13:19.837415Z",
     "shell.execute_reply.started": "2022-11-21T21:13:19.833457Z"
    },
    "tags": []
   },
   "outputs": [
    {
     "data": {
      "text/plain": [
       "0.1316689479020904"
      ]
     },
     "execution_count": 41,
     "metadata": {},
     "output_type": "execute_result"
    }
   ],
   "source": [
    "np.std(history.history[\"loss\"])"
   ]
  },
  {
   "cell_type": "code",
   "execution_count": 42,
   "id": "1118b038-04ac-4bf5-8366-68e1adde73d6",
   "metadata": {
    "execution": {
     "iopub.execute_input": "2022-11-21T21:13:19.839676Z",
     "iopub.status.busy": "2022-11-21T21:13:19.839364Z",
     "iopub.status.idle": "2022-11-21T21:13:19.918040Z",
     "shell.execute_reply": "2022-11-21T21:13:19.917230Z",
     "shell.execute_reply.started": "2022-11-21T21:13:19.839653Z"
    },
    "tags": []
   },
   "outputs": [
    {
     "name": "stdout",
     "output_type": "stream",
     "text": [
      "Found 1594 images belonging to 2 classes.\n",
      "Found 394 images belonging to 2 classes.\n"
     ]
    }
   ],
   "source": [
    "train_gen = ImageDataGenerator(\n",
    "    rescale=1./255,\n",
    "    rotation_range=40,\n",
    "    width_shift_range=0.2,\n",
    "    height_shift_range=0.2,\n",
    "    shear_range=0.2,\n",
    "    zoom_range=0.2,\n",
    "    horizontal_flip=True,\n",
    "    fill_mode='nearest'\n",
    ")\n",
    "train_generator = train_gen.flow_from_directory(\n",
    "    './train/', \n",
    "    target_size=(150, 150),\n",
    "    batch_size=20,\n",
    "    class_mode=\"binary\"\n",
    ")\n",
    "\n",
    "test_gen = ImageDataGenerator(rescale=1./255)\n",
    "test_generator = test_gen.flow_from_directory(\n",
    "    './test/', \n",
    "    target_size=(150, 150), \n",
    "    batch_size=20,\n",
    "    class_mode=\"binary\"\n",
    ")"
   ]
  },
  {
   "cell_type": "code",
   "execution_count": 43,
   "id": "6b2f35a0-4aa8-4768-8adc-8734f5ee9afe",
   "metadata": {
    "execution": {
     "iopub.execute_input": "2022-11-21T21:13:19.919586Z",
     "iopub.status.busy": "2022-11-21T21:13:19.919166Z",
     "iopub.status.idle": "2022-11-21T21:15:50.662307Z",
     "shell.execute_reply": "2022-11-21T21:15:50.661628Z",
     "shell.execute_reply.started": "2022-11-21T21:13:19.919552Z"
    },
    "tags": []
   },
   "outputs": [
    {
     "name": "stdout",
     "output_type": "stream",
     "text": [
      "Epoch 1/10\n",
      "80/80 [==============================] - 15s 189ms/step - loss: 0.4654 - accuracy: 0.7923 - val_loss: 0.4090 - val_accuracy: 0.8096\n",
      "Epoch 2/10\n",
      "80/80 [==============================] - 15s 187ms/step - loss: 0.4243 - accuracy: 0.7930 - val_loss: 0.3404 - val_accuracy: 0.8503\n",
      "Epoch 3/10\n",
      "80/80 [==============================] - 15s 188ms/step - loss: 0.4111 - accuracy: 0.8174 - val_loss: 0.5971 - val_accuracy: 0.7259\n",
      "Epoch 4/10\n",
      "80/80 [==============================] - 15s 188ms/step - loss: 0.3880 - accuracy: 0.8363 - val_loss: 0.3820 - val_accuracy: 0.8401\n",
      "Epoch 5/10\n",
      "80/80 [==============================] - 15s 188ms/step - loss: 0.3952 - accuracy: 0.8250 - val_loss: 0.5283 - val_accuracy: 0.7614\n",
      "Epoch 6/10\n",
      "80/80 [==============================] - 15s 189ms/step - loss: 0.3752 - accuracy: 0.8369 - val_loss: 0.3668 - val_accuracy: 0.8503\n",
      "Epoch 7/10\n",
      "80/80 [==============================] - 15s 188ms/step - loss: 0.3714 - accuracy: 0.8450 - val_loss: 0.5011 - val_accuracy: 0.7868\n",
      "Epoch 8/10\n",
      "80/80 [==============================] - 15s 188ms/step - loss: 0.3656 - accuracy: 0.8419 - val_loss: 0.7872 - val_accuracy: 0.7132\n",
      "Epoch 9/10\n",
      "80/80 [==============================] - 15s 188ms/step - loss: 0.3608 - accuracy: 0.8538 - val_loss: 0.2813 - val_accuracy: 0.8807\n",
      "Epoch 10/10\n",
      "80/80 [==============================] - 15s 187ms/step - loss: 0.3691 - accuracy: 0.8331 - val_loss: 1.1657 - val_accuracy: 0.6294\n"
     ]
    }
   ],
   "source": [
    "history = model.fit(\n",
    "    train_generator,\n",
    "    epochs=10,\n",
    "    validation_data=test_generator\n",
    ")"
   ]
  },
  {
   "cell_type": "markdown",
   "id": "4072e22f-a667-47f7-a206-05141b5b7e2e",
   "metadata": {},
   "source": [
    "#### Q5"
   ]
  },
  {
   "cell_type": "code",
   "execution_count": 46,
   "id": "0c4da1b4-b401-4108-9837-378f74a83603",
   "metadata": {
    "execution": {
     "iopub.execute_input": "2022-11-21T21:17:05.182451Z",
     "iopub.status.busy": "2022-11-21T21:17:05.182066Z",
     "iopub.status.idle": "2022-11-21T21:17:05.187736Z",
     "shell.execute_reply": "2022-11-21T21:17:05.186949Z",
     "shell.execute_reply.started": "2022-11-21T21:17:05.182427Z"
    },
    "tags": []
   },
   "outputs": [
    {
     "data": {
      "text/plain": [
       "0.5358876556158065"
      ]
     },
     "execution_count": 46,
     "metadata": {},
     "output_type": "execute_result"
    }
   ],
   "source": [
    "np.mean(history.history[\"val_loss\"])"
   ]
  },
  {
   "cell_type": "markdown",
   "id": "9612d154-0860-4628-a4d1-91843de2e26d",
   "metadata": {},
   "source": [
    "#### Q6"
   ]
  },
  {
   "cell_type": "code",
   "execution_count": 47,
   "id": "2d73ef4c-ee18-4c20-91ad-1630c0408b34",
   "metadata": {
    "execution": {
     "iopub.execute_input": "2022-11-21T21:17:06.843713Z",
     "iopub.status.busy": "2022-11-21T21:17:06.843325Z",
     "iopub.status.idle": "2022-11-21T21:17:06.848781Z",
     "shell.execute_reply": "2022-11-21T21:17:06.848000Z",
     "shell.execute_reply.started": "2022-11-21T21:17:06.843688Z"
    },
    "tags": []
   },
   "outputs": [
    {
     "data": {
      "text/plain": [
       "0.7847715795040131"
      ]
     },
     "execution_count": 47,
     "metadata": {},
     "output_type": "execute_result"
    }
   ],
   "source": [
    "np.mean(history.history[\"val_accuracy\"])"
   ]
  }
 ],
 "metadata": {
  "kernelspec": {
   "display_name": "saturn (Python 3)",
   "language": "python",
   "name": "python3"
  },
  "language_info": {
   "codemirror_mode": {
    "name": "ipython",
    "version": 3
   },
   "file_extension": ".py",
   "mimetype": "text/x-python",
   "name": "python",
   "nbconvert_exporter": "python",
   "pygments_lexer": "ipython3",
   "version": "3.9.13"
  }
 },
 "nbformat": 4,
 "nbformat_minor": 5
}
