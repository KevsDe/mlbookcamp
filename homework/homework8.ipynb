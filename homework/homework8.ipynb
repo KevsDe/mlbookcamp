{
 "cells": [
  {
   "cell_type": "code",
   "execution_count": 7,
   "id": "0314b35a-d6b6-46b8-9057-93af2368fd2f",
   "metadata": {
    "execution": {
     "iopub.execute_input": "2022-11-21T21:31:18.744948Z",
     "iopub.status.busy": "2022-11-21T21:31:18.744534Z",
     "iopub.status.idle": "2022-11-21T21:31:18.749450Z",
     "shell.execute_reply": "2022-11-21T21:31:18.748572Z",
     "shell.execute_reply.started": "2022-11-21T21:31:18.744919Z"
    },
    "tags": []
   },
   "outputs": [],
   "source": [
    "import numpy as np\n",
    "\n",
    "import tensorflow as tf\n",
    "from tensorflow import keras\n",
    "\n",
    "from tensorflow.keras import layers\n",
    "from tensorflow.keras import models\n",
    "from tensorflow.keras import optimizers\n",
    "\n",
    "from tensorflow.keras.preprocessing.image import load_img\n",
    "from tensorflow.keras.preprocessing.image import ImageDataGenerator"
   ]
  },
  {
   "cell_type": "code",
   "execution_count": 8,
   "id": "2483707d-3cc4-416d-96ab-1cbbbe9a9865",
   "metadata": {
    "execution": {
     "iopub.execute_input": "2022-11-21T21:31:18.970792Z",
     "iopub.status.busy": "2022-11-21T21:31:18.970426Z",
     "iopub.status.idle": "2022-11-21T21:31:19.008182Z",
     "shell.execute_reply": "2022-11-21T21:31:19.007596Z",
     "shell.execute_reply.started": "2022-11-21T21:31:18.970769Z"
    },
    "tags": []
   },
   "outputs": [],
   "source": [
    "model = models.Sequential()\n",
    "\n",
    "model.add(layers.Conv2D(32, (3, 3), activation='relu',input_shape=(150, 150, 3)))\n",
    "model.add(layers.MaxPooling2D((2, 2)))\n",
    "model.add(layers.Flatten())\n",
    "model.add(layers.Dense(64, activation='relu'))\n",
    "model.add(layers.Dense(1, activation='sigmoid'))"
   ]
  },
  {
   "cell_type": "markdown",
   "id": "71f2ba75-2094-49a8-a66e-60283b39ae35",
   "metadata": {},
   "source": [
    "#### Q1"
   ]
  },
  {
   "cell_type": "code",
   "execution_count": 9,
   "id": "8e329dc8-169e-4556-a2a2-6f940e251079",
   "metadata": {
    "execution": {
     "iopub.execute_input": "2022-11-21T21:31:20.442996Z",
     "iopub.status.busy": "2022-11-21T21:31:20.442601Z",
     "iopub.status.idle": "2022-11-21T21:31:20.451554Z",
     "shell.execute_reply": "2022-11-21T21:31:20.450935Z",
     "shell.execute_reply.started": "2022-11-21T21:31:20.442968Z"
    },
    "tags": []
   },
   "outputs": [],
   "source": [
    "model.compile(loss='binary_crossentropy', optimizer=optimizers.SGD(learning_rate=0.002, momentum=0.8), metrics=['accuracy'])"
   ]
  },
  {
   "cell_type": "markdown",
   "id": "38255d8f-1ae2-4c4d-afc7-b4f6995355aa",
   "metadata": {},
   "source": [
    "#### Q2"
   ]
  },
  {
   "cell_type": "code",
   "execution_count": 10,
   "id": "074ac235-20c0-4324-8b8a-d1fd1c193830",
   "metadata": {
    "execution": {
     "iopub.execute_input": "2022-11-21T21:31:23.343473Z",
     "iopub.status.busy": "2022-11-21T21:31:23.343078Z",
     "iopub.status.idle": "2022-11-21T21:31:23.359532Z",
     "shell.execute_reply": "2022-11-21T21:31:23.358905Z",
     "shell.execute_reply.started": "2022-11-21T21:31:23.343444Z"
    },
    "tags": []
   },
   "outputs": [
    {
     "name": "stdout",
     "output_type": "stream",
     "text": [
      "Model: \"sequential_1\"\n",
      "_________________________________________________________________\n",
      " Layer (type)                Output Shape              Param #   \n",
      "=================================================================\n",
      " conv2d_1 (Conv2D)           (None, 148, 148, 32)      896       \n",
      "                                                                 \n",
      " max_pooling2d_1 (MaxPooling  (None, 74, 74, 32)       0         \n",
      " 2D)                                                             \n",
      "                                                                 \n",
      " flatten_1 (Flatten)         (None, 175232)            0         \n",
      "                                                                 \n",
      " dense_2 (Dense)             (None, 64)                11214912  \n",
      "                                                                 \n",
      " dense_3 (Dense)             (None, 1)                 65        \n",
      "                                                                 \n",
      "=================================================================\n",
      "Total params: 11,215,873\n",
      "Trainable params: 11,215,873\n",
      "Non-trainable params: 0\n",
      "_________________________________________________________________\n"
     ]
    }
   ],
   "source": [
    "model.summary()"
   ]
  },
  {
   "cell_type": "code",
   "execution_count": 11,
   "id": "71cafde0-f4f9-495a-9d8b-036648b68fa7",
   "metadata": {
    "execution": {
     "iopub.execute_input": "2022-11-21T21:31:29.143013Z",
     "iopub.status.busy": "2022-11-21T21:31:29.142606Z",
     "iopub.status.idle": "2022-11-21T21:31:29.205893Z",
     "shell.execute_reply": "2022-11-21T21:31:29.205216Z",
     "shell.execute_reply.started": "2022-11-21T21:31:29.142988Z"
    },
    "tags": []
   },
   "outputs": [
    {
     "name": "stdout",
     "output_type": "stream",
     "text": [
      "Found 1594 images belonging to 2 classes.\n",
      "Found 394 images belonging to 2 classes.\n"
     ]
    }
   ],
   "source": [
    "train_gen = ImageDataGenerator(rescale=1./255)\n",
    "train_generator = train_gen.flow_from_directory(\n",
    "    './train/', \n",
    "    target_size=(150, 150),\n",
    "    batch_size=20,\n",
    "    class_mode=\"binary\"\n",
    ")\n",
    "\n",
    "test_gen = ImageDataGenerator(rescale=1./255)\n",
    "test_generator = test_gen.flow_from_directory(\n",
    "    './test/', \n",
    "    target_size=(150, 150), \n",
    "    batch_size=20,\n",
    "    class_mode=\"binary\"\n",
    ")"
   ]
  },
  {
   "cell_type": "code",
   "execution_count": 12,
   "id": "f28b46bc-29dc-43fa-8787-15c1fb06ce39",
   "metadata": {
    "execution": {
     "iopub.execute_input": "2022-11-21T21:31:30.951691Z",
     "iopub.status.busy": "2022-11-21T21:31:30.951299Z",
     "iopub.status.idle": "2022-11-21T21:32:55.780017Z",
     "shell.execute_reply": "2022-11-21T21:32:55.779185Z",
     "shell.execute_reply.started": "2022-11-21T21:31:30.951661Z"
    },
    "tags": []
   },
   "outputs": [
    {
     "name": "stdout",
     "output_type": "stream",
     "text": [
      "Epoch 1/10\n",
      "80/80 [==============================] - 9s 109ms/step - loss: 0.6580 - accuracy: 0.6048 - val_loss: 0.5790 - val_accuracy: 0.7005\n",
      "Epoch 2/10\n",
      "80/80 [==============================] - 8s 104ms/step - loss: 0.5340 - accuracy: 0.7440 - val_loss: 0.4872 - val_accuracy: 0.7665\n",
      "Epoch 3/10\n",
      "80/80 [==============================] - 8s 105ms/step - loss: 0.4697 - accuracy: 0.7811 - val_loss: 0.4086 - val_accuracy: 0.8579\n",
      "Epoch 4/10\n",
      "80/80 [==============================] - 8s 104ms/step - loss: 0.3830 - accuracy: 0.8476 - val_loss: 0.4319 - val_accuracy: 0.7893\n",
      "Epoch 5/10\n",
      "80/80 [==============================] - 8s 105ms/step - loss: 0.3495 - accuracy: 0.8645 - val_loss: 0.3463 - val_accuracy: 0.8604\n",
      "Epoch 6/10\n",
      "80/80 [==============================] - 8s 105ms/step - loss: 0.3077 - accuracy: 0.8871 - val_loss: 0.3223 - val_accuracy: 0.8604\n",
      "Epoch 7/10\n",
      "80/80 [==============================] - 8s 105ms/step - loss: 0.2801 - accuracy: 0.8934 - val_loss: 0.3535 - val_accuracy: 0.8553\n",
      "Epoch 8/10\n",
      "80/80 [==============================] - 8s 105ms/step - loss: 0.2639 - accuracy: 0.9059 - val_loss: 0.2941 - val_accuracy: 0.8706\n",
      "Epoch 9/10\n",
      "80/80 [==============================] - 8s 106ms/step - loss: 0.2515 - accuracy: 0.8977 - val_loss: 0.2925 - val_accuracy: 0.8807\n",
      "Epoch 10/10\n",
      "80/80 [==============================] - 8s 105ms/step - loss: 0.2106 - accuracy: 0.9272 - val_loss: 0.3175 - val_accuracy: 0.8579\n"
     ]
    }
   ],
   "source": [
    "history = model.fit(\n",
    "    train_generator,\n",
    "    epochs=10,\n",
    "    validation_data=test_generator\n",
    ")"
   ]
  },
  {
   "cell_type": "markdown",
   "id": "1847f540-5597-4007-9852-97fca2c077d1",
   "metadata": {
    "execution": {
     "iopub.execute_input": "2022-11-21T21:00:54.941175Z",
     "iopub.status.busy": "2022-11-21T21:00:54.940781Z",
     "iopub.status.idle": "2022-11-21T21:00:54.944551Z",
     "shell.execute_reply": "2022-11-21T21:00:54.943787Z",
     "shell.execute_reply.started": "2022-11-21T21:00:54.941150Z"
    }
   },
   "source": [
    "#### Q3"
   ]
  },
  {
   "cell_type": "code",
   "execution_count": 13,
   "id": "06a8b756-cb17-4988-b27d-6d93e870e2c5",
   "metadata": {
    "execution": {
     "iopub.execute_input": "2022-11-21T21:32:55.782174Z",
     "iopub.status.busy": "2022-11-21T21:32:55.781789Z",
     "iopub.status.idle": "2022-11-21T21:32:55.794511Z",
     "shell.execute_reply": "2022-11-21T21:32:55.793759Z",
     "shell.execute_reply.started": "2022-11-21T21:32:55.782139Z"
    },
    "tags": []
   },
   "outputs": [
    {
     "data": {
      "text/plain": [
       "0.8757841885089874"
      ]
     },
     "execution_count": 13,
     "metadata": {},
     "output_type": "execute_result"
    }
   ],
   "source": [
    "np.median(history.history[\"accuracy\"])"
   ]
  },
  {
   "cell_type": "markdown",
   "id": "b4ac4606-7490-4dde-9de3-9add99e4994f",
   "metadata": {},
   "source": [
    "#### Q4"
   ]
  },
  {
   "cell_type": "code",
   "execution_count": 14,
   "id": "18f12bf9-dda5-4cba-b06d-479be0aa29e8",
   "metadata": {
    "execution": {
     "iopub.execute_input": "2022-11-21T21:32:55.796136Z",
     "iopub.status.busy": "2022-11-21T21:32:55.795655Z",
     "iopub.status.idle": "2022-11-21T21:32:55.801930Z",
     "shell.execute_reply": "2022-11-21T21:32:55.801202Z",
     "shell.execute_reply.started": "2022-11-21T21:32:55.796102Z"
    },
    "tags": []
   },
   "outputs": [
    {
     "data": {
      "text/plain": [
       "0.13527495620472804"
      ]
     },
     "execution_count": 14,
     "metadata": {},
     "output_type": "execute_result"
    }
   ],
   "source": [
    "np.std(history.history[\"loss\"])"
   ]
  },
  {
   "cell_type": "code",
   "execution_count": 15,
   "id": "1118b038-04ac-4bf5-8366-68e1adde73d6",
   "metadata": {
    "execution": {
     "iopub.execute_input": "2022-11-21T21:32:55.803572Z",
     "iopub.status.busy": "2022-11-21T21:32:55.803259Z",
     "iopub.status.idle": "2022-11-21T21:32:55.860495Z",
     "shell.execute_reply": "2022-11-21T21:32:55.859857Z",
     "shell.execute_reply.started": "2022-11-21T21:32:55.803552Z"
    },
    "tags": []
   },
   "outputs": [
    {
     "name": "stdout",
     "output_type": "stream",
     "text": [
      "Found 1594 images belonging to 2 classes.\n",
      "Found 394 images belonging to 2 classes.\n"
     ]
    }
   ],
   "source": [
    "train_gen = ImageDataGenerator(\n",
    "    rescale=1./255,\n",
    "    rotation_range=40,\n",
    "    width_shift_range=0.2,\n",
    "    height_shift_range=0.2,\n",
    "    shear_range=0.2,\n",
    "    zoom_range=0.2,\n",
    "    horizontal_flip=True,\n",
    "    fill_mode='nearest'\n",
    ")\n",
    "train_generator = train_gen.flow_from_directory(\n",
    "    './train/', \n",
    "    target_size=(150, 150),\n",
    "    batch_size=20,\n",
    "    class_mode=\"binary\"\n",
    ")\n",
    "\n",
    "test_gen = ImageDataGenerator(rescale=1./255)\n",
    "test_generator = test_gen.flow_from_directory(\n",
    "    './test/', \n",
    "    target_size=(150, 150), \n",
    "    batch_size=20,\n",
    "    class_mode=\"binary\"\n",
    ")"
   ]
  },
  {
   "cell_type": "code",
   "execution_count": 16,
   "id": "6b2f35a0-4aa8-4768-8adc-8734f5ee9afe",
   "metadata": {
    "execution": {
     "iopub.execute_input": "2022-11-21T21:32:55.861572Z",
     "iopub.status.busy": "2022-11-21T21:32:55.861276Z",
     "iopub.status.idle": "2022-11-21T21:35:25.609946Z",
     "shell.execute_reply": "2022-11-21T21:35:25.609165Z",
     "shell.execute_reply.started": "2022-11-21T21:32:55.861550Z"
    },
    "tags": []
   },
   "outputs": [
    {
     "name": "stdout",
     "output_type": "stream",
     "text": [
      "Epoch 1/10\n",
      "80/80 [==============================] - 15s 188ms/step - loss: 0.4604 - accuracy: 0.7792 - val_loss: 0.4479 - val_accuracy: 0.7868\n",
      "Epoch 2/10\n",
      "80/80 [==============================] - 15s 187ms/step - loss: 0.4543 - accuracy: 0.7911 - val_loss: 0.7552 - val_accuracy: 0.6726\n",
      "Epoch 3/10\n",
      "80/80 [==============================] - 15s 186ms/step - loss: 0.4474 - accuracy: 0.7930 - val_loss: 0.3694 - val_accuracy: 0.8401\n",
      "Epoch 4/10\n",
      "80/80 [==============================] - 15s 186ms/step - loss: 0.3959 - accuracy: 0.8225 - val_loss: 0.3554 - val_accuracy: 0.8452\n",
      "Epoch 5/10\n",
      "80/80 [==============================] - 15s 186ms/step - loss: 0.3924 - accuracy: 0.8325 - val_loss: 0.2785 - val_accuracy: 0.8807\n",
      "Epoch 6/10\n",
      "80/80 [==============================] - 15s 187ms/step - loss: 0.3674 - accuracy: 0.8400 - val_loss: 0.7802 - val_accuracy: 0.6980\n",
      "Epoch 7/10\n",
      "80/80 [==============================] - 15s 186ms/step - loss: 0.3690 - accuracy: 0.8407 - val_loss: 0.4077 - val_accuracy: 0.8223\n",
      "Epoch 8/10\n",
      "80/80 [==============================] - 15s 187ms/step - loss: 0.3709 - accuracy: 0.8344 - val_loss: 0.2904 - val_accuracy: 0.8807\n",
      "Epoch 9/10\n",
      "80/80 [==============================] - 15s 187ms/step - loss: 0.3586 - accuracy: 0.8407 - val_loss: 0.5045 - val_accuracy: 0.7843\n",
      "Epoch 10/10\n",
      "80/80 [==============================] - 15s 187ms/step - loss: 0.3742 - accuracy: 0.8306 - val_loss: 0.3394 - val_accuracy: 0.8503\n"
     ]
    }
   ],
   "source": [
    "history = model.fit(\n",
    "    train_generator,\n",
    "    epochs=10,\n",
    "    validation_data=test_generator\n",
    ")"
   ]
  },
  {
   "cell_type": "markdown",
   "id": "4072e22f-a667-47f7-a206-05141b5b7e2e",
   "metadata": {},
   "source": [
    "#### Q5"
   ]
  },
  {
   "cell_type": "code",
   "execution_count": 17,
   "id": "0c4da1b4-b401-4108-9837-378f74a83603",
   "metadata": {
    "execution": {
     "iopub.execute_input": "2022-11-21T21:35:25.611360Z",
     "iopub.status.busy": "2022-11-21T21:35:25.611004Z",
     "iopub.status.idle": "2022-11-21T21:35:25.619121Z",
     "shell.execute_reply": "2022-11-21T21:35:25.618393Z",
     "shell.execute_reply.started": "2022-11-21T21:35:25.611337Z"
    },
    "tags": []
   },
   "outputs": [
    {
     "data": {
      "text/plain": [
       "0.45285660326480864"
      ]
     },
     "execution_count": 17,
     "metadata": {},
     "output_type": "execute_result"
    }
   ],
   "source": [
    "np.mean(history.history[\"val_loss\"])"
   ]
  },
  {
   "cell_type": "markdown",
   "id": "9612d154-0860-4628-a4d1-91843de2e26d",
   "metadata": {},
   "source": [
    "#### Q6"
   ]
  },
  {
   "cell_type": "code",
   "execution_count": 19,
   "id": "2d73ef4c-ee18-4c20-91ad-1630c0408b34",
   "metadata": {
    "execution": {
     "iopub.execute_input": "2022-11-21T21:37:04.968095Z",
     "iopub.status.busy": "2022-11-21T21:37:04.967694Z",
     "iopub.status.idle": "2022-11-21T21:37:04.973517Z",
     "shell.execute_reply": "2022-11-21T21:37:04.972740Z",
     "shell.execute_reply.started": "2022-11-21T21:37:04.968071Z"
    },
    "tags": []
   },
   "outputs": [
    {
     "data": {
      "text/plain": [
       "0.8071066021919251"
      ]
     },
     "execution_count": 19,
     "metadata": {},
     "output_type": "execute_result"
    }
   ],
   "source": [
    "np.mean(history.history[\"val_accuracy\"][5:10])"
   ]
  },
  {
   "cell_type": "code",
   "execution_count": null,
   "id": "0bd93031-31e7-49cc-8a47-86564cee9c07",
   "metadata": {},
   "outputs": [],
   "source": []
  }
 ],
 "metadata": {
  "kernelspec": {
   "display_name": "saturn (Python 3)",
   "language": "python",
   "name": "python3"
  },
  "language_info": {
   "codemirror_mode": {
    "name": "ipython",
    "version": 3
   },
   "file_extension": ".py",
   "mimetype": "text/x-python",
   "name": "python",
   "nbconvert_exporter": "python",
   "pygments_lexer": "ipython3",
   "version": "3.9.13"
  }
 },
 "nbformat": 4,
 "nbformat_minor": 5
}
