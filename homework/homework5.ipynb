{
 "cells": [
  {
   "cell_type": "markdown",
   "id": "d2af13d7-bfa7-4a08-a78d-2cc4db414fdc",
   "metadata": {},
   "source": [
    "#### Question 1"
   ]
  },
  {
   "cell_type": "code",
   "execution_count": 15,
   "id": "c8119080-b8b6-485b-a42e-41c6b3669d88",
   "metadata": {},
   "outputs": [
    {
     "name": "stdout",
     "output_type": "stream",
     "text": [
      "\u001b[1mpipenv\u001b[0m, version 2022.10.9\n",
      "\u001b[0m"
     ]
    }
   ],
   "source": [
    "!pipenv --version"
   ]
  },
  {
   "cell_type": "markdown",
   "id": "8ed9482d-2978-4d8f-9e0c-96597b9bcebc",
   "metadata": {},
   "source": [
    "#### Question 3"
   ]
  },
  {
   "cell_type": "code",
   "execution_count": 16,
   "id": "43d438bf-988d-4ff6-a321-dfabbd1af082",
   "metadata": {},
   "outputs": [],
   "source": [
    "import pickle"
   ]
  },
  {
   "cell_type": "code",
   "execution_count": 3,
   "id": "1388e798-fe66-4e5e-acd1-8cb8fc3c8f2b",
   "metadata": {},
   "outputs": [],
   "source": [
    "with open('homework4_input/model1.bin', 'rb') as f_in:\n",
    "    model = pickle.load(f_in)"
   ]
  },
  {
   "cell_type": "code",
   "execution_count": 4,
   "id": "a8512faf-9330-4efb-9467-5930cbd798ad",
   "metadata": {},
   "outputs": [],
   "source": [
    "with open('homework4_input/dv.bin', 'rb') as f_in:\n",
    "    dv = pickle.load(f_in)"
   ]
  },
  {
   "cell_type": "code",
   "execution_count": 6,
   "id": "6ad7f397-b5c3-4c06-b6ea-d3681d2d85a6",
   "metadata": {},
   "outputs": [],
   "source": [
    "c = {\"reports\": 0, \"share\": 0.001694, \"expenditure\": 0.12, \"owner\": \"yes\"}\n"
   ]
  },
  {
   "cell_type": "code",
   "execution_count": 8,
   "id": "65d9c82b-af19-49d1-a3b4-65a20a0b11ba",
   "metadata": {},
   "outputs": [],
   "source": [
    "customer = dv.transform(c)"
   ]
  },
  {
   "cell_type": "code",
   "execution_count": 13,
   "id": "ac4bbba8-82af-4390-9660-04f8e7257a70",
   "metadata": {},
   "outputs": [
    {
     "data": {
      "text/plain": [
       "array([0.16213414])"
      ]
     },
     "execution_count": 13,
     "metadata": {},
     "output_type": "execute_result"
    }
   ],
   "source": [
    "model.predict_proba(customer)[:,1]"
   ]
  },
  {
   "cell_type": "markdown",
   "id": "17bfea03-a560-4ec9-8d67-f17621a5a9fa",
   "metadata": {},
   "source": [
    "#### Question 4"
   ]
  },
  {
   "cell_type": "code",
   "execution_count": 21,
   "id": "71656dc3-ae31-436f-b6d7-766e5b8668d3",
   "metadata": {},
   "outputs": [],
   "source": [
    "import requests"
   ]
  },
  {
   "cell_type": "code",
   "execution_count": 22,
   "id": "4dc1f79d-4ea4-40fc-801e-e3fe786548ea",
   "metadata": {},
   "outputs": [],
   "source": [
    "client = {\"reports\": 0, \"share\": 0.245, \"expenditure\": 3.438, \"owner\": \"yes\"}"
   ]
  },
  {
   "cell_type": "code",
   "execution_count": 23,
   "id": "b5956837-6a84-4d3b-a1e6-b919e96ee8dc",
   "metadata": {},
   "outputs": [],
   "source": [
    "url = 'http://localhost:9696/predict'"
   ]
  },
  {
   "cell_type": "code",
   "execution_count": 24,
   "id": "f0e6dc0a-6b91-424c-8c54-c9085607642c",
   "metadata": {},
   "outputs": [
    {
     "data": {
      "text/plain": [
       "{'credit_probability': 0.9282218018527452}"
      ]
     },
     "execution_count": 24,
     "metadata": {},
     "output_type": "execute_result"
    }
   ],
   "source": [
    "requests.post(url, json=client).json()\n"
   ]
  },
  {
   "cell_type": "markdown",
   "id": "254c3792-094d-4826-bf16-8b44f88bd958",
   "metadata": {},
   "source": [
    "#### Question 6"
   ]
  },
  {
   "cell_type": "code",
   "execution_count": 25,
   "id": "74ab650e-6ff0-4a10-b4cd-95f909c1e140",
   "metadata": {},
   "outputs": [
    {
     "data": {
      "text/plain": [
       "{'credit_probability': 0.7692649226628628}"
      ]
     },
     "execution_count": 25,
     "metadata": {},
     "output_type": "execute_result"
    }
   ],
   "source": [
    "url = 'http://localhost:9696/predict'\n",
    "client = {\"reports\": 0, \"share\": 0.245, \"expenditure\": 3.438, \"owner\": \"yes\"}\n",
    "requests.post(url, json=client).json()"
   ]
  }
 ],
 "metadata": {
  "kernelspec": {
   "display_name": "Python 3 (ipykernel)",
   "language": "python",
   "name": "python3"
  },
  "language_info": {
   "codemirror_mode": {
    "name": "ipython",
    "version": 3
   },
   "file_extension": ".py",
   "mimetype": "text/x-python",
   "name": "python",
   "nbconvert_exporter": "python",
   "pygments_lexer": "ipython3",
   "version": "3.8.10"
  }
 },
 "nbformat": 4,
 "nbformat_minor": 5
}
