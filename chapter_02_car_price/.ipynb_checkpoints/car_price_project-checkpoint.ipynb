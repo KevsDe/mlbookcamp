{
 "cells": [
  {
   "cell_type": "code",
   "execution_count": 1,
   "id": "48c9ee48-a4c4-4dae-944e-b1452159dd2b",
   "metadata": {},
   "outputs": [],
   "source": [
    "import pandas as pd \n",
    "import numpy as np\n",
    "from matplotlib import pyplot as plt\n",
    "import seaborn as sns \n",
    "%matplotlib inline"
   ]
  },
  {
   "cell_type": "markdown",
   "id": "135dd7f6-b0ad-4712-b96b-e93affad00c0",
   "metadata": {},
   "source": [
    "# Data preparaton"
   ]
  },
  {
   "cell_type": "code",
   "execution_count": 2,
   "id": "3f4f055f-ca54-42e1-afb4-45cfbdc6c740",
   "metadata": {},
   "outputs": [],
   "source": [
    "df = pd.read_csv('input/data.csv')"
   ]
  },
  {
   "cell_type": "code",
   "execution_count": 3,
   "id": "5ff0b475-405e-4283-beec-8881263e21b4",
   "metadata": {},
   "outputs": [
    {
     "data": {
      "text/html": [
       "<div>\n",
       "<style scoped>\n",
       "    .dataframe tbody tr th:only-of-type {\n",
       "        vertical-align: middle;\n",
       "    }\n",
       "\n",
       "    .dataframe tbody tr th {\n",
       "        vertical-align: top;\n",
       "    }\n",
       "\n",
       "    .dataframe thead th {\n",
       "        text-align: right;\n",
       "    }\n",
       "</style>\n",
       "<table border=\"1\" class=\"dataframe\">\n",
       "  <thead>\n",
       "    <tr style=\"text-align: right;\">\n",
       "      <th></th>\n",
       "      <th>Make</th>\n",
       "      <th>Model</th>\n",
       "      <th>Year</th>\n",
       "      <th>Engine Fuel Type</th>\n",
       "      <th>Engine HP</th>\n",
       "      <th>Engine Cylinders</th>\n",
       "      <th>Transmission Type</th>\n",
       "      <th>Driven_Wheels</th>\n",
       "      <th>Number of Doors</th>\n",
       "      <th>Market Category</th>\n",
       "      <th>Vehicle Size</th>\n",
       "      <th>Vehicle Style</th>\n",
       "      <th>highway MPG</th>\n",
       "      <th>city mpg</th>\n",
       "      <th>Popularity</th>\n",
       "      <th>MSRP</th>\n",
       "    </tr>\n",
       "  </thead>\n",
       "  <tbody>\n",
       "    <tr>\n",
       "      <th>0</th>\n",
       "      <td>BMW</td>\n",
       "      <td>1 Series M</td>\n",
       "      <td>2011</td>\n",
       "      <td>premium unleaded (required)</td>\n",
       "      <td>335.0</td>\n",
       "      <td>6.0</td>\n",
       "      <td>MANUAL</td>\n",
       "      <td>rear wheel drive</td>\n",
       "      <td>2.0</td>\n",
       "      <td>Factory Tuner,Luxury,High-Performance</td>\n",
       "      <td>Compact</td>\n",
       "      <td>Coupe</td>\n",
       "      <td>26</td>\n",
       "      <td>19</td>\n",
       "      <td>3916</td>\n",
       "      <td>46135</td>\n",
       "    </tr>\n",
       "    <tr>\n",
       "      <th>1</th>\n",
       "      <td>BMW</td>\n",
       "      <td>1 Series</td>\n",
       "      <td>2011</td>\n",
       "      <td>premium unleaded (required)</td>\n",
       "      <td>300.0</td>\n",
       "      <td>6.0</td>\n",
       "      <td>MANUAL</td>\n",
       "      <td>rear wheel drive</td>\n",
       "      <td>2.0</td>\n",
       "      <td>Luxury,Performance</td>\n",
       "      <td>Compact</td>\n",
       "      <td>Convertible</td>\n",
       "      <td>28</td>\n",
       "      <td>19</td>\n",
       "      <td>3916</td>\n",
       "      <td>40650</td>\n",
       "    </tr>\n",
       "    <tr>\n",
       "      <th>2</th>\n",
       "      <td>BMW</td>\n",
       "      <td>1 Series</td>\n",
       "      <td>2011</td>\n",
       "      <td>premium unleaded (required)</td>\n",
       "      <td>300.0</td>\n",
       "      <td>6.0</td>\n",
       "      <td>MANUAL</td>\n",
       "      <td>rear wheel drive</td>\n",
       "      <td>2.0</td>\n",
       "      <td>Luxury,High-Performance</td>\n",
       "      <td>Compact</td>\n",
       "      <td>Coupe</td>\n",
       "      <td>28</td>\n",
       "      <td>20</td>\n",
       "      <td>3916</td>\n",
       "      <td>36350</td>\n",
       "    </tr>\n",
       "    <tr>\n",
       "      <th>3</th>\n",
       "      <td>BMW</td>\n",
       "      <td>1 Series</td>\n",
       "      <td>2011</td>\n",
       "      <td>premium unleaded (required)</td>\n",
       "      <td>230.0</td>\n",
       "      <td>6.0</td>\n",
       "      <td>MANUAL</td>\n",
       "      <td>rear wheel drive</td>\n",
       "      <td>2.0</td>\n",
       "      <td>Luxury,Performance</td>\n",
       "      <td>Compact</td>\n",
       "      <td>Coupe</td>\n",
       "      <td>28</td>\n",
       "      <td>18</td>\n",
       "      <td>3916</td>\n",
       "      <td>29450</td>\n",
       "    </tr>\n",
       "    <tr>\n",
       "      <th>4</th>\n",
       "      <td>BMW</td>\n",
       "      <td>1 Series</td>\n",
       "      <td>2011</td>\n",
       "      <td>premium unleaded (required)</td>\n",
       "      <td>230.0</td>\n",
       "      <td>6.0</td>\n",
       "      <td>MANUAL</td>\n",
       "      <td>rear wheel drive</td>\n",
       "      <td>2.0</td>\n",
       "      <td>Luxury</td>\n",
       "      <td>Compact</td>\n",
       "      <td>Convertible</td>\n",
       "      <td>28</td>\n",
       "      <td>18</td>\n",
       "      <td>3916</td>\n",
       "      <td>34500</td>\n",
       "    </tr>\n",
       "  </tbody>\n",
       "</table>\n",
       "</div>"
      ],
      "text/plain": [
       "  Make       Model  Year             Engine Fuel Type  Engine HP  \\\n",
       "0  BMW  1 Series M  2011  premium unleaded (required)      335.0   \n",
       "1  BMW    1 Series  2011  premium unleaded (required)      300.0   \n",
       "2  BMW    1 Series  2011  premium unleaded (required)      300.0   \n",
       "3  BMW    1 Series  2011  premium unleaded (required)      230.0   \n",
       "4  BMW    1 Series  2011  premium unleaded (required)      230.0   \n",
       "\n",
       "   Engine Cylinders Transmission Type     Driven_Wheels  Number of Doors  \\\n",
       "0               6.0            MANUAL  rear wheel drive              2.0   \n",
       "1               6.0            MANUAL  rear wheel drive              2.0   \n",
       "2               6.0            MANUAL  rear wheel drive              2.0   \n",
       "3               6.0            MANUAL  rear wheel drive              2.0   \n",
       "4               6.0            MANUAL  rear wheel drive              2.0   \n",
       "\n",
       "                         Market Category Vehicle Size Vehicle Style  \\\n",
       "0  Factory Tuner,Luxury,High-Performance      Compact         Coupe   \n",
       "1                     Luxury,Performance      Compact   Convertible   \n",
       "2                Luxury,High-Performance      Compact         Coupe   \n",
       "3                     Luxury,Performance      Compact         Coupe   \n",
       "4                                 Luxury      Compact   Convertible   \n",
       "\n",
       "   highway MPG  city mpg  Popularity   MSRP  \n",
       "0           26        19        3916  46135  \n",
       "1           28        19        3916  40650  \n",
       "2           28        20        3916  36350  \n",
       "3           28        18        3916  29450  \n",
       "4           28        18        3916  34500  "
      ]
     },
     "execution_count": 3,
     "metadata": {},
     "output_type": "execute_result"
    }
   ],
   "source": [
    "df.head()"
   ]
  },
  {
   "cell_type": "code",
   "execution_count": 4,
   "id": "18e74a5f-ebb7-49f0-bee0-2db7893f5f57",
   "metadata": {},
   "outputs": [
    {
     "data": {
      "text/plain": [
       "(11914, 16)"
      ]
     },
     "execution_count": 4,
     "metadata": {},
     "output_type": "execute_result"
    }
   ],
   "source": [
    "df.shape"
   ]
  },
  {
   "cell_type": "markdown",
   "id": "1d4380fe-ed88-4fb7-bc42-7ca597436f2f",
   "metadata": {},
   "source": [
    "Normalizing column names and values"
   ]
  },
  {
   "cell_type": "code",
   "execution_count": 5,
   "id": "b8014073-10b3-4128-b783-5529398b6941",
   "metadata": {},
   "outputs": [
    {
     "data": {
      "text/plain": [
       "Index(['make', 'model', 'year', 'engine_fuel_type', 'engine_hp',\n",
       "       'engine_cylinders', 'transmission_type', 'driven_wheels',\n",
       "       'number_of_doors', 'market_category', 'vehicle_size', 'vehicle_style',\n",
       "       'highway_mpg', 'city_mpg', 'popularity', 'msrp'],\n",
       "      dtype='object')"
      ]
     },
     "execution_count": 5,
     "metadata": {},
     "output_type": "execute_result"
    }
   ],
   "source": [
    "df.columns.str.lower().str.replace(' ', '_')"
   ]
  },
  {
   "cell_type": "code",
   "execution_count": 6,
   "id": "14bc9f07-e56b-4381-90a3-146a767b765a",
   "metadata": {},
   "outputs": [],
   "source": [
    "df.columns = df.columns.str.lower().str.replace(' ', '_')"
   ]
  },
  {
   "cell_type": "code",
   "execution_count": 7,
   "id": "ed868fce-27e8-4f94-b641-dc5ee4119677",
   "metadata": {},
   "outputs": [
    {
     "data": {
      "text/html": [
       "<div>\n",
       "<style scoped>\n",
       "    .dataframe tbody tr th:only-of-type {\n",
       "        vertical-align: middle;\n",
       "    }\n",
       "\n",
       "    .dataframe tbody tr th {\n",
       "        vertical-align: top;\n",
       "    }\n",
       "\n",
       "    .dataframe thead th {\n",
       "        text-align: right;\n",
       "    }\n",
       "</style>\n",
       "<table border=\"1\" class=\"dataframe\">\n",
       "  <thead>\n",
       "    <tr style=\"text-align: right;\">\n",
       "      <th></th>\n",
       "      <th>make</th>\n",
       "      <th>model</th>\n",
       "      <th>year</th>\n",
       "      <th>engine_fuel_type</th>\n",
       "      <th>engine_hp</th>\n",
       "      <th>engine_cylinders</th>\n",
       "      <th>transmission_type</th>\n",
       "      <th>driven_wheels</th>\n",
       "      <th>number_of_doors</th>\n",
       "      <th>market_category</th>\n",
       "      <th>vehicle_size</th>\n",
       "      <th>vehicle_style</th>\n",
       "      <th>highway_mpg</th>\n",
       "      <th>city_mpg</th>\n",
       "      <th>popularity</th>\n",
       "      <th>msrp</th>\n",
       "    </tr>\n",
       "  </thead>\n",
       "  <tbody>\n",
       "    <tr>\n",
       "      <th>0</th>\n",
       "      <td>BMW</td>\n",
       "      <td>1 Series M</td>\n",
       "      <td>2011</td>\n",
       "      <td>premium unleaded (required)</td>\n",
       "      <td>335.0</td>\n",
       "      <td>6.0</td>\n",
       "      <td>MANUAL</td>\n",
       "      <td>rear wheel drive</td>\n",
       "      <td>2.0</td>\n",
       "      <td>Factory Tuner,Luxury,High-Performance</td>\n",
       "      <td>Compact</td>\n",
       "      <td>Coupe</td>\n",
       "      <td>26</td>\n",
       "      <td>19</td>\n",
       "      <td>3916</td>\n",
       "      <td>46135</td>\n",
       "    </tr>\n",
       "    <tr>\n",
       "      <th>1</th>\n",
       "      <td>BMW</td>\n",
       "      <td>1 Series</td>\n",
       "      <td>2011</td>\n",
       "      <td>premium unleaded (required)</td>\n",
       "      <td>300.0</td>\n",
       "      <td>6.0</td>\n",
       "      <td>MANUAL</td>\n",
       "      <td>rear wheel drive</td>\n",
       "      <td>2.0</td>\n",
       "      <td>Luxury,Performance</td>\n",
       "      <td>Compact</td>\n",
       "      <td>Convertible</td>\n",
       "      <td>28</td>\n",
       "      <td>19</td>\n",
       "      <td>3916</td>\n",
       "      <td>40650</td>\n",
       "    </tr>\n",
       "    <tr>\n",
       "      <th>2</th>\n",
       "      <td>BMW</td>\n",
       "      <td>1 Series</td>\n",
       "      <td>2011</td>\n",
       "      <td>premium unleaded (required)</td>\n",
       "      <td>300.0</td>\n",
       "      <td>6.0</td>\n",
       "      <td>MANUAL</td>\n",
       "      <td>rear wheel drive</td>\n",
       "      <td>2.0</td>\n",
       "      <td>Luxury,High-Performance</td>\n",
       "      <td>Compact</td>\n",
       "      <td>Coupe</td>\n",
       "      <td>28</td>\n",
       "      <td>20</td>\n",
       "      <td>3916</td>\n",
       "      <td>36350</td>\n",
       "    </tr>\n",
       "    <tr>\n",
       "      <th>3</th>\n",
       "      <td>BMW</td>\n",
       "      <td>1 Series</td>\n",
       "      <td>2011</td>\n",
       "      <td>premium unleaded (required)</td>\n",
       "      <td>230.0</td>\n",
       "      <td>6.0</td>\n",
       "      <td>MANUAL</td>\n",
       "      <td>rear wheel drive</td>\n",
       "      <td>2.0</td>\n",
       "      <td>Luxury,Performance</td>\n",
       "      <td>Compact</td>\n",
       "      <td>Coupe</td>\n",
       "      <td>28</td>\n",
       "      <td>18</td>\n",
       "      <td>3916</td>\n",
       "      <td>29450</td>\n",
       "    </tr>\n",
       "    <tr>\n",
       "      <th>4</th>\n",
       "      <td>BMW</td>\n",
       "      <td>1 Series</td>\n",
       "      <td>2011</td>\n",
       "      <td>premium unleaded (required)</td>\n",
       "      <td>230.0</td>\n",
       "      <td>6.0</td>\n",
       "      <td>MANUAL</td>\n",
       "      <td>rear wheel drive</td>\n",
       "      <td>2.0</td>\n",
       "      <td>Luxury</td>\n",
       "      <td>Compact</td>\n",
       "      <td>Convertible</td>\n",
       "      <td>28</td>\n",
       "      <td>18</td>\n",
       "      <td>3916</td>\n",
       "      <td>34500</td>\n",
       "    </tr>\n",
       "  </tbody>\n",
       "</table>\n",
       "</div>"
      ],
      "text/plain": [
       "  make       model  year             engine_fuel_type  engine_hp  \\\n",
       "0  BMW  1 Series M  2011  premium unleaded (required)      335.0   \n",
       "1  BMW    1 Series  2011  premium unleaded (required)      300.0   \n",
       "2  BMW    1 Series  2011  premium unleaded (required)      300.0   \n",
       "3  BMW    1 Series  2011  premium unleaded (required)      230.0   \n",
       "4  BMW    1 Series  2011  premium unleaded (required)      230.0   \n",
       "\n",
       "   engine_cylinders transmission_type     driven_wheels  number_of_doors  \\\n",
       "0               6.0            MANUAL  rear wheel drive              2.0   \n",
       "1               6.0            MANUAL  rear wheel drive              2.0   \n",
       "2               6.0            MANUAL  rear wheel drive              2.0   \n",
       "3               6.0            MANUAL  rear wheel drive              2.0   \n",
       "4               6.0            MANUAL  rear wheel drive              2.0   \n",
       "\n",
       "                         market_category vehicle_size vehicle_style  \\\n",
       "0  Factory Tuner,Luxury,High-Performance      Compact         Coupe   \n",
       "1                     Luxury,Performance      Compact   Convertible   \n",
       "2                Luxury,High-Performance      Compact         Coupe   \n",
       "3                     Luxury,Performance      Compact         Coupe   \n",
       "4                                 Luxury      Compact   Convertible   \n",
       "\n",
       "   highway_mpg  city_mpg  popularity   msrp  \n",
       "0           26        19        3916  46135  \n",
       "1           28        19        3916  40650  \n",
       "2           28        20        3916  36350  \n",
       "3           28        18        3916  29450  \n",
       "4           28        18        3916  34500  "
      ]
     },
     "execution_count": 7,
     "metadata": {},
     "output_type": "execute_result"
    }
   ],
   "source": [
    "df.head()"
   ]
  },
  {
   "cell_type": "code",
   "execution_count": 8,
   "id": "e635f71d-1db2-4066-8aa1-02332b3dca6d",
   "metadata": {},
   "outputs": [],
   "source": [
    "string_columns = list(df.dtypes[df.dtypes == 'object'].index)"
   ]
  },
  {
   "cell_type": "code",
   "execution_count": 9,
   "id": "b18ea93c-46d3-485a-ad71-3624e8193a99",
   "metadata": {},
   "outputs": [],
   "source": [
    "for column in string_columns:\n",
    "    df[column] = df[column].str.lower().str.replace(' ', '_')"
   ]
  },
  {
   "cell_type": "code",
   "execution_count": 10,
   "id": "1b459a3d-61e1-4918-b85a-c63f0e758725",
   "metadata": {},
   "outputs": [
    {
     "data": {
      "text/html": [
       "<div>\n",
       "<style scoped>\n",
       "    .dataframe tbody tr th:only-of-type {\n",
       "        vertical-align: middle;\n",
       "    }\n",
       "\n",
       "    .dataframe tbody tr th {\n",
       "        vertical-align: top;\n",
       "    }\n",
       "\n",
       "    .dataframe thead th {\n",
       "        text-align: right;\n",
       "    }\n",
       "</style>\n",
       "<table border=\"1\" class=\"dataframe\">\n",
       "  <thead>\n",
       "    <tr style=\"text-align: right;\">\n",
       "      <th></th>\n",
       "      <th>make</th>\n",
       "      <th>model</th>\n",
       "      <th>year</th>\n",
       "      <th>engine_fuel_type</th>\n",
       "      <th>engine_hp</th>\n",
       "      <th>engine_cylinders</th>\n",
       "      <th>transmission_type</th>\n",
       "      <th>driven_wheels</th>\n",
       "      <th>number_of_doors</th>\n",
       "      <th>market_category</th>\n",
       "      <th>vehicle_size</th>\n",
       "      <th>vehicle_style</th>\n",
       "      <th>highway_mpg</th>\n",
       "      <th>city_mpg</th>\n",
       "      <th>popularity</th>\n",
       "      <th>msrp</th>\n",
       "    </tr>\n",
       "  </thead>\n",
       "  <tbody>\n",
       "    <tr>\n",
       "      <th>0</th>\n",
       "      <td>bmw</td>\n",
       "      <td>1_series_m</td>\n",
       "      <td>2011</td>\n",
       "      <td>premium_unleaded_(required)</td>\n",
       "      <td>335.0</td>\n",
       "      <td>6.0</td>\n",
       "      <td>manual</td>\n",
       "      <td>rear_wheel_drive</td>\n",
       "      <td>2.0</td>\n",
       "      <td>factory_tuner,luxury,high-performance</td>\n",
       "      <td>compact</td>\n",
       "      <td>coupe</td>\n",
       "      <td>26</td>\n",
       "      <td>19</td>\n",
       "      <td>3916</td>\n",
       "      <td>46135</td>\n",
       "    </tr>\n",
       "    <tr>\n",
       "      <th>1</th>\n",
       "      <td>bmw</td>\n",
       "      <td>1_series</td>\n",
       "      <td>2011</td>\n",
       "      <td>premium_unleaded_(required)</td>\n",
       "      <td>300.0</td>\n",
       "      <td>6.0</td>\n",
       "      <td>manual</td>\n",
       "      <td>rear_wheel_drive</td>\n",
       "      <td>2.0</td>\n",
       "      <td>luxury,performance</td>\n",
       "      <td>compact</td>\n",
       "      <td>convertible</td>\n",
       "      <td>28</td>\n",
       "      <td>19</td>\n",
       "      <td>3916</td>\n",
       "      <td>40650</td>\n",
       "    </tr>\n",
       "    <tr>\n",
       "      <th>2</th>\n",
       "      <td>bmw</td>\n",
       "      <td>1_series</td>\n",
       "      <td>2011</td>\n",
       "      <td>premium_unleaded_(required)</td>\n",
       "      <td>300.0</td>\n",
       "      <td>6.0</td>\n",
       "      <td>manual</td>\n",
       "      <td>rear_wheel_drive</td>\n",
       "      <td>2.0</td>\n",
       "      <td>luxury,high-performance</td>\n",
       "      <td>compact</td>\n",
       "      <td>coupe</td>\n",
       "      <td>28</td>\n",
       "      <td>20</td>\n",
       "      <td>3916</td>\n",
       "      <td>36350</td>\n",
       "    </tr>\n",
       "    <tr>\n",
       "      <th>3</th>\n",
       "      <td>bmw</td>\n",
       "      <td>1_series</td>\n",
       "      <td>2011</td>\n",
       "      <td>premium_unleaded_(required)</td>\n",
       "      <td>230.0</td>\n",
       "      <td>6.0</td>\n",
       "      <td>manual</td>\n",
       "      <td>rear_wheel_drive</td>\n",
       "      <td>2.0</td>\n",
       "      <td>luxury,performance</td>\n",
       "      <td>compact</td>\n",
       "      <td>coupe</td>\n",
       "      <td>28</td>\n",
       "      <td>18</td>\n",
       "      <td>3916</td>\n",
       "      <td>29450</td>\n",
       "    </tr>\n",
       "    <tr>\n",
       "      <th>4</th>\n",
       "      <td>bmw</td>\n",
       "      <td>1_series</td>\n",
       "      <td>2011</td>\n",
       "      <td>premium_unleaded_(required)</td>\n",
       "      <td>230.0</td>\n",
       "      <td>6.0</td>\n",
       "      <td>manual</td>\n",
       "      <td>rear_wheel_drive</td>\n",
       "      <td>2.0</td>\n",
       "      <td>luxury</td>\n",
       "      <td>compact</td>\n",
       "      <td>convertible</td>\n",
       "      <td>28</td>\n",
       "      <td>18</td>\n",
       "      <td>3916</td>\n",
       "      <td>34500</td>\n",
       "    </tr>\n",
       "  </tbody>\n",
       "</table>\n",
       "</div>"
      ],
      "text/plain": [
       "  make       model  year             engine_fuel_type  engine_hp  \\\n",
       "0  bmw  1_series_m  2011  premium_unleaded_(required)      335.0   \n",
       "1  bmw    1_series  2011  premium_unleaded_(required)      300.0   \n",
       "2  bmw    1_series  2011  premium_unleaded_(required)      300.0   \n",
       "3  bmw    1_series  2011  premium_unleaded_(required)      230.0   \n",
       "4  bmw    1_series  2011  premium_unleaded_(required)      230.0   \n",
       "\n",
       "   engine_cylinders transmission_type     driven_wheels  number_of_doors  \\\n",
       "0               6.0            manual  rear_wheel_drive              2.0   \n",
       "1               6.0            manual  rear_wheel_drive              2.0   \n",
       "2               6.0            manual  rear_wheel_drive              2.0   \n",
       "3               6.0            manual  rear_wheel_drive              2.0   \n",
       "4               6.0            manual  rear_wheel_drive              2.0   \n",
       "\n",
       "                         market_category vehicle_size vehicle_style  \\\n",
       "0  factory_tuner,luxury,high-performance      compact         coupe   \n",
       "1                     luxury,performance      compact   convertible   \n",
       "2                luxury,high-performance      compact         coupe   \n",
       "3                     luxury,performance      compact         coupe   \n",
       "4                                 luxury      compact   convertible   \n",
       "\n",
       "   highway_mpg  city_mpg  popularity   msrp  \n",
       "0           26        19        3916  46135  \n",
       "1           28        19        3916  40650  \n",
       "2           28        20        3916  36350  \n",
       "3           28        18        3916  29450  \n",
       "4           28        18        3916  34500  "
      ]
     },
     "execution_count": 10,
     "metadata": {},
     "output_type": "execute_result"
    }
   ],
   "source": [
    "df.head()"
   ]
  },
  {
   "cell_type": "markdown",
   "id": "691875cd-f982-47e2-aab9-381176e80bee",
   "metadata": {},
   "source": [
    "# Exploratory data analysis"
   ]
  },
  {
   "cell_type": "markdown",
   "id": "6c3dee7c-5a07-4c64-b121-e2ae16dc5883",
   "metadata": {},
   "source": [
    "Price distribution"
   ]
  },
  {
   "cell_type": "code",
   "execution_count": 11,
   "id": "2c5718cf-18e2-46a3-8ed5-ffd2ffea2f5b",
   "metadata": {},
   "outputs": [
    {
     "data": {
      "text/plain": [
       "make                  object\n",
       "model                 object\n",
       "year                   int64\n",
       "engine_fuel_type      object\n",
       "engine_hp            float64\n",
       "engine_cylinders     float64\n",
       "transmission_type     object\n",
       "driven_wheels         object\n",
       "number_of_doors      float64\n",
       "market_category       object\n",
       "vehicle_size          object\n",
       "vehicle_style         object\n",
       "highway_mpg            int64\n",
       "city_mpg               int64\n",
       "popularity             int64\n",
       "msrp                   int64\n",
       "dtype: object"
      ]
     },
     "execution_count": 11,
     "metadata": {},
     "output_type": "execute_result"
    }
   ],
   "source": [
    "df.dtypes"
   ]
  },
  {
   "cell_type": "markdown",
   "id": "dce93052-db62-417a-8d9d-33e3699e185f",
   "metadata": {},
   "source": [
    "Distribution analysis"
   ]
  },
  {
   "cell_type": "code",
   "execution_count": 12,
   "id": "43e9fca2-db74-4aff-98db-e91a662521af",
   "metadata": {},
   "outputs": [
    {
     "data": {
      "text/plain": [
       "count    1.191400e+04\n",
       "mean     4.059474e+04\n",
       "std      6.010910e+04\n",
       "min      2.000000e+03\n",
       "25%      2.100000e+04\n",
       "50%      2.999500e+04\n",
       "75%      4.223125e+04\n",
       "max      2.065902e+06\n",
       "Name: msrp, dtype: float64"
      ]
     },
     "execution_count": 12,
     "metadata": {},
     "output_type": "execute_result"
    }
   ],
   "source": [
    "df.msrp.describe()"
   ]
  },
  {
   "cell_type": "code",
   "execution_count": 13,
   "id": "cb667c9e-63b7-41d6-90c5-9aeeba009c91",
   "metadata": {},
   "outputs": [
    {
     "data": {
      "text/plain": [
       "[]"
      ]
     },
     "execution_count": 13,
     "metadata": {},
     "output_type": "execute_result"
    },
    {
     "data": {
      "image/png": "[encoded data removed]",
      "text/plain": [
       "<Figure size 640x480 with 1 Axes>"
      ]
     },
     "metadata": {},
     "output_type": "display_data"
    }
   ],
   "source": [
    "sns.histplot(df.msrp, bins=40)\n",
    "plt.title('Histogram for msrp')\n",
    "plt.plot()\n"
   ]
  },
  {
   "cell_type": "code",
   "execution_count": 14,
   "id": "bc104dc4-d7d9-4a6a-8d11-475db26f915b",
   "metadata": {},
   "outputs": [
    {
     "data": {
      "text/plain": [
       "[]"
      ]
     },
     "execution_count": 14,
     "metadata": {},
     "output_type": "execute_result"
    },
    {
     "data": {
      "image/png": "[encoded data removed]",
      "text/plain": [
       "<Figure size 640x480 with 1 Axes>"
      ]
     },
     "metadata": {},
     "output_type": "display_data"
    }
   ],
   "source": [
    "sns.histplot(df.msrp[df.msrp < 100000])\n",
    "plt.title('Hisotgram for msrp < 10,000')\n",
    "plt.plot()\n"
   ]
  },
  {
   "cell_type": "markdown",
   "id": "a9df8f6b-a1e3-420c-aef5-31e4dc77e674",
   "metadata": {},
   "source": [
    "Log transformation"
   ]
  },
  {
   "cell_type": "code",
   "execution_count": 15,
   "id": "a5690285-52d0-46e7-94f5-e129aac7a810",
   "metadata": {},
   "outputs": [],
   "source": [
    "log_price = np.log1p(df.msrp)"
   ]
  },
  {
   "cell_type": "code",
   "execution_count": 16,
   "id": "1f28a346-7a17-48c1-b5a1-4324f389d742",
   "metadata": {},
   "outputs": [
    {
     "data": {
      "text/plain": [
       "[]"
      ]
     },
     "execution_count": 16,
     "metadata": {},
     "output_type": "execute_result"
    },
    {
     "data": {
      "image/png": "[encoded data removed]",
      "text/plain": [
       "<Figure size 640x480 with 1 Axes>"
      ]
     },
     "metadata": {},
     "output_type": "display_data"
    }
   ],
   "source": [
    "sns.histplot(log_price)\n",
    "plt.title('Hisotgram for log of msrp')\n",
    "plt.plot()\n"
   ]
  },
  {
   "cell_type": "markdown",
   "id": "e2a622c2-2817-47d0-9a62-6762b008fb9a",
   "metadata": {},
   "source": [
    "Checking for missing values"
   ]
  },
  {
   "cell_type": "code",
   "execution_count": 17,
   "id": "28b45c8f-5579-4201-aa8b-0a31dfad49f9",
   "metadata": {},
   "outputs": [
    {
     "name": "stdout",
     "output_type": "stream",
     "text": [
      "<class 'pandas.core.frame.DataFrame'>\n",
      "RangeIndex: 11914 entries, 0 to 11913\n",
      "Data columns (total 16 columns):\n",
      " #   Column             Non-Null Count  Dtype  \n",
      "---  ------             --------------  -----  \n",
      " 0   make               11914 non-null  object \n",
      " 1   model              11914 non-null  object \n",
      " 2   year               11914 non-null  int64  \n",
      " 3   engine_fuel_type   11911 non-null  object \n",
      " 4   engine_hp          11845 non-null  float64\n",
      " 5   engine_cylinders   11884 non-null  float64\n",
      " 6   transmission_type  11914 non-null  object \n",
      " 7   driven_wheels      11914 non-null  object \n",
      " 8   number_of_doors    11908 non-null  float64\n",
      " 9   market_category    8172 non-null   object \n",
      " 10  vehicle_size       11914 non-null  object \n",
      " 11  vehicle_style      11914 non-null  object \n",
      " 12  highway_mpg        11914 non-null  int64  \n",
      " 13  city_mpg           11914 non-null  int64  \n",
      " 14  popularity         11914 non-null  int64  \n",
      " 15  msrp               11914 non-null  int64  \n",
      "dtypes: float64(3), int64(5), object(8)\n",
      "memory usage: 1.5+ MB\n"
     ]
    }
   ],
   "source": [
    "df.info()"
   ]
  },
  {
   "cell_type": "code",
   "execution_count": 18,
   "id": "e8f87af9-e8a1-472e-ac02-3ec2f04caf8c",
   "metadata": {},
   "outputs": [
    {
     "data": {
      "text/plain": [
       "make                    0\n",
       "model                   0\n",
       "year                    0\n",
       "engine_fuel_type        3\n",
       "engine_hp              69\n",
       "engine_cylinders       30\n",
       "transmission_type       0\n",
       "driven_wheels           0\n",
       "number_of_doors         6\n",
       "market_category      3742\n",
       "vehicle_size            0\n",
       "vehicle_style           0\n",
       "highway_mpg             0\n",
       "city_mpg                0\n",
       "popularity              0\n",
       "msrp                    0\n",
       "dtype: int64"
      ]
     },
     "execution_count": 18,
     "metadata": {},
     "output_type": "execute_result"
    }
   ],
   "source": [
    "df.isnull().sum()"
   ]
  },
  {
   "cell_type": "markdown",
   "id": "c0ee79f8-bdd9-4894-8328-bc847035a7ce",
   "metadata": {},
   "source": [
    "## Validation framework"
   ]
  },
  {
   "cell_type": "code",
   "execution_count": 19,
   "id": "6b8d4701-43c8-4bd9-9569-66727e963085",
   "metadata": {},
   "outputs": [],
   "source": [
    "n = len(df)"
   ]
  },
  {
   "cell_type": "code",
   "execution_count": 20,
   "id": "aa124f63-fd54-41ee-8285-17aa286797ec",
   "metadata": {},
   "outputs": [],
   "source": [
    "n_val = int(n * 0.2)\n",
    "n_test = int(n * 0.2)\n",
    "n_train = n - (n_val + n_test)"
   ]
  },
  {
   "cell_type": "code",
   "execution_count": 21,
   "id": "6418b87e-adf0-42d3-9301-f6dd7efd2ef8",
   "metadata": {},
   "outputs": [],
   "source": [
    "np.random.seed(2)\n",
    "idx = np.arange(n)\n",
    "np.random.shuffle(idx)"
   ]
  },
  {
   "cell_type": "code",
   "execution_count": 22,
   "id": "eda8b854-431f-4bc6-9ace-b75d64cecbc2",
   "metadata": {},
   "outputs": [],
   "source": [
    "df_shuffled = df.iloc[idx]"
   ]
  },
  {
   "cell_type": "code",
   "execution_count": 23,
   "id": "19be96a9-8e1c-4cdc-bf57-b8112266df49",
   "metadata": {},
   "outputs": [],
   "source": [
    "df_train = df_shuffled.iloc[:n_train].reset_index(drop=True).copy()\n",
    "df_val = df_shuffled.iloc[n_train:n_train + n_val].reset_index(drop=True).copy()\n",
    "df_test = df_shuffled.iloc[n_train + n_val:].reset_index(drop=True).copy()"
   ]
  },
  {
   "cell_type": "code",
   "execution_count": 24,
   "id": "00ebeb07-fb1f-462f-acb3-ade7690ff7e4",
   "metadata": {},
   "outputs": [],
   "source": [
    "y_train = np.log1p(df_train.msrp.values)\n",
    "y_val = np.log1p(df_val.msrp.values)\n",
    "y_test = np.log1p(df_test.msrp.values)"
   ]
  },
  {
   "cell_type": "code",
   "execution_count": 25,
   "id": "002c376f-a62a-479e-a340-aab3d82a0208",
   "metadata": {},
   "outputs": [],
   "source": [
    "del df_train['msrp']\n",
    "del df_val['msrp']\n",
    "del df_test['msrp']"
   ]
  },
  {
   "cell_type": "code",
   "execution_count": 26,
   "id": "cf50e833-506a-49bc-b1c9-b8b634ad9206",
   "metadata": {},
   "outputs": [
    {
     "data": {
      "text/html": [
       "<div>\n",
       "<style scoped>\n",
       "    .dataframe tbody tr th:only-of-type {\n",
       "        vertical-align: middle;\n",
       "    }\n",
       "\n",
       "    .dataframe tbody tr th {\n",
       "        vertical-align: top;\n",
       "    }\n",
       "\n",
       "    .dataframe thead th {\n",
       "        text-align: right;\n",
       "    }\n",
       "</style>\n",
       "<table border=\"1\" class=\"dataframe\">\n",
       "  <thead>\n",
       "    <tr style=\"text-align: right;\">\n",
       "      <th></th>\n",
       "      <th>make</th>\n",
       "      <th>model</th>\n",
       "      <th>year</th>\n",
       "      <th>engine_fuel_type</th>\n",
       "      <th>engine_hp</th>\n",
       "      <th>engine_cylinders</th>\n",
       "      <th>transmission_type</th>\n",
       "      <th>driven_wheels</th>\n",
       "      <th>number_of_doors</th>\n",
       "      <th>market_category</th>\n",
       "      <th>vehicle_size</th>\n",
       "      <th>vehicle_style</th>\n",
       "      <th>highway_mpg</th>\n",
       "      <th>city_mpg</th>\n",
       "      <th>popularity</th>\n",
       "    </tr>\n",
       "  </thead>\n",
       "  <tbody>\n",
       "    <tr>\n",
       "      <th>0</th>\n",
       "      <td>chevrolet</td>\n",
       "      <td>cobalt</td>\n",
       "      <td>2008</td>\n",
       "      <td>regular_unleaded</td>\n",
       "      <td>148.0</td>\n",
       "      <td>4.0</td>\n",
       "      <td>manual</td>\n",
       "      <td>front_wheel_drive</td>\n",
       "      <td>2.0</td>\n",
       "      <td>NaN</td>\n",
       "      <td>compact</td>\n",
       "      <td>coupe</td>\n",
       "      <td>33</td>\n",
       "      <td>24</td>\n",
       "      <td>1385</td>\n",
       "    </tr>\n",
       "    <tr>\n",
       "      <th>1</th>\n",
       "      <td>toyota</td>\n",
       "      <td>matrix</td>\n",
       "      <td>2012</td>\n",
       "      <td>regular_unleaded</td>\n",
       "      <td>132.0</td>\n",
       "      <td>4.0</td>\n",
       "      <td>automatic</td>\n",
       "      <td>front_wheel_drive</td>\n",
       "      <td>4.0</td>\n",
       "      <td>hatchback</td>\n",
       "      <td>compact</td>\n",
       "      <td>4dr_hatchback</td>\n",
       "      <td>32</td>\n",
       "      <td>25</td>\n",
       "      <td>2031</td>\n",
       "    </tr>\n",
       "    <tr>\n",
       "      <th>2</th>\n",
       "      <td>subaru</td>\n",
       "      <td>impreza</td>\n",
       "      <td>2016</td>\n",
       "      <td>regular_unleaded</td>\n",
       "      <td>148.0</td>\n",
       "      <td>4.0</td>\n",
       "      <td>automatic</td>\n",
       "      <td>all_wheel_drive</td>\n",
       "      <td>4.0</td>\n",
       "      <td>hatchback</td>\n",
       "      <td>compact</td>\n",
       "      <td>4dr_hatchback</td>\n",
       "      <td>37</td>\n",
       "      <td>28</td>\n",
       "      <td>640</td>\n",
       "    </tr>\n",
       "    <tr>\n",
       "      <th>3</th>\n",
       "      <td>volkswagen</td>\n",
       "      <td>vanagon</td>\n",
       "      <td>1991</td>\n",
       "      <td>regular_unleaded</td>\n",
       "      <td>90.0</td>\n",
       "      <td>4.0</td>\n",
       "      <td>manual</td>\n",
       "      <td>rear_wheel_drive</td>\n",
       "      <td>3.0</td>\n",
       "      <td>NaN</td>\n",
       "      <td>large</td>\n",
       "      <td>passenger_minivan</td>\n",
       "      <td>18</td>\n",
       "      <td>16</td>\n",
       "      <td>873</td>\n",
       "    </tr>\n",
       "    <tr>\n",
       "      <th>4</th>\n",
       "      <td>ford</td>\n",
       "      <td>f-150</td>\n",
       "      <td>2017</td>\n",
       "      <td>flex-fuel_(unleaded/e85)</td>\n",
       "      <td>385.0</td>\n",
       "      <td>8.0</td>\n",
       "      <td>automatic</td>\n",
       "      <td>four_wheel_drive</td>\n",
       "      <td>4.0</td>\n",
       "      <td>flex_fuel</td>\n",
       "      <td>large</td>\n",
       "      <td>crew_cab_pickup</td>\n",
       "      <td>21</td>\n",
       "      <td>15</td>\n",
       "      <td>5657</td>\n",
       "    </tr>\n",
       "  </tbody>\n",
       "</table>\n",
       "</div>"
      ],
      "text/plain": [
       "         make    model  year          engine_fuel_type  engine_hp  \\\n",
       "0   chevrolet   cobalt  2008          regular_unleaded      148.0   \n",
       "1      toyota   matrix  2012          regular_unleaded      132.0   \n",
       "2      subaru  impreza  2016          regular_unleaded      148.0   \n",
       "3  volkswagen  vanagon  1991          regular_unleaded       90.0   \n",
       "4        ford    f-150  2017  flex-fuel_(unleaded/e85)      385.0   \n",
       "\n",
       "   engine_cylinders transmission_type      driven_wheels  number_of_doors  \\\n",
       "0               4.0            manual  front_wheel_drive              2.0   \n",
       "1               4.0         automatic  front_wheel_drive              4.0   \n",
       "2               4.0         automatic    all_wheel_drive              4.0   \n",
       "3               4.0            manual   rear_wheel_drive              3.0   \n",
       "4               8.0         automatic   four_wheel_drive              4.0   \n",
       "\n",
       "  market_category vehicle_size      vehicle_style  highway_mpg  city_mpg  \\\n",
       "0             NaN      compact              coupe           33        24   \n",
       "1       hatchback      compact      4dr_hatchback           32        25   \n",
       "2       hatchback      compact      4dr_hatchback           37        28   \n",
       "3             NaN        large  passenger_minivan           18        16   \n",
       "4       flex_fuel        large    crew_cab_pickup           21        15   \n",
       "\n",
       "   popularity  \n",
       "0        1385  \n",
       "1        2031  \n",
       "2         640  \n",
       "3         873  \n",
       "4        5657  "
      ]
     },
     "execution_count": 26,
     "metadata": {},
     "output_type": "execute_result"
    }
   ],
   "source": [
    "df_train.head()"
   ]
  },
  {
   "cell_type": "markdown",
   "id": "ef646bd1-8e44-4b1d-b031-41e686d8e0ba",
   "metadata": {},
   "source": [
    "## Training linear regression model"
   ]
  },
  {
   "cell_type": "markdown",
   "id": "23d58a7a-10bc-4291-9be0-2ecbd4961003",
   "metadata": {},
   "source": [
    "* Linear regression implemented with numpy"
   ]
  },
  {
   "cell_type": "code",
   "execution_count": 27,
   "id": "d009bfe4-0545-475a-82dc-50a54ac2d5c2",
   "metadata": {},
   "outputs": [],
   "source": [
    "def train_linear_regression(X, y):\n",
    "    # addind the dummy column\n",
    "    ones = np.ones(X.shape[0])\n",
    "    X = np.column_stack([ones, X])\n",
    "    \n",
    "    # normal equation formula\n",
    "    XTX = X.T.dot(X)\n",
    "    XTX_inv = np.linalg.inv(XTX)\n",
    "    w = XTX_inv.dot(X.T).dot(y)\n",
    "    \n",
    "    return w[0], w[1:]"
   ]
  },
  {
   "cell_type": "markdown",
   "id": "b880330d-0c3d-454e-be66-9e17d444d2f3",
   "metadata": {},
   "source": [
    "If weights are split into the bias term and the rest, the linear regression formula for making predictions change slightly\n",
    "* g(X) = w0 + Xw\n",
    "* Applied to numpy -> y_pred = w0 + X.dot(w)"
   ]
  },
  {
   "cell_type": "markdown",
   "id": "50df5a40-f126-4fec-bd80-8f2f8a8fb58b",
   "metadata": {},
   "source": [
    "* Baseline solution"
   ]
  },
  {
   "cell_type": "code",
   "execution_count": 28,
   "id": "cf66c1b8-0ec5-4bac-ba7c-e13526624fbc",
   "metadata": {},
   "outputs": [],
   "source": [
    "base = ['engine_hp', 'engine_cylinders', 'highway_mpg','city_mpg','popularity']"
   ]
  },
  {
   "cell_type": "code",
   "execution_count": 29,
   "id": "c0ff81b8-b0a4-4aca-8b33-520b90fbc0d0",
   "metadata": {},
   "outputs": [],
   "source": [
    "df_num  = df_train[base]"
   ]
  },
  {
   "cell_type": "code",
   "execution_count": 30,
   "id": "405986ce-2939-4696-a78e-e95b27c99787",
   "metadata": {},
   "outputs": [],
   "source": [
    "df_num = df_num.fillna(0)"
   ]
  },
  {
   "cell_type": "code",
   "execution_count": 31,
   "id": "62a73527-1073-4584-b154-4d99154af09c",
   "metadata": {},
   "outputs": [],
   "source": [
    "X_train = df_num.values"
   ]
  },
  {
   "cell_type": "code",
   "execution_count": 32,
   "id": "1bb42a51-109c-45d7-b4c6-23167e8ba78a",
   "metadata": {},
   "outputs": [
    {
     "data": {
      "text/plain": [
       "array([[ 148.,    4.,   33.,   24., 1385.],\n",
       "       [ 132.,    4.,   32.,   25., 2031.],\n",
       "       [ 148.,    4.,   37.,   28.,  640.],\n",
       "       ...,\n",
       "       [ 285.,    6.,   22.,   17.,  549.],\n",
       "       [ 563.,   12.,   21.,   13.,   86.],\n",
       "       [ 200.,    4.,   31.,   22.,  873.]])"
      ]
     },
     "execution_count": 32,
     "metadata": {},
     "output_type": "execute_result"
    }
   ],
   "source": [
    "X_train"
   ]
  },
  {
   "cell_type": "code",
   "execution_count": 33,
   "id": "78ca26b3-995f-45aa-9ac8-647deebfa206",
   "metadata": {},
   "outputs": [],
   "source": [
    "w_0, w = train_linear_regression(X_train, y_train)"
   ]
  },
  {
   "cell_type": "code",
   "execution_count": 34,
   "id": "b9385e64-d84d-40de-82fd-4f44d89bc483",
   "metadata": {},
   "outputs": [],
   "source": [
    "y_pred = w_0 + X_train.dot(w)"
   ]
  },
  {
   "cell_type": "code",
   "execution_count": 35,
   "id": "58cb4774-0f6d-4e51-aa43-1e6b1bcba577",
   "metadata": {},
   "outputs": [
    {
     "data": {
      "text/plain": [
       "[]"
      ]
     },
     "execution_count": 35,
     "metadata": {},
     "output_type": "execute_result"
    },
    {
     "data": {
      "image/png": "[encoded data removed]",
      "text/plain": [
       "<Figure size 640x480 with 1 Axes>"
      ]
     },
     "metadata": {},
     "output_type": "display_data"
    }
   ],
   "source": [
    "sns.histplot(y_pred, label = 'prediction', alpha = 0.5, color ='b', bins= 50)\n",
    "sns.histplot(y_train, label = 'target', alpha = 0.5, color = 'g', bins = 50)\n",
    "plt.legend()\n",
    "plt.title('Log(Price+1)')\n",
    "plt.plot()"
   ]
  },
  {
   "cell_type": "markdown",
   "id": "8727afce-3400-48a5-bc6a-0c2d6a1cc7f3",
   "metadata": {},
   "source": [
    "## RMSE: Evaluating model quality"
   ]
  },
  {
   "cell_type": "code",
   "execution_count": 36,
   "id": "21b3a603-5447-4562-9731-7a82614222fa",
   "metadata": {},
   "outputs": [],
   "source": [
    "def rmse(y, y_pred):\n",
    "    error = y_pred-y\n",
    "    mse = (error**2).mean()\n",
    "    return np.sqrt(mse)"
   ]
  },
  {
   "cell_type": "code",
   "execution_count": 37,
   "id": "d1e39052-e72c-4cdc-ad2f-193603821346",
   "metadata": {},
   "outputs": [
    {
     "data": {
      "text/plain": [
       "0.7554192603920132"
      ]
     },
     "execution_count": 37,
     "metadata": {},
     "output_type": "execute_result"
    }
   ],
   "source": [
    "rmse(y_train, y_pred)"
   ]
  },
  {
   "cell_type": "markdown",
   "id": "c05e3dd4-4f84-448c-9cc7-805dd0b93c07",
   "metadata": {},
   "source": [
    "Comparing models the lower (better) RMSE is a better model"
   ]
  },
  {
   "cell_type": "markdown",
   "id": "8b4006a0-982e-44d1-b2ff-621d76a02da8",
   "metadata": {},
   "source": [
    "## Validating the model"
   ]
  },
  {
   "cell_type": "code",
   "execution_count": 38,
   "id": "7bcc487e-e6e6-4d9d-9170-4edaeced5c11",
   "metadata": {},
   "outputs": [],
   "source": [
    "df_num = df_val[base]\n",
    "df_num = df_num.fillna(0)\n",
    "X_val = df_num.values"
   ]
  },
  {
   "cell_type": "code",
   "execution_count": 39,
   "id": "9a760994-93d4-402d-81cf-410ec4354fa1",
   "metadata": {},
   "outputs": [],
   "source": [
    "y_pred = w_0 + X_val.dot(w)"
   ]
  },
  {
   "cell_type": "code",
   "execution_count": 40,
   "id": "70026c2e-78e1-4d40-9053-1b1bf95eca4c",
   "metadata": {},
   "outputs": [
    {
     "data": {
      "text/plain": [
       "0.761653099130156"
      ]
     },
     "execution_count": 40,
     "metadata": {},
     "output_type": "execute_result"
    }
   ],
   "source": [
    "rmse(y_val, y_pred)"
   ]
  },
  {
   "cell_type": "markdown",
   "id": "a48959a6-0950-4ff4-b941-6a77e8669f35",
   "metadata": {},
   "source": [
    "* Function for preprocessing the X"
   ]
  },
  {
   "cell_type": "code",
   "execution_count": 41,
   "id": "72a4f78f-4c3e-48fc-aa77-dfb96e335394",
   "metadata": {},
   "outputs": [],
   "source": [
    "def prepare_X(df):\n",
    "    df_num = df[base]\n",
    "    df_num = df_num.fillna(0)\n",
    "    X = df_num.values\n",
    "    return X"
   ]
  },
  {
   "cell_type": "code",
   "execution_count": 42,
   "id": "75f4e7d2-8b72-4809-ad04-0fed66e92d1a",
   "metadata": {},
   "outputs": [],
   "source": [
    "X_train = prepare_X(df_train)"
   ]
  },
  {
   "cell_type": "code",
   "execution_count": 43,
   "id": "87e88821-3c14-457f-9402-1c0859d1d71d",
   "metadata": {},
   "outputs": [],
   "source": [
    "w_0, w = train_linear_regression(X_train, y_train)"
   ]
  },
  {
   "cell_type": "code",
   "execution_count": 44,
   "id": "3fa28b32-2cbc-4439-907d-fafcdcb9a1a9",
   "metadata": {},
   "outputs": [],
   "source": [
    "X_val = prepare_X(df_val)"
   ]
  },
  {
   "cell_type": "code",
   "execution_count": 45,
   "id": "0f5eeedc-6194-4aba-a0a5-7c5b4d2b0de9",
   "metadata": {},
   "outputs": [],
   "source": [
    "y_pred = w_0 + X_val.dot(w)"
   ]
  },
  {
   "cell_type": "code",
   "execution_count": 46,
   "id": "eb704c8d-ac47-494d-9c0d-3f31b756f16d",
   "metadata": {},
   "outputs": [
    {
     "name": "stdout",
     "output_type": "stream",
     "text": [
      "validation:  0.761653099130156\n"
     ]
    }
   ],
   "source": [
    "print('validation: ', rmse(y_val, y_pred))"
   ]
  },
  {
   "cell_type": "markdown",
   "id": "214bba59-204f-4e39-9921-52d9c7e46a73",
   "metadata": {},
   "source": [
    "Validating the model give us a way to check wether any model adjustments lead to improvements in the predictive quality of the model."
   ]
  },
  {
   "cell_type": "markdown",
   "id": "718d2ca8-99fc-4f7a-a437-8f4a2431ad4e",
   "metadata": {},
   "source": [
    "## Simple feature engineering"
   ]
  },
  {
   "cell_type": "markdown",
   "id": "6c96e2cc-d6da-4567-8b40-661348c9523c",
   "metadata": {},
   "source": [
    "Adding age feature"
   ]
  },
  {
   "cell_type": "code",
   "execution_count": 47,
   "id": "49065684-1b2a-4df0-8abf-4223e43becf8",
   "metadata": {},
   "outputs": [
    {
     "data": {
      "text/plain": [
       "2017"
      ]
     },
     "execution_count": 47,
     "metadata": {},
     "output_type": "execute_result"
    }
   ],
   "source": [
    "df_train['year'].max()"
   ]
  },
  {
   "cell_type": "code",
   "execution_count": 48,
   "id": "aa5d9f11-727c-42bb-83b0-fed19ec21c19",
   "metadata": {},
   "outputs": [],
   "source": [
    "def prepare_X(df):\n",
    "    df = df.copy()\n",
    "    features = base.copy()\n",
    "    \n",
    "    df['age'] = 2017 - df.year\n",
    "    features.append('age')\n",
    "    \n",
    "    df_num = df[features]\n",
    "    df_num = df_num.fillna(0)\n",
    "    X = df_num.values\n",
    "    return X"
   ]
  },
  {
   "cell_type": "code",
   "execution_count": 49,
   "id": "3f2d5425-17e1-458b-adca-173c244a95b0",
   "metadata": {},
   "outputs": [
    {
     "name": "stdout",
     "output_type": "stream",
     "text": [
      "validation:  0.5172055461058299\n"
     ]
    }
   ],
   "source": [
    "X_train = prepare_X(df_train)\n",
    "w_0, w = train_linear_regression(X_train, y_train)\n",
    "X_val = prepare_X(df_val)\n",
    "y_pred = w_0 + X_val.dot(w)\n",
    "print('validation: ' , rmse(y_val, y_pred))"
   ]
  },
  {
   "cell_type": "markdown",
   "id": "07d0c3d5-0bdf-416a-bd7e-86527ca8a5d6",
   "metadata": {},
   "source": [
    "The rmse after adding the age is 0.517 improving from previous 0.76 from the base solution, add the feature age is indeed helpful when making predictions"
   ]
  },
  {
   "cell_type": "code",
   "execution_count": 50,
   "id": "de990434-3d3d-4abe-a80a-dc4c3650301e",
   "metadata": {},
   "outputs": [
    {
     "data": {
      "text/plain": [
       "[]"
      ]
     },
     "execution_count": 50,
     "metadata": {},
     "output_type": "execute_result"
    },
    {
     "data": {
      "image/png": "[encoded data removed]",
      "text/plain": [
       "<Figure size 640x480 with 1 Axes>"
      ]
     },
     "metadata": {},
     "output_type": "display_data"
    }
   ],
   "source": [
    "sns.histplot(y_pred, label = 'predictions', alpha = 0.5, color = 'b', bins = 50)\n",
    "sns.histplot(y_val, label = 'target', alpha = 0.5, color = 'g', bins=50)\n",
    "plt.legend()\n",
    "plt.title('Log(Price+1)')\n",
    "plt.plot()\n"
   ]
  },
  {
   "cell_type": "markdown",
   "id": "d3b180f2-d643-4dad-bf9e-705771287eb8",
   "metadata": {},
   "source": [
    "## Handling categorical variables"
   ]
  },
  {
   "cell_type": "markdown",
   "id": "ca945fdd-6c9d-4dc8-bd16-175b607b09ee",
   "metadata": {},
   "source": [
    "* Categorical variable: describe characteristics of objects and can take one of few possible values, for example the make of a car is a categorical variable"
   ]
  },
  {
   "cell_type": "code",
   "execution_count": 51,
   "id": "342526b4-da32-433f-8ae7-22a35bf0eff6",
   "metadata": {},
   "outputs": [],
   "source": [
    " def prepare_X(df):\n",
    "    df = df.copy()\n",
    "    features = base.copy()\n",
    "    \n",
    "    df['age'] = 2017 - df.year\n",
    "    features.append('age')\n",
    "    \n",
    "    # Adding categorical variables\n",
    "    for var in [2, 3, 4]:\n",
    "        feature = f'number_of_doors_{var}'\n",
    "        value = (df['number_of_doors'] == var).astype(int)\n",
    "        df[feature] = value\n",
    "        features.append(feature)\n",
    "        \n",
    "    for var in ['chevrolet', 'ford', 'volkswagen', 'toyota', 'dodge']:\n",
    "        feature = f'is_make_{var}'\n",
    "        value = (df['make'] == var).astype(int)\n",
    "        df[feature] = value\n",
    "        features.append(feature)\n",
    "\n",
    "    df_num = df[features]\n",
    "    df_num = df_num.fillna(0)\n",
    "    X = df_num.values\n",
    "    return X"
   ]
  },
  {
   "cell_type": "markdown",
   "id": "b136a831-403a-4d52-b3e6-f29829b103f1",
   "metadata": {},
   "source": [
    "Testing if this extra features improves the RMSE of the model"
   ]
  },
  {
   "cell_type": "code",
   "execution_count": 52,
   "id": "9c8ed752-0f4b-4132-90a3-41a51c2577b3",
   "metadata": {},
   "outputs": [
    {
     "name": "stdout",
     "output_type": "stream",
     "text": [
      "validation:  0.50760388495567\n"
     ]
    }
   ],
   "source": [
    "X_train = prepare_X(df_train)\n",
    "w_0, w = train_linear_regression(X_train, y_train)\n",
    "X_val = prepare_X(df_val)\n",
    "y_pred = w_0 + X_val.dot(w)\n",
    "print('validation: ' , rmse(y_val, y_pred))"
   ]
  },
  {
   "cell_type": "markdown",
   "id": "69c9ec82-0820-45b2-bfd7-164e66aa6a51",
   "metadata": {},
   "source": [
    "Adding more categorical values and testing if improves the RMSE of the model"
   ]
  },
  {
   "cell_type": "code",
   "execution_count": 53,
   "id": "64e242ef-0449-49ae-9d4f-7507d1d83bd1",
   "metadata": {},
   "outputs": [],
   "source": [
    "def prepare_X(df):\n",
    "    df = df.copy()\n",
    "    features = base.copy()\n",
    "    \n",
    "    df['age'] = 2017 - df.year\n",
    "    features.append('age')\n",
    "    \n",
    "    # Adding categorical variables\n",
    "    for var in [2, 3, 4]:\n",
    "        feature = f'number_of_doors_{var}'\n",
    "        value = (df['number_of_doors'] == var).astype(int)\n",
    "        df[feature] = value\n",
    "        features.append(feature)\n",
    "        \n",
    "    for var in ['chevrolet', 'ford', 'volkswagen', 'toyota', 'dodge']:\n",
    "        feature = f'is_make_{var}'\n",
    "        value = (df['make'] == var).astype(int)\n",
    "        df[feature] = value\n",
    "        features.append(feature)\n",
    "        \n",
    "    for var in ['regular_unleaded', 'premium_unleaded_(required)', 'premium_unleaded_(recommended)', 'flex-fuel_(unleaded/e85)']:\n",
    "        feature = f'is_type_{var}'\n",
    "        value = (df['engine_fuel_type'] == var).astype(int)\n",
    "        df[feature] = value\n",
    "        features.append(feature)    \n",
    "        \n",
    "    for var in ['automatic', 'manual', 'automated_manual']:\n",
    "        feature = f'is_transmission_{var}'\n",
    "        value = (df['transmission_type'] == var).astype(int)\n",
    "        df[feature] = value\n",
    "        features.append(feature)\n",
    "        \n",
    "    for var in ['front_wheel_drive', 'rear_wheel_drive', 'all_wheel_drive', 'four_wheel_drive']:\n",
    "        feature = f'is_driven_wheels_{var}'\n",
    "        value = (df['driven_wheels'] == var).astype(int)\n",
    "        df[feature] = value\n",
    "        features.append(feature)\n",
    "\n",
    "    for var in ['crossover', 'flex_fuel', 'luxury', 'luxury,performance', 'hatchback']:\n",
    "        feature = f'is_mc_{var}'\n",
    "        value = (df['market_category'] == var).astype(int)\n",
    "        df[feature] = value\n",
    "        features.append(feature)\n",
    "\n",
    "    for var in ['compact', 'midsize', 'large']:\n",
    "        feature = f'is_size_{var}'\n",
    "        value = (df['vehicle_size'] == var).astype(int)\n",
    "        df[feature] = value\n",
    "        features.append(feature)\n",
    "\n",
    "    for var in ['sedan', '4dr_suv', 'coupe', 'convertible', '4dr_hatchback']:\n",
    "        feature = f'is_style_{var}'\n",
    "        value = (df['vehicle_style'] == var).astype(int)\n",
    "        df[feature] = value\n",
    "        features.append(feature)\n",
    "        \n",
    "    df_num = df[features]\n",
    "    df_num = df_num.fillna(0)\n",
    "    X = df_num.values\n",
    "    return X"
   ]
  },
  {
   "cell_type": "code",
   "execution_count": 54,
   "id": "9ad80b23-e4e8-4d68-b438-a1568c00de34",
   "metadata": {},
   "outputs": [
    {
     "name": "stdout",
     "output_type": "stream",
     "text": [
      "validation:  49.873533583264866\n"
     ]
    }
   ],
   "source": [
    "X_train = prepare_X(df_train)\n",
    "w_0, w = train_linear_regression(X_train, y_train)\n",
    "X_val = prepare_X(df_val)\n",
    "y_pred = w_0 + X_val.dot(w)\n",
    "print('validation: ' , rmse(y_val, y_pred))"
   ]
  },
  {
   "cell_type": "markdown",
   "id": "246d49cb-f637-48c3-b7cd-909e36af3cfe",
   "metadata": {},
   "source": [
    "The new features do not help to improve the RMSE"
   ]
  },
  {
   "cell_type": "markdown",
   "id": "660a612c-26f8-4fb7-81f7-77c7258f791b",
   "metadata": {},
   "source": [
    "## Regularization"
   ]
  },
  {
   "cell_type": "markdown",
   "id": "2f5dd203-7858-4455-95e5-0a9307240f4a",
   "metadata": {},
   "source": [
    "* Ridge regression: is a method of estimating the coefficients of multiple regression models in scenarios where the independent variables are highly correlated \n",
    "* One way to do regularizatopn is to add a small number to each diagonal element of the matrix\n",
    "* XTX = X.T.dot(X)\n",
    "* XTX = XTX + 0.01 * np.eye(XTX.shape[0])"
   ]
  },
  {
   "cell_type": "code",
   "execution_count": 55,
   "id": "401e6666-9b32-4813-bed7-433a50edb50b",
   "metadata": {},
   "outputs": [],
   "source": [
    "def train_linear_regression_reg(X, y, r=0.0):\n",
    "    \"\"\"Linear regression with regularization (Risdge Regression)\n",
    "    parameter 'r' controls the amount of regularization\"\"\"\n",
    "    # addind the dummy column\n",
    "    ones = np.ones(X.shape[0])\n",
    "    X = np.column_stack([ones, X])\n",
    "    \n",
    "    # normal equation formula and adding r to the main diagonal\n",
    "    XTX = X.T.dot(X)\n",
    "    reg = r * np.eye(XTX.shape[0])\n",
    "    XTX = XTX + reg\n",
    "    \n",
    "    \n",
    "    XTX_inv = np.linalg.inv(XTX)\n",
    "    w = XTX_inv.dot(X.T).dot(y)\n",
    "    \n",
    "    return w[0], w[1:]"
   ]
  },
  {
   "cell_type": "markdown",
   "id": "79f9ce44-26d2-4913-b7a5-159f6405018c",
   "metadata": {},
   "source": [
    "Let's check what happens with out weights for different values of r"
   ]
  },
  {
   "cell_type": "code",
   "execution_count": 56,
   "id": "20e72a69-9119-4a83-b5c7-a1182b7ff6ef",
   "metadata": {},
   "outputs": [
    {
     "name": "stdout",
     "output_type": "stream",
     "text": [
      "           0, -2765770327625654.00, 11.38, 2765770327623687.00\n",
      "       0.001, 7.20, -0.10, 1.81\n",
      "        0.01, 7.18, -0.10, 1.81\n",
      "         0.1, 7.05, -0.10, 1.78\n",
      "           1, 6.22, -0.10, 1.56\n",
      "          10, 4.39, -0.09, 1.08\n"
     ]
    }
   ],
   "source": [
    "for r in [0, 0.001, 0.01, 0.1, 1, 10]:\n",
    "    w_0, w = train_linear_regression_reg(X_train, y_train, r=r)\n",
    "    print(f'{r:>12}, {w_0:.2f}, {w[13]:.2f}, {w[21]:.2f}')"
   ]
  },
  {
   "cell_type": "code",
   "execution_count": 57,
   "id": "42b3370c-2360-4e64-9474-822c422a7d7e",
   "metadata": {},
   "outputs": [
    {
     "name": "stdout",
     "output_type": "stream",
     "text": [
      "validation:  0.4602267625911618\n"
     ]
    }
   ],
   "source": [
    "X_train = prepare_X(df_train)\n",
    "w_0, w = train_linear_regression_reg(X_train, y_train, 0.001)\n",
    "X_val = prepare_X(df_val)\n",
    "y_pred = w_0 + X_val.dot(w)\n",
    "print('validation: ' , rmse(y_val, y_pred))"
   ]
  },
  {
   "cell_type": "markdown",
   "id": "697718bf-ad83-44e4-90a6-560ae392055b",
   "metadata": {},
   "source": [
    "## Tunning the model, finding the best regularization paramater "
   ]
  },
  {
   "cell_type": "markdown",
   "id": "5afae738-921e-4a90-9400-086e0209f1fc",
   "metadata": {},
   "source": [
    "Trying different parameters for r"
   ]
  },
  {
   "cell_type": "code",
   "execution_count": 58,
   "id": "ba13850d-26c7-4d2a-8fc7-ee3f759cabf0",
   "metadata": {},
   "outputs": [
    {
     "name": "stdout",
     "output_type": "stream",
     "text": [
      "           0 validation: 49.873533583264866\n",
      "       1e-06 validation: 0.4602250777609248\n",
      "      0.0001 validation: 0.46022549097944854\n",
      "       0.001 validation: 0.4602267625911618\n",
      "        0.01 validation: 0.4602394963116553\n",
      "         0.1 validation: 0.46037006958785825\n",
      "           1 validation: 0.46182980426553016\n",
      "           5 validation: 0.4684079627530555\n",
      "          10 validation: 0.4757248100694559\n"
     ]
    }
   ],
   "source": [
    "X_train = prepare_X(df_train)\n",
    "X_val = prepare_X(df_val)\n",
    "\n",
    "for r in [0, 0.000001, 0.0001, 0.001, 0.01, 0.1, 1, 5, 10]:\n",
    "    w_0, w = train_linear_regression_reg(X_train, y_train, r=r)\n",
    "    y_pred = w_0 + X_val.dot(w)\n",
    "    print(f'{r:>12} validation: {rmse(y_val, y_pred)}')"
   ]
  },
  {
   "cell_type": "markdown",
   "id": "30c542a4-dc73-4901-b7ab-1d9bc9235724",
   "metadata": {},
   "source": [
    "Best performance is achieved with a smaller r"
   ]
  },
  {
   "cell_type": "markdown",
   "id": "f4df287e-1127-48fa-a318-1a1326a250ca",
   "metadata": {},
   "source": [
    "The model with r = 0.01 is selected as final model. Now we can check t against the test dataset to verify if the model works"
   ]
  },
  {
   "cell_type": "code",
   "execution_count": 59,
   "id": "c7e426ce-3d7c-4c40-a845-c8e86eab9692",
   "metadata": {},
   "outputs": [
    {
     "name": "stdout",
     "output_type": "stream",
     "text": [
      "validation:  0.4602394963116553\n",
      "test:  0.4571813679433151\n"
     ]
    }
   ],
   "source": [
    "X_train = prepare_X(df_train)\n",
    "w_0, w = train_linear_regression_reg(X_train, y_train, 0.01)\n",
    "\n",
    "X_val = prepare_X(df_val)\n",
    "y_pred = w_0 + X_val.dot(w)\n",
    "print('validation: ' , rmse(y_val, y_pred))\n",
    "\n",
    "X_test = prepare_X(df_test)\n",
    "y_pred = w_0 + X_test.dot(w)\n",
    "print('test: ' , rmse(y_test, y_pred))"
   ]
  },
  {
   "cell_type": "markdown",
   "id": "11c3b603-1811-4ca3-8e9a-af297d4abc36",
   "metadata": {},
   "source": [
    "Because the RMSE scores are pretty close, we conclude that the model can generalize well to the new unseen data"
   ]
  },
  {
   "cell_type": "markdown",
   "id": "26242729-0746-475a-8cf6-257749b1513f",
   "metadata": {},
   "source": [
    "## Using the model"
   ]
  },
  {
   "cell_type": "markdown",
   "id": "d2e8f5d9-2d7e-4c41-9a54-c5380fa6bad7",
   "metadata": {},
   "source": [
    "* Combining the train and validation data sets "
   ]
  },
  {
   "cell_type": "code",
   "execution_count": 60,
   "id": "85a04dbb-c949-4f02-b36e-dcca08dc38e9",
   "metadata": {},
   "outputs": [],
   "source": [
    "df_full_train = pd.concat([df_train, df_val]).reset_index(drop=True)"
   ]
  },
  {
   "cell_type": "code",
   "execution_count": 61,
   "id": "0944e416-c185-47da-a8dc-118aac147b78",
   "metadata": {},
   "outputs": [
    {
     "data": {
      "text/plain": [
       "(9532, 15)"
      ]
     },
     "execution_count": 61,
     "metadata": {},
     "output_type": "execute_result"
    }
   ],
   "source": [
    "df_full_train.shape"
   ]
  },
  {
   "cell_type": "code",
   "execution_count": 62,
   "id": "d5e2197a-3304-4154-aa19-632c1772431b",
   "metadata": {},
   "outputs": [],
   "source": [
    "X_full_train = prepare_X(df_full_train)"
   ]
  },
  {
   "cell_type": "code",
   "execution_count": 63,
   "id": "5c01e2f9-985a-42ac-ab18-094c1c5913a9",
   "metadata": {},
   "outputs": [],
   "source": [
    "y_full_train = np.concatenate([y_train, y_val])"
   ]
  },
  {
   "cell_type": "code",
   "execution_count": 64,
   "id": "43a557ce-f687-4c3b-93f7-420acbc2b098",
   "metadata": {},
   "outputs": [
    {
     "name": "stdout",
     "output_type": "stream",
     "text": [
      "test:  0.4561634423132735\n"
     ]
    }
   ],
   "source": [
    "w_0, w = train_linear_regression_reg(X_full_train, y_full_train, 0.01)\n",
    "X_test = prepare_X(df_test)\n",
    "y_pred = w_0 + X_test.dot(w)\n",
    "print('test: ' , rmse(y_test, y_pred))"
   ]
  },
  {
   "cell_type": "code",
   "execution_count": 65,
   "id": "b6b0c32c-779d-4b67-aefc-fec8c6fe9e9a",
   "metadata": {},
   "outputs": [
    {
     "data": {
      "text/plain": [
       "{'make': 'toyota',\n",
       " 'model': 'venza',\n",
       " 'year': 2013,\n",
       " 'engine_fuel_type': 'regular_unleaded',\n",
       " 'engine_hp': 268.0,\n",
       " 'engine_cylinders': 6.0,\n",
       " 'transmission_type': 'automatic',\n",
       " 'driven_wheels': 'all_wheel_drive',\n",
       " 'number_of_doors': 4.0,\n",
       " 'market_category': 'crossover,performance',\n",
       " 'vehicle_size': 'midsize',\n",
       " 'vehicle_style': 'wagon',\n",
       " 'highway_mpg': 25,\n",
       " 'city_mpg': 18,\n",
       " 'popularity': 2031}"
      ]
     },
     "execution_count": 65,
     "metadata": {},
     "output_type": "execute_result"
    }
   ],
   "source": [
    "i = 2\n",
    "ad = df_test.iloc[i].to_dict()\n",
    "ad"
   ]
  },
  {
   "cell_type": "code",
   "execution_count": 66,
   "id": "52d573fb-8e10-4ebf-9c04-2a22ed417f85",
   "metadata": {},
   "outputs": [
    {
     "name": "stdout",
     "output_type": "stream",
     "text": [
      "28482.583641298574\n"
     ]
    }
   ],
   "source": [
    "X_test = prepare_X(pd.DataFrame([ad]))[0]\n",
    "y_pred = w_0 + X_test.dot(w)\n",
    "suggestion = np.expm1(y_pred)\n",
    "print(suggestion)"
   ]
  },
  {
   "cell_type": "code",
   "execution_count": 67,
   "id": "5c3a6baf-961f-40b4-a9b9-46919fa70b52",
   "metadata": {},
   "outputs": [
    {
     "name": "stdout",
     "output_type": "stream",
     "text": [
      "31119.999999999985\n"
     ]
    }
   ],
   "source": [
    "i = 2\n",
    "price = np.expm1(y_test[i])\n",
    "print(price)"
   ]
  },
  {
   "cell_type": "markdown",
   "id": "1c5aecf0-d711-4c37-98a4-52204f5716e0",
   "metadata": {},
   "source": [
    "Predicted price: 28482.58, real price: 31120"
   ]
  }
 ],
 "metadata": {
  "kernelspec": {
   "display_name": "Python 3 (ipykernel)",
   "language": "python",
   "name": "python3"
  },
  "language_info": {
   "codemirror_mode": {
    "name": "ipython",
    "version": 3
   },
   "file_extension": ".py",
   "mimetype": "text/x-python",
   "name": "python",
   "nbconvert_exporter": "python",
   "pygments_lexer": "ipython3",
   "version": "3.8.10"
  }
 },
 "nbformat": 4,
 "nbformat_minor": 5
}
