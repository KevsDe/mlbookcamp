{
 "cells": [
  {
   "cell_type": "markdown",
   "id": "c71b9c8e-1d6e-44ff-9108-34dcc060f96b",
   "metadata": {},
   "source": [
    "## Credit risk scoring project\n",
    "\n",
    "* We will use machine learning to calculate the risk of default\n",
    "* It is a binary classification problem: The target is positive (\"1\") if the customer defaults and negative (\"0\") otherwise"
   ]
  },
  {
   "cell_type": "code",
   "execution_count": 1,
   "id": "1702af7f-3fd1-4a4c-a61b-8bedb9e7b4fa",
   "metadata": {},
   "outputs": [],
   "source": [
    "import pandas as pd\n",
    "import numpy as np\n",
    "import matplotlib.pyplot as plt\n",
    "%matplotlib inline\n",
    "import seaborn as sns\n",
    "from sklearn.model_selection import train_test_split\n",
    "from sklearn.feature_extraction import DictVectorizer\n",
    "from sklearn.metrics import roc_auc_score\n",
    "import xgboost as xgb"
   ]
  },
  {
   "cell_type": "code",
   "execution_count": 2,
   "id": "e118fcdd-15a6-4944-a67e-ab3d618cd0c0",
   "metadata": {},
   "outputs": [],
   "source": [
    "df = pd.read_csv(\"input/CreditScoring.csv\")"
   ]
  },
  {
   "cell_type": "code",
   "execution_count": 3,
   "id": "d5c8370c-89e9-457c-b7d1-b100aaae1a5e",
   "metadata": {},
   "outputs": [],
   "source": [
    "df.columns = df.columns.str.lower()\n",
    "status_values = {\n",
    "    1: \"ok\",\n",
    "    2:\"default\",\n",
    "    0: \"unk\"\n",
    "}\n",
    "df.status = df.status.map(status_values)\n",
    "\n",
    "home_values = {\n",
    "    1: \"rent\",\n",
    "    2: \"owner\",\n",
    "    3: \"private\",\n",
    "    4: \"ignore\",\n",
    "    5: \"parents\",\n",
    "    6: \"others\",\n",
    "    0: \"unk\"\n",
    "}\n",
    "\n",
    "df.home = df.home.map(home_values)\n",
    "\n",
    "marital_values = {\n",
    "    1: \"single\",\n",
    "    2: \"married\",\n",
    "    3: \"widow\",\n",
    "    4: \"separated\",\n",
    "    5: \"divorced\",\n",
    "    0: \"unk\"\n",
    "}\n",
    "\n",
    "df.marital = df.marital.map(marital_values)\n",
    "\n",
    "records_values = {\n",
    "    1: \"no\",\n",
    "    2: \"yes\",\n",
    "    0: \"unk\"\n",
    "}\n",
    "\n",
    "df.records = df.records.map(records_values)\n",
    "\n",
    "job_values = {\n",
    "    1: \"fixed\",\n",
    "    2: \"parttime\",\n",
    "    3: \"freelance\",\n",
    "    4: \"others\",\n",
    "    0: \"unk\"\n",
    "}\n",
    "\n",
    "df.job = df.job.map(job_values)\n",
    "\n",
    "for idx in [\"income\", \"assets\", \"debt\"]:\n",
    "    df[idx] = df[idx].replace(99999999, np.nan)\n",
    "    \n",
    "df = df[df[\"status\"] != \"unk\"].reset_index(drop=True)"
   ]
  },
  {
   "cell_type": "code",
   "execution_count": 4,
   "id": "746e88e3-24f3-4472-935e-92224b9b8ee3",
   "metadata": {},
   "outputs": [],
   "source": [
    "df_train_full, df_test = train_test_split(df, test_size=0.2, random_state=11)\n",
    "df_test = df_test.reset_index(drop=True)\n",
    "df_train_full = df_train_full.reset_index(drop=True)\n",
    "df_test = df_test.reset_index(drop=True)"
   ]
  },
  {
   "cell_type": "code",
   "execution_count": 5,
   "id": "c9a507d4-4748-4d40-b376-cfc57bec2bbf",
   "metadata": {},
   "outputs": [
    {
     "data": {
      "text/plain": [
       "(3563, 14)"
      ]
     },
     "execution_count": 5,
     "metadata": {},
     "output_type": "execute_result"
    }
   ],
   "source": [
    "df_train_full.shape"
   ]
  },
  {
   "cell_type": "code",
   "execution_count": 6,
   "id": "f4c51297-82c6-4235-9f8e-af01dedddcdf",
   "metadata": {},
   "outputs": [],
   "source": [
    "df_train_full, df_test = train_test_split(df, test_size=0.2, random_state=11)\n",
    "df_test = df_test.reset_index(drop=True)\n",
    "df_train_full = df_train_full.reset_index(drop=True)\n",
    "df_test = df_test.reset_index(drop=True)\n",
    "y_test = (df_test.status == \"default\").astype(\"int\").values\n",
    "y_train_full = (df_train_full.status == 'default').astype(\"int\").values\n",
    "del df_test[\"status\"]\n",
    "del df_train_full['status']\n",
    "df_train_full = df_train_full.fillna(0)\n",
    "df_test = df_test.fillna(0)\n",
    "dicts_full_train = df_train_full.to_dict(orient='records')\n",
    "dicts_test = df_test.to_dict(orient='records')"
   ]
  },
  {
   "cell_type": "code",
   "execution_count": 7,
   "id": "390cf256-893f-404d-b41f-1ece1f4da0e6",
   "metadata": {},
   "outputs": [],
   "source": [
    "dv = DictVectorizer(sparse=False)\n",
    "X_train_full = dv.fit_transform(dicts_full_train)\n",
    "X_test = dv.transform(dicts_test)\n"
   ]
  },
  {
   "cell_type": "code",
   "execution_count": 8,
   "id": "8c450fc0-690e-450e-9381-0e848f9b413e",
   "metadata": {},
   "outputs": [],
   "source": [
    "dfull_train = xgb.DMatrix(X_train_full, label=y_train_full)\n",
    "dtest = xgb.DMatrix(X_test) # We do not need label here, because we wont use this for testing, we will evaluate it with scikit-learn"
   ]
  },
  {
   "cell_type": "code",
   "execution_count": 9,
   "id": "33dd4251-8596-4f09-90f3-8b13349bdad2",
   "metadata": {},
   "outputs": [
    {
     "data": {
      "text/plain": [
       "0.8327366697619862"
      ]
     },
     "execution_count": 9,
     "metadata": {},
     "output_type": "execute_result"
    }
   ],
   "source": [
    "xgb_params = {\n",
    "    'eta': 0.1,\n",
    "    'max_depth': 3, \n",
    "    'min_child_weight': 1,\n",
    "    \n",
    "    'objective': 'binary:logistic',\n",
    "    'eval_metric': 'auc',\n",
    "    'nthread':8,\n",
    "    'seed': 1,\n",
    "    'verbosity': 1\n",
    "\n",
    "}\n",
    "\n",
    "model = xgb.train(xgb_params, dfull_train, num_boost_round=180)\n",
    "y_pred = model.predict(dtest)\n",
    "roc_auc_score(y_test, y_pred)"
   ]
  },
  {
   "cell_type": "markdown",
   "id": "b77becf6-8a33-4583-92e4-ee308a118dec",
   "metadata": {},
   "source": [
    "## bentoml"
   ]
  },
  {
   "cell_type": "code",
   "execution_count": 10,
   "id": "5d531d58-c56c-48fb-9a4f-ada02e2fbf99",
   "metadata": {},
   "outputs": [
    {
     "name": "stdout",
     "output_type": "stream",
     "text": [
      "bentoml, version 1.0.7\n"
     ]
    }
   ],
   "source": [
    "!bentoml --version"
   ]
  },
  {
   "cell_type": "markdown",
   "id": "422b3217-c48f-41f7-87b0-c2a3c6414305",
   "metadata": {},
   "source": [
    "bentoml.\"framekwork\".save_model(\"model name\", model) <br>\n",
    "bentoml serve service.py:svc --reload #Run the service "
   ]
  },
  {
   "cell_type": "code",
   "execution_count": 19,
   "id": "c69ee020-598a-43a7-bffa-2d60968da92e",
   "metadata": {},
   "outputs": [
    {
     "data": {
      "text/plain": [
       "Model(tag=\"credit_risk_model:ujcthwstb2inkaav\", path=\"/home/kevin/bentoml/models/credit_risk_model/ujcthwstb2inkaav/\")"
      ]
     },
     "execution_count": 19,
     "metadata": {},
     "output_type": "execute_result"
    }
   ],
   "source": [
    "import bentoml\n",
    "bentoml.xgboost.save_model(\"credit_risk_model\", model,\n",
    "                          custom_objects = {\n",
    "                              \"dictVectorizer\": dv\n",
    "                        },\n",
    "                        signatures={\n",
    "                            \"predict\":{\n",
    "                                \"batchable\": True,\n",
    "                                \"batch_dim\": 0,\n",
    "                            }\n",
    "                        }\n",
    ")"
   ]
  },
  {
   "cell_type": "code",
   "execution_count": 12,
   "id": "c850cf08-7eeb-4ded-b4b8-c57f9164fcb9",
   "metadata": {},
   "outputs": [
    {
     "data": {
      "text/plain": [
       "{'seniority': 22,\n",
       " 'home': 'owner',\n",
       " 'time': 48,\n",
       " 'age': 48,\n",
       " 'marital': 'married',\n",
       " 'records': 'no',\n",
       " 'job': 'fixed',\n",
       " 'expenses': 60,\n",
       " 'income': 110.0,\n",
       " 'assets': 3000.0,\n",
       " 'debt': 0.0,\n",
       " 'amount': 1000,\n",
       " 'price': 1460}"
      ]
     },
     "execution_count": 12,
     "metadata": {},
     "output_type": "execute_result"
    }
   ],
   "source": [
    "df_train_full.iloc[0].to_dict()"
   ]
  },
  {
   "cell_type": "code",
   "execution_count": 13,
   "id": "e9d67b02-7f4d-4301-b1d5-80823dea2d4b",
   "metadata": {},
   "outputs": [
    {
     "data": {
      "text/plain": [
       "{'seniority': 22,\n",
       " 'home': 'owner',\n",
       " 'time': 48,\n",
       " 'age': 48,\n",
       " 'marital': 'married',\n",
       " 'records': 'no',\n",
       " 'job': 'fixed',\n",
       " 'expenses': 60,\n",
       " 'income': 110.0,\n",
       " 'assets': 3000.0,\n",
       " 'debt': 0.0,\n",
       " 'amount': 1000,\n",
       " 'price': 1460}"
      ]
     },
     "execution_count": 13,
     "metadata": {},
     "output_type": "execute_result"
    }
   ],
   "source": [
    " {\"seniority\": 22,\n",
    " \"home\": \"owner\",\n",
    " \"time\": 48,\n",
    " \"age\": 48,\n",
    " \"marital\": \"married\",\n",
    " \"records\": \"no\",\n",
    " \"job\": \"fixed\",\n",
    " \"expenses\": 60,\n",
    " \"income\": 110.0,\n",
    " \"assets\": 3000.0,\n",
    " \"debt\": 0.0,\n",
    " \"amount\": 1000,\n",
    " \"price\": 1460}"
   ]
  },
  {
   "cell_type": "code",
   "execution_count": null,
   "id": "e4ff1cd1-420e-4794-a467-92f50a254514",
   "metadata": {},
   "outputs": [],
   "source": []
  }
 ],
 "metadata": {
  "kernelspec": {
   "display_name": "Python 3 (ipykernel)",
   "language": "python",
   "name": "python3"
  },
  "language_info": {
   "codemirror_mode": {
    "name": "ipython",
    "version": 3
   },
   "file_extension": ".py",
   "mimetype": "text/x-python",
   "name": "python",
   "nbconvert_exporter": "python",
   "pygments_lexer": "ipython3",
   "version": "3.8.10"
  }
 },
 "nbformat": 4,
 "nbformat_minor": 5
}
